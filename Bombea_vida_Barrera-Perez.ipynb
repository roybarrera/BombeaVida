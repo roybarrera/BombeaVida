{
 "cells": [
  {
   "cell_type": "markdown",
   "metadata": {},
   "source": [
    "# Universidad del Desarrollo\n",
    "## Magister en Data Science  2019-2020\n",
    "---\n",
    "###  MACHINE LEARNING AVANZADO \n",
    "#### Profesores : Francisco Altimiras, José Garcia\n",
    "---\n",
    "### Proyecto <font color='blue'>!!! Bombea Vida !!!</font>\n",
    "#### Alumnos  : Roy Barrera, José Pérez."
   ]
  },
  {
   "cell_type": "markdown",
   "metadata": {},
   "source": [
    "---\n",
    "## Presentación\n",
    "\n",
    "El presente proyecto surge de una competencia abierta en Driven Data : https://www.drivendata.org/competitions/7/pump-it-up-data-mining-the-water-table/.\n",
    "\n",
    "Este proyecto se presentó para la asignatura : __Taller de Proyecto Aplicado__, con la profesora _Loreto Bravo_ (Enero a Marzo de 2020), pero con un alcance diferente.   Se desarrolló la carga de los datos, el analisis de las características y la aplicación de técnicas de Machine Learning para generar 5 modelos de basados en regresión Lineal y árboles de decisión  para posteriormente comparar sus resultados.   Quedó fuera del alcance, pero enunciado como un posible \"trabajo futuro\" el desarrollo de nuevos modelos basados en enfoques diferentes.\n",
    "\n",
    "Para la asignatura de __Machine Learning Avanzado__, con los profesores __Francisco Altimiras__ y __José García__,  nos gustaría señalar que los modelos basados en árboles que se mencionan en el párrafo anterior son : __XGBoost Classifier__, __LGBM Classifier__ y __Balanced Bagging Classifier__.  Estos corresponden a aprendizajes obtenidos del desarrollo de la experiencia práctica número 1 de Machine Learning Avanzado : \"__Desafío Churn__\";  por esta razón nos ha parecido interesante _APROVECHAR_ lo ya construido y _COMPLEMENTARLO_ desarrollando un nuevo modelo predicitivo, basado esta vez en __Redes Neuronales__\n",
    "\n",
    "Con esta motivación sometemos nuestro trabajo a vuestra consideración.\n"
   ]
  },
  {
   "cell_type": "markdown",
   "metadata": {},
   "source": [
    "## Resumen\n",
    "\n",
    "El objetivo de la competencia es predecir el estado de operacion actual de las bombas de agua que surten de dicho elemento a las distintas comunidades y poblaciones del territorio de Tanzania.   Este Jupyter-Notebook busca implementar modelos predictivos para resolver el desafío planteado.\n",
    "\n",
    "Contamos con un 59400 muestras y 40 variables; el resultado esperado puede ser : __Functional__, __Functional needs repairs__ y __Non Functional__.\n",
    "\n",
    "El desarrollo de este Jupyter-Notebook consta de las siguientes secciones :\n"
   ]
  },
  {
   "cell_type": "markdown",
   "metadata": {},
   "source": [
    "## <a> Índice</a>\n",
    "\n",
    "- <a href='#1'>1. Exploración y manipulación del DataSet</a>\n",
    "- <a href='#2'>2. Modelamiento</a>\n",
    "    - <a href='#2.1'>2.1. Regresión Logística</a>\n",
    "    - <a href='#2.2'>2.2. Regresión Logística usando SMOTE</a>\n",
    "    - <a href='#2.3'>2.3. LGBM Classifier</a>\n",
    "    - <a href='#2.4'>2.4. XGBoost Classifier</a>\n",
    "    - <a href='#2.5'>2.5. Balanced Bagging Classifier</a>\n",
    "    - <a href='#2.6'>2.6. Neural Networks</a>  <font color='red' type='bold'> Nuevo! (para Machine Learning Avanzado) </font>\n",
    "- <a href='#3'>3. Rendimiento de los modelos</a>  \n",
    "    - <a href='#3.1'>3.1. Comparación de métricas</a>\n",
    "    - <a href='#3.2'>3.2. Matrices de confusión de los modelos</a>\n",
    "- <a href='#4'>4. Conclusión</a>    \n",
    "- <a href='#5'>5. Predicción</a>    "
   ]
  },
  {
   "cell_type": "markdown",
   "metadata": {},
   "source": [
    "# <a id='1'>1. Exploración y manipulación del DataSet</a>\n"
   ]
  },
  {
   "cell_type": "markdown",
   "metadata": {},
   "source": [
    "### Contamos con la siguiente información acerca de las bombas de agua :\n",
    "\n",
    " | # | Name | Description | Spanish translation | \n",
    " | --- | --- | --- | --- | \n",
    " | 01 | Id | Identification | Identificador de la bomba | \n",
    " | 02 | amount_tsh | Amount of water available to the waterpoint. | Cantidad de agua disponible para el punto de agua. | \n",
    " | 03 | date_recorded | Date of entry. | Fecha de entrada | \n",
    " | 04 | funder | Person who funded the well | Persona que financió el pozo | \n",
    " | 05 | gps_height | Altitude of the well | Altitud del pozo (Coordenada GPS) | \n",
    " | 06 | installer | Organization that installed the well | Organización que instaló el pozo | \n",
    " | 07 | longitude | GPS Longitudinal coordinate | Longitud del pozo (Coordenada GPS) | \n",
    " | 08 | latitude | GPS Latitudinal coordinate | Latitud del pozo (Coordenada GPS) | \n",
    " | 09 | wpt_name | Name of the waterpoint | Nombre del punto de agua (Si es que existe) | \n",
    " | 10 | num_private | Private number | Número privado | \n",
    " | 11 | basin | Geographic water basin | Cuenca hidrográfica geográfica | \n",
    " | 12 | subvillage | Geographic location | Ubicación geográfica (Pueblo o Aldea de Tanzania) | \n",
    " | 13 | region | Geographic location | Ubicación geográfica (Región de Tanzania) | \n",
    " | 14 | region_code | Geographic location code | Código de ubicación geográfica (codigo región)| \n",
    " | 15 | district_code | Geographic location code | Código de ubicación geográfica (código del distrito) | \n",
    " | 16 | lga | Geographic location | Ubicación geográfica | \n",
    " | 17 | ward | Geographic location | Ubicación geográfica | \n",
    " | 18 | population | Population around the well | Población alrededor del pozo | \n",
    " | 19 | public_meeting | True/False | Verdadero / Falso | \n",
    " | 20 | recorded_by | Person entering the data | Persona (u organismo) que ingresa los datos | \n",
    " | 21 | scheme_management | One who operates the waterpoint | Quién opera (administra) el punto de agua | \n",
    " | 22 | scheme_name | Who operates the waterpoint | Quién opera (administra) el punto de agua | \n",
    " | 23 | permit | If a permit exists for the waterpoint or not | Si existe un permiso para el punto de agua o no | \n",
    " | 24 | construction_year | Year of construction of the water-point | Año de construcción del punto de agua | \n",
    " | 25 | extraction_type | Kind of extraction that the water-point uses | Tipo de extracción que utiliza el punto de agua | \n",
    " | 26 | extraction_type_group | Kind of extraction that the water-point uses | Tipo de extracción que utiliza el punto de agua | \n",
    " | 27 | extraction_type_class | Kind of extraction that the water-point uses | Tipo de extracción que utiliza el punto de agua | \n",
    " | 28 | management | How the waterpoint is managed | Cómo se gestiona (administra) el punto de agua | \n",
    " | 29 | management_group | How the waterpoint is managed | Cómo se gestiona (administra) el punto de agua | \n",
    " | 30 | payment | What the water costs | Lo que cuesta el agua | \n",
    " | 31 | payment_type | What the water costs | Lo que cuesta el agua | \n",
    " | 32 | water_quality | Quality of the water | Calidad del agua | \n",
    " | 33 | quality_group | The quality of the water | Calidad del agua | \n",
    " | 34 | quantity | The quantity of water | Cantidad de agua | \n",
    " | 35 | quantity_group | The quantity of water | Cantidad de agua | \n",
    " | 36 | source | Source of water | La fuente de agua | \n",
    " | 37 | source_type | The source of water | La fuente de agua | \n",
    " | 38 | source_class | The source of water | La fuente de agua | \n",
    " | 39 | waterpoint_type | The kind of waterpoint | El tipo de punto de agua | \n",
    " | 40 | waterpoint_type_group | The kind of waterpoint | El tipo de punto de agua | \n",
    "\n",
    "### Valores posibles para definir el estado operacional de una bomba :\n",
    " \n",
    " | # | status | description | spanish |\n",
    " | --- | --- | --- | --- |\n",
    " | 1 | functional | the waterpoint is operational and there are no repairs needed | bomba en funcionamiento |\n",
    " | 2 | functional needs repair | the waterpoint is operational, but needs repairs | bomba funcionando pero necesita reparaciones |\n",
    " | 3 | non functional | the waterpoint is not operational | bomba no funciona |\n",
    "\n",
    "\n"
   ]
  },
  {
   "cell_type": "markdown",
   "metadata": {},
   "source": [
    "---"
   ]
  },
  {
   "cell_type": "code",
   "execution_count": 1,
   "metadata": {},
   "outputs": [],
   "source": [
    "# Se importa la libreria pandas\n",
    "import pandas as pd\n",
    "\n",
    "# Se leen los dataset\n",
    "# Dataset con universo de variables recolectadas (no considera la variable objetivo)\n",
    "df_01=pd.read_csv('03_dataset_training.csv', sep=',')\n",
    "# Dataset con variable objetivo\n",
    "df_02=pd.read_csv('04_salidas_del_training.csv', sep=',')\n",
    "\n",
    "def ve_df(df):\n",
    "    print (\"# Muestras       : {:>7}\".format(df.shape[0]))\n",
    "    print (\"# Variables      : {:>7}\".format(df.shape[1]), \"\\n\")\n",
    "    print (\"Variables        : \\n\" ,df.columns.tolist())\n",
    "    print (\"\\n# Muestras  con  nulos    : {:>6}\".format(df.isnull().sum().values.sum()))\n",
    "    print (\"\\nValores únicos x variable :  \")\n",
    "    print (df.nunique())\n"
   ]
  },
  {
   "cell_type": "code",
   "execution_count": 2,
   "metadata": {},
   "outputs": [
    {
     "name": "stdout",
     "output_type": "stream",
     "text": [
      "Revisando Dataset : Training \n",
      "-----------------------------\n",
      "# Muestras       :   59400\n",
      "# Variables      :      40 \n",
      "\n",
      "Variables        : \n",
      " ['id', 'amount_tsh', 'date_recorded', 'funder', 'gps_height', 'installer', 'longitude', 'latitude', 'wpt_name', 'num_private', 'basin', 'subvillage', 'region', 'region_code', 'district_code', 'lga', 'ward', 'population', 'public_meeting', 'recorded_by', 'scheme_management', 'scheme_name', 'permit', 'construction_year', 'extraction_type', 'extraction_type_group', 'extraction_type_class', 'management', 'management_group', 'payment', 'payment_type', 'water_quality', 'quality_group', 'quantity', 'quantity_group', 'source', 'source_type', 'source_class', 'waterpoint_type', 'waterpoint_type_group']\n",
      "\n",
      "# Muestras  con  nulos    :  46094\n",
      "\n",
      "Valores únicos x variable :  \n",
      "id                       59400\n",
      "amount_tsh                  98\n",
      "date_recorded              356\n",
      "funder                    1897\n",
      "gps_height                2428\n",
      "installer                 2145\n",
      "longitude                57516\n",
      "latitude                 57517\n",
      "wpt_name                 37400\n",
      "num_private                 65\n",
      "basin                        9\n",
      "subvillage               19287\n",
      "region                      21\n",
      "region_code                 27\n",
      "district_code               20\n",
      "lga                        125\n",
      "ward                      2092\n",
      "population                1049\n",
      "public_meeting               2\n",
      "recorded_by                  1\n",
      "scheme_management           12\n",
      "scheme_name               2696\n",
      "permit                       2\n",
      "construction_year           55\n",
      "extraction_type             18\n",
      "extraction_type_group       13\n",
      "extraction_type_class        7\n",
      "management                  12\n",
      "management_group             5\n",
      "payment                      7\n",
      "payment_type                 7\n",
      "water_quality                8\n",
      "quality_group                6\n",
      "quantity                     5\n",
      "quantity_group               5\n",
      "source                      10\n",
      "source_type                  7\n",
      "source_class                 3\n",
      "waterpoint_type              7\n",
      "waterpoint_type_group        6\n",
      "dtype: int64\n"
     ]
    }
   ],
   "source": [
    "print (\"Revisando Dataset : Training \\n-----------------------------\");    \n",
    "ve_df(df_01)"
   ]
  },
  {
   "cell_type": "code",
   "execution_count": 3,
   "metadata": {},
   "outputs": [
    {
     "name": "stdout",
     "output_type": "stream",
     "text": [
      "Revisando Dataset : Salidas del Training\n",
      "# Muestras       :   59400\n",
      "# Variables      :       2 \n",
      "\n",
      "Variables        : \n",
      " ['id', 'status_group']\n",
      "\n",
      "# Muestras  con  nulos    :      0\n",
      "\n",
      "Valores únicos x variable :  \n",
      "id              59400\n",
      "status_group        3\n",
      "dtype: int64\n"
     ]
    }
   ],
   "source": [
    "print (\"Revisando Dataset : Salidas del Training\");    \n",
    "ve_df(df_02)"
   ]
  },
  {
   "cell_type": "code",
   "execution_count": 4,
   "metadata": {},
   "outputs": [],
   "source": [
    "import seaborn as sns\n",
    "df_labels=df_02.copy()"
   ]
  },
  {
   "cell_type": "code",
   "execution_count": 5,
   "metadata": {},
   "outputs": [
    {
     "data": {
      "text/plain": [
       "<matplotlib.axes._subplots.AxesSubplot at 0xc1235c0>"
      ]
     },
     "execution_count": 5,
     "metadata": {},
     "output_type": "execute_result"
    },
    {
     "data": {
      "image/png": "[encoded data removed]",
      "text/plain": [
       "<Figure size 432x288 with 1 Axes>"
      ]
     },
     "metadata": {
      "needs_background": "light"
     },
     "output_type": "display_data"
    }
   ],
   "source": [
    "palette=[sns.color_palette()[0],sns.color_palette()[2],sns.color_palette()[1]]\n",
    "df_labels.status_group.value_counts().plot(kind='barh', color=palette)"
   ]
  },
  {
   "cell_type": "markdown",
   "metadata": {},
   "source": [
    "__Nota 1__ : ya se puede apreciar que hay un desbalanceo de las clases.  Predominan Funcional y Non Funcional."
   ]
  },
  {
   "cell_type": "code",
   "execution_count": 6,
   "metadata": {},
   "outputs": [],
   "source": [
    "import matplotlib.pyplot as plt\n",
    "df_orig = df_01.copy()"
   ]
  },
  {
   "cell_type": "code",
   "execution_count": 7,
   "metadata": {},
   "outputs": [
    {
     "data": {
      "image/png": "[encoded data removed]",
      "text/plain": [
       "<Figure size 432x288 with 1 Axes>"
      ]
     },
     "metadata": {
      "needs_background": "light"
     },
     "output_type": "display_data"
    }
   ],
   "source": [
    "df_orig.construction_year=pd.to_numeric(df_orig.construction_year)\n",
    "df_orig.loc[df_orig.construction_year <= 0, df_orig.columns=='construction_year'] = 1950\n",
    "\n",
    "hist1=df_orig[df_labels.status_group == 'functional'].construction_year\n",
    "hist2=df_orig[df_labels.status_group == 'functional needs repair'].construction_year\n",
    "hist3=df_orig[df_labels.status_group == 'non functional'].construction_year\n",
    "\n",
    "n,b,p=plt.hist([hist1, hist2, hist3], stacked=True,range=[1950,2010])\n",
    "plt.legend(['functional','functional needs repair','non functional'],loc=0)\n",
    "plt.text(1952, 15000,'SIN DATOS',fontsize=20,rotation=90,color='white')\n",
    "plt.xlabel('Año de Construcción', fontsize=18)\n",
    "\n",
    "sns.despine()"
   ]
  },
  {
   "cell_type": "code",
   "execution_count": 8,
   "metadata": {},
   "outputs": [],
   "source": [
    "#factorstoplot=['payment','water_quality','source_class','scheme_management','waterpoint_type_group']\n",
    "\n",
    "#for i in range(1,len(factorstoplot)+1):\n",
    "#    df_orig['status'] = pd.Series(df_labels.status_group)\n",
    "#    thisFactor=factorstoplot[i-1]\n",
    "#    sumfactor=df_orig.groupby([thisFactor]).status.count()\n",
    "#    temp=pd.DataFrame(df_orig.groupby([thisFactor]).status.value_counts()/sumfactor)\n",
    "#    temp['status']=temp.index.get_level_values('status')\n",
    "#    temp['source']=temp.index.get_level_values(thisFactor)\n",
    "#    temp.columns=['n','status',thisFactor]\n",
    "#    temp=temp.pivot(index=thisFactor, columns='status', values='n')\n",
    "#    temp['tot']=temp.sum(axis=1)\n",
    "#    temp.sort_values(by='tot', ascending=True)[['functional','functional needs repair','non functional']].plot(kind='barh', stacked='True', color=sns.color_palette(), fontsize=15,legend=False)\n",
    "#    plt.legend( loc='upper right', bbox_to_anchor=(1.9, 0.5),fontsize=15)\n",
    "#    plt.ylabel(thisFactor, fontsize=23)"
   ]
  },
  {
   "cell_type": "code",
   "execution_count": 9,
   "metadata": {},
   "outputs": [
    {
     "name": "stdout",
     "output_type": "stream",
     "text": [
      "Atributos con valores Nulos o No informados :\n",
      "['funder', 'installer', 'subvillage', 'public_meeting', 'scheme_management', 'scheme_name', 'permit']\n"
     ]
    }
   ],
   "source": [
    "# Se identifican todas las variables con muestras que contengan valores nulos.\n",
    "def var_null(df):\n",
    "    lvar_null = [i for i in df.columns if df[i].isnull().sum() > 0]\n",
    "    return lvar_null\n",
    "\n",
    "print(\"Atributos con valores Nulos o No informados :\")\n",
    "print(var_null(df_01))\n"
   ]
  },
  {
   "cell_type": "code",
   "execution_count": 10,
   "metadata": {},
   "outputs": [
    {
     "name": "stdout",
     "output_type": "stream",
     "text": [
      "los Valores Nulos se reemplazaron por el texto 'No_informado' \n"
     ]
    }
   ],
   "source": [
    "# Se reemplazan los valores nulos\n",
    "def reemplaza_null(df, lvar, valor):\n",
    "    for var in lvar:\n",
    "        df[var].fillna(valor, inplace = True)\n",
    "\n",
    "reemplaza_null(df_01, var_null(df_01), 'No_informado')\n",
    "print(\"los Valores Nulos se reemplazaron por el texto 'No_informado' \")"
   ]
  },
  {
   "cell_type": "code",
   "execution_count": 11,
   "metadata": {},
   "outputs": [
    {
     "name": "stdout",
     "output_type": "stream",
     "text": [
      "                 id     amount_tsh  date_recorded        funder    gps_height  \\\n",
      "count  59400.000000   59400.000000   59400.000000  59400.000000  59400.000000   \n",
      "mean   37115.131768     317.650385     179.633350    853.604983    668.297239   \n",
      "std    21453.128371    2997.574558     108.824478    561.879176    693.116350   \n",
      "min        0.000000       0.000000       0.000000      0.000000    -90.000000   \n",
      "25%    18519.750000       0.000000      65.000000    446.000000      0.000000   \n",
      "50%    37061.500000       0.000000     195.000000    657.500000    369.000000   \n",
      "75%    55656.500000      20.000000     284.000000   1319.000000   1319.250000   \n",
      "max    74247.000000  350000.000000     355.000000   1897.000000   2770.000000   \n",
      "\n",
      "          installer     longitude      latitude      wpt_name   num_private  \\\n",
      "count  59400.000000  59400.000000  5.940000e+04  59400.000000  59400.000000   \n",
      "mean     777.257694     34.077427 -5.706033e+00  21102.431953      0.474141   \n",
      "std      566.785713      6.567432  2.946019e+00  12013.296586     12.236230   \n",
      "min        0.000000      0.000000 -1.164944e+01      0.000000      0.000000   \n",
      "25%      390.000000     33.090347 -8.540621e+00  10124.750000      0.000000   \n",
      "50%      480.500000     34.908743 -5.021597e+00  22249.500000      0.000000   \n",
      "75%     1297.000000     37.178387 -3.326156e+00  32533.250000      0.000000   \n",
      "max     2145.000000     40.345193 -2.000000e-08  37399.000000   1776.000000   \n",
      "\n",
      "       ...  payment_type  water_quality  quality_group      quantity  \\\n",
      "count  ...  59400.000000   59400.000000   59400.000000  59400.000000   \n",
      "mean   ...      2.842104       5.754293       2.263047      1.325758   \n",
      "std    ...      1.836111       0.900820       0.784268      0.803750   \n",
      "min    ...      0.000000       0.000000       0.000000      0.000000   \n",
      "25%    ...      2.000000       6.000000       2.000000      1.000000   \n",
      "50%    ...      2.000000       6.000000       2.000000      1.000000   \n",
      "75%    ...      5.000000       6.000000       2.000000      2.000000   \n",
      "max    ...      6.000000       7.000000       5.000000      4.000000   \n",
      "\n",
      "       quantity_group        source   source_type  source_class  \\\n",
      "count    59400.000000  59400.000000  59400.000000  59400.000000   \n",
      "mean         1.325758      6.063199      3.970556      0.233737   \n",
      "std          0.803750      2.034190      2.191798      0.434129   \n",
      "min          0.000000      0.000000      0.000000      0.000000   \n",
      "25%          1.000000      5.000000      3.000000      0.000000   \n",
      "50%          1.000000      7.000000      5.000000      0.000000   \n",
      "75%          2.000000      8.000000      6.000000      0.000000   \n",
      "max          4.000000      9.000000      6.000000      2.000000   \n",
      "\n",
      "       waterpoint_type  waterpoint_type_group  \n",
      "count     59400.000000           59400.000000  \n",
      "mean          2.574091               2.056212  \n",
      "std           1.781438               1.378937  \n",
      "min           0.000000               0.000000  \n",
      "25%           1.000000               1.000000  \n",
      "50%           2.000000               1.000000  \n",
      "75%           4.000000               3.000000  \n",
      "max           6.000000               5.000000  \n",
      "\n",
      "[8 rows x 40 columns]\n",
      "<class 'pandas.core.frame.DataFrame'>\n",
      "RangeIndex: 59400 entries, 0 to 59399\n",
      "Data columns (total 2 columns):\n",
      "id              59400 non-null int64\n",
      "status_group    59400 non-null category\n",
      "dtypes: category(1), int64(1)\n",
      "memory usage: 522.2 KB\n",
      "None\n"
     ]
    }
   ],
   "source": [
    "# Reemplazo de variables tipo objeto por variables categóricas\n",
    "\n",
    "def obj_2_cat(df,cat_codes=True):\n",
    "    # Se identifican las variables tipo object\n",
    "    l_v_obj = []\n",
    "    l_v_obj = list(df.select_dtypes(['O']).columns)\n",
    "\n",
    "    if len(l_v_obj) > 0:\n",
    "        # Conversión de variables tipo object a tipo category\n",
    "        df[l_v_obj] = df[l_v_obj].astype(\"category\")\n",
    "\n",
    "        # Se reemplazan los textos de las variables categóricas, por su valor de categoría.\n",
    "        if cat_codes == True:\n",
    "            for var in l_v_obj:\n",
    "                df[var]  = df[var].cat.codes\n",
    "\n",
    "obj_2_cat(df_01)\n",
    "obj_2_cat(df_02,cat_codes=False)\n",
    "print(df_01.describe())\n",
    "print(df_02.info())"
   ]
  },
  {
   "cell_type": "code",
   "execution_count": 12,
   "metadata": {},
   "outputs": [],
   "source": [
    "# Selección de las variables predictoras a elegir\n",
    "\n",
    "lvar_pred = ['amount_tsh','funder',   \n",
    "             'region_code','district_code',\n",
    "              'public_meeting','scheme_management','permit','construction_year',\n",
    "             'extraction_type','extraction_type_group','extraction_type_class',\n",
    "             'management_group','water_quality','quality_group','quantity','source_class',\n",
    "             'waterpoint_type']\n",
    "\n",
    "var_objet = ['status_group']\n",
    "\n",
    "df_03 = df_01[lvar_pred]\n",
    "df_04 = df_02[var_objet]\n",
    "\n"
   ]
  },
  {
   "cell_type": "code",
   "execution_count": 13,
   "metadata": {},
   "outputs": [
    {
     "name": "stdout",
     "output_type": "stream",
     "text": [
      "Dataset reducido (menos variables)\n",
      "----------------------------------\n",
      "# Muestras       :   59400\n",
      "# Variables      :      17 \n",
      "\n",
      "Variables        : \n",
      " ['amount_tsh', 'funder', 'region_code', 'district_code', 'public_meeting', 'scheme_management', 'permit', 'construction_year', 'extraction_type', 'extraction_type_group', 'extraction_type_class', 'management_group', 'water_quality', 'quality_group', 'quantity', 'source_class', 'waterpoint_type']\n",
      "\n",
      "# Muestras  con  nulos    :      0\n",
      "\n",
      "Valores únicos x variable :  \n",
      "amount_tsh                 98\n",
      "funder                   1898\n",
      "region_code                27\n",
      "district_code              20\n",
      "public_meeting              3\n",
      "scheme_management          13\n",
      "permit                      3\n",
      "construction_year          55\n",
      "extraction_type            18\n",
      "extraction_type_group      13\n",
      "extraction_type_class       7\n",
      "management_group            5\n",
      "water_quality               8\n",
      "quality_group               6\n",
      "quantity                    5\n",
      "source_class                3\n",
      "waterpoint_type             7\n",
      "dtype: int64\n"
     ]
    }
   ],
   "source": [
    "print('Dataset reducido (menos variables)')\n",
    "print('----------------------------------')\n",
    "ve_df(df_03)\n"
   ]
  },
  {
   "cell_type": "code",
   "execution_count": 14,
   "metadata": {},
   "outputs": [
    {
     "name": "stdout",
     "output_type": "stream",
     "text": [
      "Predicciones\n",
      "------------\n",
      "# Muestras       :   59400\n",
      "# Variables      :       1 \n",
      "\n",
      "Variables        : \n",
      " ['status_group']\n",
      "\n",
      "# Muestras  con  nulos    :      0\n",
      "\n",
      "Valores únicos x variable :  \n",
      "status_group    3\n",
      "dtype: int64\n"
     ]
    }
   ],
   "source": [
    "print('Predicciones')\n",
    "print('------------')\n",
    "ve_df(df_04)"
   ]
  },
  {
   "cell_type": "code",
   "execution_count": 15,
   "metadata": {},
   "outputs": [
    {
     "data": {
      "text/html": [
       "        <script type=\"text/javascript\">\n",
       "        window.PlotlyConfig = {MathJaxConfig: 'local'};\n",
       "        if (window.MathJax) {MathJax.Hub.Config({SVG: {font: \"STIX-Web\"}});}\n",
       "        if (typeof require !== 'undefined') {\n",
       "        require.undef(\"plotly\");\n",
       "        requirejs.config({\n",
       "            paths: {\n",
       "                'plotly': ['https://cdn.plot.ly/plotly-latest.min']\n",
       "            }\n",
       "        });\n",
       "        require(['plotly'], function(Plotly) {\n",
       "            window._Plotly = Plotly;\n",
       "        });\n",
       "        }\n",
       "        </script>\n",
       "        "
      ]
     },
     "metadata": {},
     "output_type": "display_data"
    },
    {
     "name": "stderr",
     "output_type": "stream",
     "text": [
      "C:\\Users\\rabarrera\\AppData\\Local\\Continuum\\anaconda3\\lib\\site-packages\\dask\\config.py:168: YAMLLoadWarning:\n",
      "\n",
      "calling yaml.load() without Loader=... is deprecated, as the default Loader is unsafe. Please read https://msg.pyyaml.org/load for full details.\n",
      "\n"
     ]
    },
    {
     "data": {
      "application/vnd.plotly.v1+json": {
       "config": {
        "linkText": "Export to plot.ly",
        "plotlyServerURL": "https://plot.ly",
        "showLink": false
       },
       "data": [
        {
         "colorbar": {
          "title": {
           "side": "right",
           "text": "Coficiente Pearson de Correlacion"
          }
         },
         "colorscale": [
          [
           0,
           "#440154"
          ],
          [
           0.1111111111111111,
           "#482878"
          ],
          [
           0.2222222222222222,
           "#3e4989"
          ],
          [
           0.3333333333333333,
           "#31688e"
          ],
          [
           0.4444444444444444,
           "#26828e"
          ],
          [
           0.5555555555555556,
           "#1f9e89"
          ],
          [
           0.6666666666666666,
           "#35b779"
          ],
          [
           0.7777777777777778,
           "#6ece58"
          ],
          [
           0.8888888888888888,
           "#b5de2b"
          ],
          [
           1,
           "#fde725"
          ]
         ],
         "type": "heatmap",
         "x": [
          "amount_tsh",
          "funder",
          "region_code",
          "district_code",
          "public_meeting",
          "scheme_management",
          "permit",
          "construction_year",
          "extraction_type",
          "extraction_type_group",
          "extraction_type_class",
          "management_group",
          "water_quality",
          "quality_group",
          "quantity",
          "source_class",
          "waterpoint_type"
         ],
         "y": [
          "amount_tsh",
          "funder",
          "region_code",
          "district_code",
          "public_meeting",
          "scheme_management",
          "permit",
          "construction_year",
          "extraction_type",
          "extraction_type_group",
          "extraction_type_class",
          "management_group",
          "water_quality",
          "quality_group",
          "quantity",
          "source_class",
          "waterpoint_type"
         ],
         "z": [
          [
           1,
           0.0037388788673059165,
           -0.026812994577949167,
           -0.023599405413481243,
           -0.0003411618731167381,
           0.010560297283560073,
           0.016951524662164614,
           0.06791521104168805,
           -0.025091280000574225,
           -0.01773819526868787,
           -0.013212971004728536,
           -0.0018363819178060636,
           0.012624354024780847,
           -0.023994921088926327,
           -0.014526328481436215,
           0.03492239000514304,
           -0.04382071521630337
          ],
          [
           0.0037388788673059165,
           1,
           -0.01660523605798351,
           -0.018539274820028363,
           -0.046631286818393916,
           0.00732305425681203,
           0.026657880434423672,
           -0.09554234867738783,
           -0.021744940077501766,
           -0.009485323490464869,
           0.025476983873472914,
           -0.027981347921553292,
           -0.03564876113285878,
           0.023494424243219732,
           0.04170937503563919,
           0.040512569040986074,
           0.05266978929569757
          ],
          [
           -0.026812994577949167,
           -0.01660523605798351,
           1,
           0.6786023067888902,
           0.01875732479887966,
           -0.09921156364578956,
           -0.05240041310108481,
           0.031724056815404494,
           0.10147182519288127,
           0.0976874785707377,
           0.1494796715451134,
           0.033028310497819645,
           -0.06350818128166245,
           0.08458312583164848,
           -0.06681182130014919,
           -0.07622676784994735,
           0.18462159130663436
          ],
          [
           -0.023599405413481243,
           -0.018539274820028363,
           0.6786023067888902,
           1,
           -0.004100615198999975,
           -0.01846631097414241,
           -0.09606308878541907,
           0.048315185322544855,
           0.02674560119568145,
           0.018556527011935272,
           0.06714291997048197,
           0.01561653878820749,
           -0.06122277414794255,
           0.03793877983138447,
           -0.02780344273332048,
           -0.047690866390614386,
           0.08120046625131945
          ],
          [
           -0.0003411618731167381,
           -0.046631286818393916,
           0.01875732479887966,
           -0.004100615198999975,
           1,
           -0.01559739006352188,
           0.05039641093097813,
           0.03266784939094599,
           0.017615925761051997,
           -0.0021299548465370296,
           -0.006063339753761201,
           0.08674553648026725,
           0.03207865111290963,
           0.07469036519745152,
           -0.028307263136440358,
           -0.07190390820805277,
           -0.023052629198992543
          ],
          [
           0.010560297283560073,
           0.00732305425681203,
           -0.09921156364578956,
           -0.01846631097414241,
           -0.01559739006352188,
           1,
           -0.060191854437029825,
           -0.02000545799279722,
           -0.10299224809818441,
           -0.11414004100277032,
           -0.10538655802979287,
           0.31014900370770687,
           0.06802962529132267,
           -0.0869967780263637,
           -0.129732936632669,
           0.008024884690184577,
           -0.14269983304204378
          ],
          [
           0.016951524662164614,
           0.026657880434423672,
           -0.05240041310108481,
           -0.09606308878541907,
           0.05039641093097813,
           -0.060191854437029825,
           1,
           0.06141753727082885,
           -0.1185089299485275,
           -0.1098735990326664,
           -0.061086886537576934,
           -0.022293806546756553,
           0.050908428730031464,
           -0.034453921259861714,
           -0.008774290828128145,
           0.08892887549541129,
           -0.15132690232385965
          ],
          [
           0.06791521104168805,
           -0.09554234867738783,
           0.031724056815404494,
           0.048315185322544855,
           0.03266784939094599,
           -0.02000545799279722,
           0.06141753727082885,
           1,
           -0.06143383163669114,
           -0.056985637512989386,
           0.010065653376343964,
           -0.07437987831777954,
           0.05088391861311186,
           -0.008011710283821827,
           -0.008483965862860293,
           0.09642742293636171,
           -0.19450563869473006
          ],
          [
           -0.025091280000574225,
           -0.021744940077501766,
           0.10147182519288127,
           0.02674560119568145,
           0.017615925761051997,
           -0.10299224809818441,
           -0.1185089299485275,
           -0.06143383163669114,
           1,
           0.9495235109875688,
           0.6950515295523549,
           -0.037539704348146345,
           -0.10922509549321066,
           0.15802282552864833,
           0.0010823152962976116,
           -0.22979484604314113,
           0.3447847842999491
          ],
          [
           -0.01773819526868787,
           -0.009485323490464869,
           0.0976874785707377,
           0.018556527011935272,
           -0.0021299548465370296,
           -0.11414004100277032,
           -0.1098735990326664,
           -0.056985637512989386,
           0.9495235109875688,
           1,
           0.7843003787437748,
           -0.07353688175371997,
           -0.11020250838885498,
           0.15743893084359953,
           -0.011712261841561884,
           -0.1751479394732306,
           0.32020244222427807
          ],
          [
           -0.013212971004728536,
           0.025476983873472914,
           0.1494796715451134,
           0.06714291997048197,
           -0.006063339753761201,
           -0.10538655802979287,
           -0.061086886537576934,
           0.010065653376343964,
           0.6950515295523549,
           0.7843003787437748,
           1,
           -0.1528069729027154,
           -0.11543259883873112,
           0.19641039872218805,
           -0.04720837495352112,
           -0.09000893669849314,
           0.2065426333767932
          ],
          [
           -0.0018363819178060636,
           -0.027981347921553292,
           0.033028310497819645,
           0.01561653878820749,
           0.08674553648026725,
           0.31014900370770687,
           -0.022293806546756553,
           -0.07437987831777954,
           -0.037539704348146345,
           -0.07353688175371997,
           -0.1528069729027154,
           1,
           -5.819797421095251e-05,
           -0.015640174657528292,
           -0.06383984659811325,
           -0.10370185206003224,
           0.08800958123952594
          ],
          [
           0.012624354024780847,
           -0.03564876113285878,
           -0.06350818128166245,
           -0.06122277414794255,
           0.03207865111290963,
           0.06802962529132267,
           0.050908428730031464,
           0.05088391861311186,
           -0.10922509549321066,
           -0.11020250838885498,
           -0.11543259883873112,
           -5.819797421095251e-05,
           1,
           -0.1453331963454709,
           -0.031868563363299456,
           0.08383375340315007,
           -0.16209619470824743
          ],
          [
           -0.023994921088926327,
           0.023494424243219732,
           0.08458312583164848,
           0.03793877983138447,
           0.07469036519745152,
           -0.0869967780263637,
           -0.034453921259861714,
           -0.008011710283821827,
           0.15802282552864833,
           0.15743893084359953,
           0.19641039872218805,
           -0.015640174657528292,
           -0.1453331963454709,
           1,
           0.011645543540549952,
           -0.12560209528056215,
           0.19988282151156728
          ],
          [
           -0.014526328481436215,
           0.04170937503563919,
           -0.06681182130014919,
           -0.02780344273332048,
           -0.028307263136440358,
           -0.129732936632669,
           -0.008774290828128145,
           -0.008483965862860293,
           0.0010823152962976116,
           -0.011712261841561884,
           -0.04720837495352112,
           -0.06383984659811325,
           -0.031868563363299456,
           0.011645543540549952,
           1,
           0.11730023869780327,
           0.006435571912650307
          ],
          [
           0.03492239000514304,
           0.040512569040986074,
           -0.07622676784994735,
           -0.047690866390614386,
           -0.07190390820805277,
           0.008024884690184577,
           0.08892887549541129,
           0.09642742293636171,
           -0.22979484604314113,
           -0.1751479394732306,
           -0.09000893669849314,
           -0.10370185206003224,
           0.08383375340315007,
           -0.12560209528056215,
           0.11730023869780327,
           1,
           -0.3397147982270826
          ],
          [
           -0.04382071521630337,
           0.05266978929569757,
           0.18462159130663436,
           0.08120046625131945,
           -0.023052629198992543,
           -0.14269983304204378,
           -0.15132690232385965,
           -0.19450563869473006,
           0.3447847842999491,
           0.32020244222427807,
           0.2065426333767932,
           0.08800958123952594,
           -0.16209619470824743,
           0.19988282151156728,
           0.006435571912650307,
           -0.3397147982270826,
           1
          ]
         ]
        }
       ],
       "layout": {
        "autosize": false,
        "height": 720,
        "margin": {
         "b": 210,
         "l": 210,
         "r": 0,
         "t": 25
        },
        "template": {
         "data": {
          "bar": [
           {
            "error_x": {
             "color": "#2a3f5f"
            },
            "error_y": {
             "color": "#2a3f5f"
            },
            "marker": {
             "line": {
              "color": "#E5ECF6",
              "width": 0.5
             }
            },
            "type": "bar"
           }
          ],
          "barpolar": [
           {
            "marker": {
             "line": {
              "color": "#E5ECF6",
              "width": 0.5
             }
            },
            "type": "barpolar"
           }
          ],
          "carpet": [
           {
            "aaxis": {
             "endlinecolor": "#2a3f5f",
             "gridcolor": "white",
             "linecolor": "white",
             "minorgridcolor": "white",
             "startlinecolor": "#2a3f5f"
            },
            "baxis": {
             "endlinecolor": "#2a3f5f",
             "gridcolor": "white",
             "linecolor": "white",
             "minorgridcolor": "white",
             "startlinecolor": "#2a3f5f"
            },
            "type": "carpet"
           }
          ],
          "choropleth": [
           {
            "colorbar": {
             "outlinewidth": 0,
             "ticks": ""
            },
            "type": "choropleth"
           }
          ],
          "contour": [
           {
            "colorbar": {
             "outlinewidth": 0,
             "ticks": ""
            },
            "colorscale": [
             [
              0,
              "#0d0887"
             ],
             [
              0.1111111111111111,
              "#46039f"
             ],
             [
              0.2222222222222222,
              "#7201a8"
             ],
             [
              0.3333333333333333,
              "#9c179e"
             ],
             [
              0.4444444444444444,
              "#bd3786"
             ],
             [
              0.5555555555555556,
              "#d8576b"
             ],
             [
              0.6666666666666666,
              "#ed7953"
             ],
             [
              0.7777777777777778,
              "#fb9f3a"
             ],
             [
              0.8888888888888888,
              "#fdca26"
             ],
             [
              1,
              "#f0f921"
             ]
            ],
            "type": "contour"
           }
          ],
          "contourcarpet": [
           {
            "colorbar": {
             "outlinewidth": 0,
             "ticks": ""
            },
            "type": "contourcarpet"
           }
          ],
          "heatmap": [
           {
            "colorbar": {
             "outlinewidth": 0,
             "ticks": ""
            },
            "colorscale": [
             [
              0,
              "#0d0887"
             ],
             [
              0.1111111111111111,
              "#46039f"
             ],
             [
              0.2222222222222222,
              "#7201a8"
             ],
             [
              0.3333333333333333,
              "#9c179e"
             ],
             [
              0.4444444444444444,
              "#bd3786"
             ],
             [
              0.5555555555555556,
              "#d8576b"
             ],
             [
              0.6666666666666666,
              "#ed7953"
             ],
             [
              0.7777777777777778,
              "#fb9f3a"
             ],
             [
              0.8888888888888888,
              "#fdca26"
             ],
             [
              1,
              "#f0f921"
             ]
            ],
            "type": "heatmap"
           }
          ],
          "heatmapgl": [
           {
            "colorbar": {
             "outlinewidth": 0,
             "ticks": ""
            },
            "colorscale": [
             [
              0,
              "#0d0887"
             ],
             [
              0.1111111111111111,
              "#46039f"
             ],
             [
              0.2222222222222222,
              "#7201a8"
             ],
             [
              0.3333333333333333,
              "#9c179e"
             ],
             [
              0.4444444444444444,
              "#bd3786"
             ],
             [
              0.5555555555555556,
              "#d8576b"
             ],
             [
              0.6666666666666666,
              "#ed7953"
             ],
             [
              0.7777777777777778,
              "#fb9f3a"
             ],
             [
              0.8888888888888888,
              "#fdca26"
             ],
             [
              1,
              "#f0f921"
             ]
            ],
            "type": "heatmapgl"
           }
          ],
          "histogram": [
           {
            "marker": {
             "colorbar": {
              "outlinewidth": 0,
              "ticks": ""
             }
            },
            "type": "histogram"
           }
          ],
          "histogram2d": [
           {
            "colorbar": {
             "outlinewidth": 0,
             "ticks": ""
            },
            "colorscale": [
             [
              0,
              "#0d0887"
             ],
             [
              0.1111111111111111,
              "#46039f"
             ],
             [
              0.2222222222222222,
              "#7201a8"
             ],
             [
              0.3333333333333333,
              "#9c179e"
             ],
             [
              0.4444444444444444,
              "#bd3786"
             ],
             [
              0.5555555555555556,
              "#d8576b"
             ],
             [
              0.6666666666666666,
              "#ed7953"
             ],
             [
              0.7777777777777778,
              "#fb9f3a"
             ],
             [
              0.8888888888888888,
              "#fdca26"
             ],
             [
              1,
              "#f0f921"
             ]
            ],
            "type": "histogram2d"
           }
          ],
          "histogram2dcontour": [
           {
            "colorbar": {
             "outlinewidth": 0,
             "ticks": ""
            },
            "colorscale": [
             [
              0,
              "#0d0887"
             ],
             [
              0.1111111111111111,
              "#46039f"
             ],
             [
              0.2222222222222222,
              "#7201a8"
             ],
             [
              0.3333333333333333,
              "#9c179e"
             ],
             [
              0.4444444444444444,
              "#bd3786"
             ],
             [
              0.5555555555555556,
              "#d8576b"
             ],
             [
              0.6666666666666666,
              "#ed7953"
             ],
             [
              0.7777777777777778,
              "#fb9f3a"
             ],
             [
              0.8888888888888888,
              "#fdca26"
             ],
             [
              1,
              "#f0f921"
             ]
            ],
            "type": "histogram2dcontour"
           }
          ],
          "mesh3d": [
           {
            "colorbar": {
             "outlinewidth": 0,
             "ticks": ""
            },
            "type": "mesh3d"
           }
          ],
          "parcoords": [
           {
            "line": {
             "colorbar": {
              "outlinewidth": 0,
              "ticks": ""
             }
            },
            "type": "parcoords"
           }
          ],
          "pie": [
           {
            "automargin": true,
            "type": "pie"
           }
          ],
          "scatter": [
           {
            "marker": {
             "colorbar": {
              "outlinewidth": 0,
              "ticks": ""
             }
            },
            "type": "scatter"
           }
          ],
          "scatter3d": [
           {
            "line": {
             "colorbar": {
              "outlinewidth": 0,
              "ticks": ""
             }
            },
            "marker": {
             "colorbar": {
              "outlinewidth": 0,
              "ticks": ""
             }
            },
            "type": "scatter3d"
           }
          ],
          "scattercarpet": [
           {
            "marker": {
             "colorbar": {
              "outlinewidth": 0,
              "ticks": ""
             }
            },
            "type": "scattercarpet"
           }
          ],
          "scattergeo": [
           {
            "marker": {
             "colorbar": {
              "outlinewidth": 0,
              "ticks": ""
             }
            },
            "type": "scattergeo"
           }
          ],
          "scattergl": [
           {
            "marker": {
             "colorbar": {
              "outlinewidth": 0,
              "ticks": ""
             }
            },
            "type": "scattergl"
           }
          ],
          "scattermapbox": [
           {
            "marker": {
             "colorbar": {
              "outlinewidth": 0,
              "ticks": ""
             }
            },
            "type": "scattermapbox"
           }
          ],
          "scatterpolar": [
           {
            "marker": {
             "colorbar": {
              "outlinewidth": 0,
              "ticks": ""
             }
            },
            "type": "scatterpolar"
           }
          ],
          "scatterpolargl": [
           {
            "marker": {
             "colorbar": {
              "outlinewidth": 0,
              "ticks": ""
             }
            },
            "type": "scatterpolargl"
           }
          ],
          "scatterternary": [
           {
            "marker": {
             "colorbar": {
              "outlinewidth": 0,
              "ticks": ""
             }
            },
            "type": "scatterternary"
           }
          ],
          "surface": [
           {
            "colorbar": {
             "outlinewidth": 0,
             "ticks": ""
            },
            "colorscale": [
             [
              0,
              "#0d0887"
             ],
             [
              0.1111111111111111,
              "#46039f"
             ],
             [
              0.2222222222222222,
              "#7201a8"
             ],
             [
              0.3333333333333333,
              "#9c179e"
             ],
             [
              0.4444444444444444,
              "#bd3786"
             ],
             [
              0.5555555555555556,
              "#d8576b"
             ],
             [
              0.6666666666666666,
              "#ed7953"
             ],
             [
              0.7777777777777778,
              "#fb9f3a"
             ],
             [
              0.8888888888888888,
              "#fdca26"
             ],
             [
              1,
              "#f0f921"
             ]
            ],
            "type": "surface"
           }
          ],
          "table": [
           {
            "cells": {
             "fill": {
              "color": "#EBF0F8"
             },
             "line": {
              "color": "white"
             }
            },
            "header": {
             "fill": {
              "color": "#C8D4E3"
             },
             "line": {
              "color": "white"
             }
            },
            "type": "table"
           }
          ]
         },
         "layout": {
          "annotationdefaults": {
           "arrowcolor": "#2a3f5f",
           "arrowhead": 0,
           "arrowwidth": 1
          },
          "coloraxis": {
           "colorbar": {
            "outlinewidth": 0,
            "ticks": ""
           }
          },
          "colorscale": {
           "diverging": [
            [
             0,
             "#8e0152"
            ],
            [
             0.1,
             "#c51b7d"
            ],
            [
             0.2,
             "#de77ae"
            ],
            [
             0.3,
             "#f1b6da"
            ],
            [
             0.4,
             "#fde0ef"
            ],
            [
             0.5,
             "#f7f7f7"
            ],
            [
             0.6,
             "#e6f5d0"
            ],
            [
             0.7,
             "#b8e186"
            ],
            [
             0.8,
             "#7fbc41"
            ],
            [
             0.9,
             "#4d9221"
            ],
            [
             1,
             "#276419"
            ]
           ],
           "sequential": [
            [
             0,
             "#0d0887"
            ],
            [
             0.1111111111111111,
             "#46039f"
            ],
            [
             0.2222222222222222,
             "#7201a8"
            ],
            [
             0.3333333333333333,
             "#9c179e"
            ],
            [
             0.4444444444444444,
             "#bd3786"
            ],
            [
             0.5555555555555556,
             "#d8576b"
            ],
            [
             0.6666666666666666,
             "#ed7953"
            ],
            [
             0.7777777777777778,
             "#fb9f3a"
            ],
            [
             0.8888888888888888,
             "#fdca26"
            ],
            [
             1,
             "#f0f921"
            ]
           ],
           "sequentialminus": [
            [
             0,
             "#0d0887"
            ],
            [
             0.1111111111111111,
             "#46039f"
            ],
            [
             0.2222222222222222,
             "#7201a8"
            ],
            [
             0.3333333333333333,
             "#9c179e"
            ],
            [
             0.4444444444444444,
             "#bd3786"
            ],
            [
             0.5555555555555556,
             "#d8576b"
            ],
            [
             0.6666666666666666,
             "#ed7953"
            ],
            [
             0.7777777777777778,
             "#fb9f3a"
            ],
            [
             0.8888888888888888,
             "#fdca26"
            ],
            [
             1,
             "#f0f921"
            ]
           ]
          },
          "colorway": [
           "#636efa",
           "#EF553B",
           "#00cc96",
           "#ab63fa",
           "#FFA15A",
           "#19d3f3",
           "#FF6692",
           "#B6E880",
           "#FF97FF",
           "#FECB52"
          ],
          "font": {
           "color": "#2a3f5f"
          },
          "geo": {
           "bgcolor": "white",
           "lakecolor": "white",
           "landcolor": "#E5ECF6",
           "showlakes": true,
           "showland": true,
           "subunitcolor": "white"
          },
          "hoverlabel": {
           "align": "left"
          },
          "hovermode": "closest",
          "mapbox": {
           "style": "light"
          },
          "paper_bgcolor": "white",
          "plot_bgcolor": "#E5ECF6",
          "polar": {
           "angularaxis": {
            "gridcolor": "white",
            "linecolor": "white",
            "ticks": ""
           },
           "bgcolor": "#E5ECF6",
           "radialaxis": {
            "gridcolor": "white",
            "linecolor": "white",
            "ticks": ""
           }
          },
          "scene": {
           "xaxis": {
            "backgroundcolor": "#E5ECF6",
            "gridcolor": "white",
            "gridwidth": 2,
            "linecolor": "white",
            "showbackground": true,
            "ticks": "",
            "zerolinecolor": "white"
           },
           "yaxis": {
            "backgroundcolor": "#E5ECF6",
            "gridcolor": "white",
            "gridwidth": 2,
            "linecolor": "white",
            "showbackground": true,
            "ticks": "",
            "zerolinecolor": "white"
           },
           "zaxis": {
            "backgroundcolor": "#E5ECF6",
            "gridcolor": "white",
            "gridwidth": 2,
            "linecolor": "white",
            "showbackground": true,
            "ticks": "",
            "zerolinecolor": "white"
           }
          },
          "shapedefaults": {
           "line": {
            "color": "#2a3f5f"
           }
          },
          "ternary": {
           "aaxis": {
            "gridcolor": "white",
            "linecolor": "white",
            "ticks": ""
           },
           "baxis": {
            "gridcolor": "white",
            "linecolor": "white",
            "ticks": ""
           },
           "bgcolor": "#E5ECF6",
           "caxis": {
            "gridcolor": "white",
            "linecolor": "white",
            "ticks": ""
           }
          },
          "title": {
           "x": 0.05
          },
          "xaxis": {
           "automargin": true,
           "gridcolor": "white",
           "linecolor": "white",
           "ticks": "",
           "title": {
            "standoff": 15
           },
           "zerolinecolor": "white",
           "zerolinewidth": 2
          },
          "yaxis": {
           "automargin": true,
           "gridcolor": "white",
           "linecolor": "white",
           "ticks": "",
           "title": {
            "standoff": 15
           },
           "zerolinecolor": "white",
           "zerolinewidth": 2
          }
         }
        },
        "title": {
         "text": "Matriz de correlación de variables"
        },
        "width": 800,
        "xaxis": {
         "tickfont": {
          "size": 9
         }
        },
        "yaxis": {
         "tickfont": {
          "size": 9
         }
        }
       }
      },
      "text/html": [
       "<div>\n",
       "        \n",
       "        \n",
       "            <div id=\"7ea4f2fc-d601-4ddf-8d8d-5c4da561f29d\" class=\"plotly-graph-div\" style=\"height:720px; width:800px;\"></div>\n",
       "            <script type=\"text/javascript\">\n",
       "                require([\"plotly\"], function(Plotly) {\n",
       "                    window.PLOTLYENV=window.PLOTLYENV || {};\n",
       "                    \n",
       "                if (document.getElementById(\"7ea4f2fc-d601-4ddf-8d8d-5c4da561f29d\")) {\n",
       "                    Plotly.newPlot(\n",
       "                        '7ea4f2fc-d601-4ddf-8d8d-5c4da561f29d',\n",
       "                        [{\"colorbar\": {\"title\": {\"side\": \"right\", \"text\": \"Coficiente Pearson de Correlacion\"}}, \"colorscale\": [[0.0, \"#440154\"], [0.1111111111111111, \"#482878\"], [0.2222222222222222, \"#3e4989\"], [0.3333333333333333, \"#31688e\"], [0.4444444444444444, \"#26828e\"], [0.5555555555555556, \"#1f9e89\"], [0.6666666666666666, \"#35b779\"], [0.7777777777777778, \"#6ece58\"], [0.8888888888888888, \"#b5de2b\"], [1.0, \"#fde725\"]], \"type\": \"heatmap\", \"x\": [\"amount_tsh\", \"funder\", \"region_code\", \"district_code\", \"public_meeting\", \"scheme_management\", \"permit\", \"construction_year\", \"extraction_type\", \"extraction_type_group\", \"extraction_type_class\", \"management_group\", \"water_quality\", \"quality_group\", \"quantity\", \"source_class\", \"waterpoint_type\"], \"y\": [\"amount_tsh\", \"funder\", \"region_code\", \"district_code\", \"public_meeting\", \"scheme_management\", \"permit\", \"construction_year\", \"extraction_type\", \"extraction_type_group\", \"extraction_type_class\", \"management_group\", \"water_quality\", \"quality_group\", \"quantity\", \"source_class\", \"waterpoint_type\"], \"z\": [[1.0, 0.0037388788673059165, -0.026812994577949167, -0.023599405413481243, -0.0003411618731167381, 0.010560297283560073, 0.016951524662164614, 0.06791521104168805, -0.025091280000574225, -0.01773819526868787, -0.013212971004728536, -0.0018363819178060636, 0.012624354024780847, -0.023994921088926327, -0.014526328481436215, 0.03492239000514304, -0.04382071521630337], [0.0037388788673059165, 1.0, -0.01660523605798351, -0.018539274820028363, -0.046631286818393916, 0.00732305425681203, 0.026657880434423672, -0.09554234867738783, -0.021744940077501766, -0.009485323490464869, 0.025476983873472914, -0.027981347921553292, -0.03564876113285878, 0.023494424243219732, 0.04170937503563919, 0.040512569040986074, 0.05266978929569757], [-0.026812994577949167, -0.01660523605798351, 1.0, 0.6786023067888902, 0.01875732479887966, -0.09921156364578956, -0.05240041310108481, 0.031724056815404494, 0.10147182519288127, 0.0976874785707377, 0.1494796715451134, 0.033028310497819645, -0.06350818128166245, 0.08458312583164848, -0.06681182130014919, -0.07622676784994735, 0.18462159130663436], [-0.023599405413481243, -0.018539274820028363, 0.6786023067888902, 1.0, -0.004100615198999975, -0.01846631097414241, -0.09606308878541907, 0.048315185322544855, 0.02674560119568145, 0.018556527011935272, 0.06714291997048197, 0.01561653878820749, -0.06122277414794255, 0.03793877983138447, -0.02780344273332048, -0.047690866390614386, 0.08120046625131945], [-0.0003411618731167381, -0.046631286818393916, 0.01875732479887966, -0.004100615198999975, 1.0, -0.01559739006352188, 0.05039641093097813, 0.03266784939094599, 0.017615925761051997, -0.0021299548465370296, -0.006063339753761201, 0.08674553648026725, 0.03207865111290963, 0.07469036519745152, -0.028307263136440358, -0.07190390820805277, -0.023052629198992543], [0.010560297283560073, 0.00732305425681203, -0.09921156364578956, -0.01846631097414241, -0.01559739006352188, 1.0, -0.060191854437029825, -0.02000545799279722, -0.10299224809818441, -0.11414004100277032, -0.10538655802979287, 0.31014900370770687, 0.06802962529132267, -0.0869967780263637, -0.129732936632669, 0.008024884690184577, -0.14269983304204378], [0.016951524662164614, 0.026657880434423672, -0.05240041310108481, -0.09606308878541907, 0.05039641093097813, -0.060191854437029825, 1.0, 0.06141753727082885, -0.1185089299485275, -0.1098735990326664, -0.061086886537576934, -0.022293806546756553, 0.050908428730031464, -0.034453921259861714, -0.008774290828128145, 0.08892887549541129, -0.15132690232385965], [0.06791521104168805, -0.09554234867738783, 0.031724056815404494, 0.048315185322544855, 0.03266784939094599, -0.02000545799279722, 0.06141753727082885, 1.0, -0.06143383163669114, -0.056985637512989386, 0.010065653376343964, -0.07437987831777954, 0.05088391861311186, -0.008011710283821827, -0.008483965862860293, 0.09642742293636171, -0.19450563869473006], [-0.025091280000574225, -0.021744940077501766, 0.10147182519288127, 0.02674560119568145, 0.017615925761051997, -0.10299224809818441, -0.1185089299485275, -0.06143383163669114, 1.0, 0.9495235109875688, 0.6950515295523549, -0.037539704348146345, -0.10922509549321066, 0.15802282552864833, 0.0010823152962976116, -0.22979484604314113, 0.3447847842999491], [-0.01773819526868787, -0.009485323490464869, 0.0976874785707377, 0.018556527011935272, -0.0021299548465370296, -0.11414004100277032, -0.1098735990326664, -0.056985637512989386, 0.9495235109875688, 1.0, 0.7843003787437748, -0.07353688175371997, -0.11020250838885498, 0.15743893084359953, -0.011712261841561884, -0.1751479394732306, 0.32020244222427807], [-0.013212971004728536, 0.025476983873472914, 0.1494796715451134, 0.06714291997048197, -0.006063339753761201, -0.10538655802979287, -0.061086886537576934, 0.010065653376343964, 0.6950515295523549, 0.7843003787437748, 1.0, -0.1528069729027154, -0.11543259883873112, 0.19641039872218805, -0.04720837495352112, -0.09000893669849314, 0.2065426333767932], [-0.0018363819178060636, -0.027981347921553292, 0.033028310497819645, 0.01561653878820749, 0.08674553648026725, 0.31014900370770687, -0.022293806546756553, -0.07437987831777954, -0.037539704348146345, -0.07353688175371997, -0.1528069729027154, 1.0, -5.819797421095251e-05, -0.015640174657528292, -0.06383984659811325, -0.10370185206003224, 0.08800958123952594], [0.012624354024780847, -0.03564876113285878, -0.06350818128166245, -0.06122277414794255, 0.03207865111290963, 0.06802962529132267, 0.050908428730031464, 0.05088391861311186, -0.10922509549321066, -0.11020250838885498, -0.11543259883873112, -5.819797421095251e-05, 1.0, -0.1453331963454709, -0.031868563363299456, 0.08383375340315007, -0.16209619470824743], [-0.023994921088926327, 0.023494424243219732, 0.08458312583164848, 0.03793877983138447, 0.07469036519745152, -0.0869967780263637, -0.034453921259861714, -0.008011710283821827, 0.15802282552864833, 0.15743893084359953, 0.19641039872218805, -0.015640174657528292, -0.1453331963454709, 1.0, 0.011645543540549952, -0.12560209528056215, 0.19988282151156728], [-0.014526328481436215, 0.04170937503563919, -0.06681182130014919, -0.02780344273332048, -0.028307263136440358, -0.129732936632669, -0.008774290828128145, -0.008483965862860293, 0.0010823152962976116, -0.011712261841561884, -0.04720837495352112, -0.06383984659811325, -0.031868563363299456, 0.011645543540549952, 1.0, 0.11730023869780327, 0.006435571912650307], [0.03492239000514304, 0.040512569040986074, -0.07622676784994735, -0.047690866390614386, -0.07190390820805277, 0.008024884690184577, 0.08892887549541129, 0.09642742293636171, -0.22979484604314113, -0.1751479394732306, -0.09000893669849314, -0.10370185206003224, 0.08383375340315007, -0.12560209528056215, 0.11730023869780327, 1.0, -0.3397147982270826], [-0.04382071521630337, 0.05266978929569757, 0.18462159130663436, 0.08120046625131945, -0.023052629198992543, -0.14269983304204378, -0.15132690232385965, -0.19450563869473006, 0.3447847842999491, 0.32020244222427807, 0.2065426333767932, 0.08800958123952594, -0.16209619470824743, 0.19988282151156728, 0.006435571912650307, -0.3397147982270826, 1.0]]}],\n",
       "                        {\"autosize\": false, \"height\": 720, \"margin\": {\"b\": 210, \"l\": 210, \"r\": 0, \"t\": 25}, \"template\": {\"data\": {\"bar\": [{\"error_x\": {\"color\": \"#2a3f5f\"}, \"error_y\": {\"color\": \"#2a3f5f\"}, \"marker\": {\"line\": {\"color\": \"#E5ECF6\", \"width\": 0.5}}, \"type\": \"bar\"}], \"barpolar\": [{\"marker\": {\"line\": {\"color\": \"#E5ECF6\", \"width\": 0.5}}, \"type\": \"barpolar\"}], \"carpet\": [{\"aaxis\": {\"endlinecolor\": \"#2a3f5f\", \"gridcolor\": \"white\", \"linecolor\": \"white\", \"minorgridcolor\": \"white\", \"startlinecolor\": \"#2a3f5f\"}, \"baxis\": {\"endlinecolor\": \"#2a3f5f\", \"gridcolor\": \"white\", \"linecolor\": \"white\", \"minorgridcolor\": \"white\", \"startlinecolor\": \"#2a3f5f\"}, \"type\": \"carpet\"}], \"choropleth\": [{\"colorbar\": {\"outlinewidth\": 0, \"ticks\": \"\"}, \"type\": \"choropleth\"}], \"contour\": [{\"colorbar\": {\"outlinewidth\": 0, \"ticks\": \"\"}, \"colorscale\": [[0.0, \"#0d0887\"], [0.1111111111111111, \"#46039f\"], [0.2222222222222222, \"#7201a8\"], [0.3333333333333333, \"#9c179e\"], [0.4444444444444444, \"#bd3786\"], [0.5555555555555556, \"#d8576b\"], [0.6666666666666666, \"#ed7953\"], [0.7777777777777778, \"#fb9f3a\"], [0.8888888888888888, \"#fdca26\"], [1.0, \"#f0f921\"]], \"type\": \"contour\"}], \"contourcarpet\": [{\"colorbar\": {\"outlinewidth\": 0, \"ticks\": \"\"}, \"type\": \"contourcarpet\"}], \"heatmap\": [{\"colorbar\": {\"outlinewidth\": 0, \"ticks\": \"\"}, \"colorscale\": [[0.0, \"#0d0887\"], [0.1111111111111111, \"#46039f\"], [0.2222222222222222, \"#7201a8\"], [0.3333333333333333, \"#9c179e\"], [0.4444444444444444, \"#bd3786\"], [0.5555555555555556, \"#d8576b\"], [0.6666666666666666, \"#ed7953\"], [0.7777777777777778, \"#fb9f3a\"], [0.8888888888888888, \"#fdca26\"], [1.0, \"#f0f921\"]], \"type\": \"heatmap\"}], \"heatmapgl\": [{\"colorbar\": {\"outlinewidth\": 0, \"ticks\": \"\"}, \"colorscale\": [[0.0, \"#0d0887\"], [0.1111111111111111, \"#46039f\"], [0.2222222222222222, \"#7201a8\"], [0.3333333333333333, \"#9c179e\"], [0.4444444444444444, \"#bd3786\"], [0.5555555555555556, \"#d8576b\"], [0.6666666666666666, \"#ed7953\"], [0.7777777777777778, \"#fb9f3a\"], [0.8888888888888888, \"#fdca26\"], [1.0, \"#f0f921\"]], \"type\": \"heatmapgl\"}], \"histogram\": [{\"marker\": {\"colorbar\": {\"outlinewidth\": 0, \"ticks\": \"\"}}, \"type\": \"histogram\"}], \"histogram2d\": [{\"colorbar\": {\"outlinewidth\": 0, \"ticks\": \"\"}, \"colorscale\": [[0.0, \"#0d0887\"], [0.1111111111111111, \"#46039f\"], [0.2222222222222222, \"#7201a8\"], [0.3333333333333333, \"#9c179e\"], [0.4444444444444444, \"#bd3786\"], [0.5555555555555556, \"#d8576b\"], [0.6666666666666666, \"#ed7953\"], [0.7777777777777778, \"#fb9f3a\"], [0.8888888888888888, \"#fdca26\"], [1.0, \"#f0f921\"]], \"type\": \"histogram2d\"}], \"histogram2dcontour\": [{\"colorbar\": {\"outlinewidth\": 0, \"ticks\": \"\"}, \"colorscale\": [[0.0, \"#0d0887\"], [0.1111111111111111, \"#46039f\"], [0.2222222222222222, \"#7201a8\"], [0.3333333333333333, \"#9c179e\"], [0.4444444444444444, \"#bd3786\"], [0.5555555555555556, \"#d8576b\"], [0.6666666666666666, \"#ed7953\"], [0.7777777777777778, \"#fb9f3a\"], [0.8888888888888888, \"#fdca26\"], [1.0, \"#f0f921\"]], \"type\": \"histogram2dcontour\"}], \"mesh3d\": [{\"colorbar\": {\"outlinewidth\": 0, \"ticks\": \"\"}, \"type\": \"mesh3d\"}], \"parcoords\": [{\"line\": {\"colorbar\": {\"outlinewidth\": 0, \"ticks\": \"\"}}, \"type\": \"parcoords\"}], \"pie\": [{\"automargin\": true, \"type\": \"pie\"}], \"scatter\": [{\"marker\": {\"colorbar\": {\"outlinewidth\": 0, \"ticks\": \"\"}}, \"type\": \"scatter\"}], \"scatter3d\": [{\"line\": {\"colorbar\": {\"outlinewidth\": 0, \"ticks\": \"\"}}, \"marker\": {\"colorbar\": {\"outlinewidth\": 0, \"ticks\": \"\"}}, \"type\": \"scatter3d\"}], \"scattercarpet\": [{\"marker\": {\"colorbar\": {\"outlinewidth\": 0, \"ticks\": \"\"}}, \"type\": \"scattercarpet\"}], \"scattergeo\": [{\"marker\": {\"colorbar\": {\"outlinewidth\": 0, \"ticks\": \"\"}}, \"type\": \"scattergeo\"}], \"scattergl\": [{\"marker\": {\"colorbar\": {\"outlinewidth\": 0, \"ticks\": \"\"}}, \"type\": \"scattergl\"}], \"scattermapbox\": [{\"marker\": {\"colorbar\": {\"outlinewidth\": 0, \"ticks\": \"\"}}, \"type\": \"scattermapbox\"}], \"scatterpolar\": [{\"marker\": {\"colorbar\": {\"outlinewidth\": 0, \"ticks\": \"\"}}, \"type\": \"scatterpolar\"}], \"scatterpolargl\": [{\"marker\": {\"colorbar\": {\"outlinewidth\": 0, \"ticks\": \"\"}}, \"type\": \"scatterpolargl\"}], \"scatterternary\": [{\"marker\": {\"colorbar\": {\"outlinewidth\": 0, \"ticks\": \"\"}}, \"type\": \"scatterternary\"}], \"surface\": [{\"colorbar\": {\"outlinewidth\": 0, \"ticks\": \"\"}, \"colorscale\": [[0.0, \"#0d0887\"], [0.1111111111111111, \"#46039f\"], [0.2222222222222222, \"#7201a8\"], [0.3333333333333333, \"#9c179e\"], [0.4444444444444444, \"#bd3786\"], [0.5555555555555556, \"#d8576b\"], [0.6666666666666666, \"#ed7953\"], [0.7777777777777778, \"#fb9f3a\"], [0.8888888888888888, \"#fdca26\"], [1.0, \"#f0f921\"]], \"type\": \"surface\"}], \"table\": [{\"cells\": {\"fill\": {\"color\": \"#EBF0F8\"}, \"line\": {\"color\": \"white\"}}, \"header\": {\"fill\": {\"color\": \"#C8D4E3\"}, \"line\": {\"color\": \"white\"}}, \"type\": \"table\"}]}, \"layout\": {\"annotationdefaults\": {\"arrowcolor\": \"#2a3f5f\", \"arrowhead\": 0, \"arrowwidth\": 1}, \"coloraxis\": {\"colorbar\": {\"outlinewidth\": 0, \"ticks\": \"\"}}, \"colorscale\": {\"diverging\": [[0, \"#8e0152\"], [0.1, \"#c51b7d\"], [0.2, \"#de77ae\"], [0.3, \"#f1b6da\"], [0.4, \"#fde0ef\"], [0.5, \"#f7f7f7\"], [0.6, \"#e6f5d0\"], [0.7, \"#b8e186\"], [0.8, \"#7fbc41\"], [0.9, \"#4d9221\"], [1, \"#276419\"]], \"sequential\": [[0.0, \"#0d0887\"], [0.1111111111111111, \"#46039f\"], [0.2222222222222222, \"#7201a8\"], [0.3333333333333333, \"#9c179e\"], [0.4444444444444444, \"#bd3786\"], [0.5555555555555556, \"#d8576b\"], [0.6666666666666666, \"#ed7953\"], [0.7777777777777778, \"#fb9f3a\"], [0.8888888888888888, \"#fdca26\"], [1.0, \"#f0f921\"]], \"sequentialminus\": [[0.0, \"#0d0887\"], [0.1111111111111111, \"#46039f\"], [0.2222222222222222, \"#7201a8\"], [0.3333333333333333, \"#9c179e\"], [0.4444444444444444, \"#bd3786\"], [0.5555555555555556, \"#d8576b\"], [0.6666666666666666, \"#ed7953\"], [0.7777777777777778, \"#fb9f3a\"], [0.8888888888888888, \"#fdca26\"], [1.0, \"#f0f921\"]]}, \"colorway\": [\"#636efa\", \"#EF553B\", \"#00cc96\", \"#ab63fa\", \"#FFA15A\", \"#19d3f3\", \"#FF6692\", \"#B6E880\", \"#FF97FF\", \"#FECB52\"], \"font\": {\"color\": \"#2a3f5f\"}, \"geo\": {\"bgcolor\": \"white\", \"lakecolor\": \"white\", \"landcolor\": \"#E5ECF6\", \"showlakes\": true, \"showland\": true, \"subunitcolor\": \"white\"}, \"hoverlabel\": {\"align\": \"left\"}, \"hovermode\": \"closest\", \"mapbox\": {\"style\": \"light\"}, \"paper_bgcolor\": \"white\", \"plot_bgcolor\": \"#E5ECF6\", \"polar\": {\"angularaxis\": {\"gridcolor\": \"white\", \"linecolor\": \"white\", \"ticks\": \"\"}, \"bgcolor\": \"#E5ECF6\", \"radialaxis\": {\"gridcolor\": \"white\", \"linecolor\": \"white\", \"ticks\": \"\"}}, \"scene\": {\"xaxis\": {\"backgroundcolor\": \"#E5ECF6\", \"gridcolor\": \"white\", \"gridwidth\": 2, \"linecolor\": \"white\", \"showbackground\": true, \"ticks\": \"\", \"zerolinecolor\": \"white\"}, \"yaxis\": {\"backgroundcolor\": \"#E5ECF6\", \"gridcolor\": \"white\", \"gridwidth\": 2, \"linecolor\": \"white\", \"showbackground\": true, \"ticks\": \"\", \"zerolinecolor\": \"white\"}, \"zaxis\": {\"backgroundcolor\": \"#E5ECF6\", \"gridcolor\": \"white\", \"gridwidth\": 2, \"linecolor\": \"white\", \"showbackground\": true, \"ticks\": \"\", \"zerolinecolor\": \"white\"}}, \"shapedefaults\": {\"line\": {\"color\": \"#2a3f5f\"}}, \"ternary\": {\"aaxis\": {\"gridcolor\": \"white\", \"linecolor\": \"white\", \"ticks\": \"\"}, \"baxis\": {\"gridcolor\": \"white\", \"linecolor\": \"white\", \"ticks\": \"\"}, \"bgcolor\": \"#E5ECF6\", \"caxis\": {\"gridcolor\": \"white\", \"linecolor\": \"white\", \"ticks\": \"\"}}, \"title\": {\"x\": 0.05}, \"xaxis\": {\"automargin\": true, \"gridcolor\": \"white\", \"linecolor\": \"white\", \"ticks\": \"\", \"title\": {\"standoff\": 15}, \"zerolinecolor\": \"white\", \"zerolinewidth\": 2}, \"yaxis\": {\"automargin\": true, \"gridcolor\": \"white\", \"linecolor\": \"white\", \"ticks\": \"\", \"title\": {\"standoff\": 15}, \"zerolinecolor\": \"white\", \"zerolinewidth\": 2}}}, \"title\": {\"text\": \"Matriz de correlaci\\u00f3n de variables\"}, \"width\": 800, \"xaxis\": {\"tickfont\": {\"size\": 9}}, \"yaxis\": {\"tickfont\": {\"size\": 9}}},\n",
       "                        {\"responsive\": true}\n",
       "                    ).then(function(){\n",
       "                            \n",
       "var gd = document.getElementById('7ea4f2fc-d601-4ddf-8d8d-5c4da561f29d');\n",
       "var x = new MutationObserver(function (mutations, observer) {{\n",
       "        var display = window.getComputedStyle(gd).display;\n",
       "        if (!display || display === 'none') {{\n",
       "            console.log([gd, 'removed!']);\n",
       "            Plotly.purge(gd);\n",
       "            observer.disconnect();\n",
       "        }}\n",
       "}});\n",
       "\n",
       "// Listen for the removal of the full notebook cells\n",
       "var notebookContainer = gd.closest('#notebook-container');\n",
       "if (notebookContainer) {{\n",
       "    x.observe(notebookContainer, {childList: true});\n",
       "}}\n",
       "\n",
       "// Listen for the clearing of the current output cell\n",
       "var outputEl = gd.closest('.output');\n",
       "if (outputEl) {{\n",
       "    x.observe(outputEl, {childList: true});\n",
       "}}\n",
       "\n",
       "                        })\n",
       "                };\n",
       "                });\n",
       "            </script>\n",
       "        </div>"
      ]
     },
     "metadata": {},
     "output_type": "display_data"
    }
   ],
   "source": [
    "# Mariz de correlación del dataset df_03 \n",
    "      \n",
    "# Se importan librerías a ser usadas.\n",
    "import numpy as np \n",
    "\n",
    "import matplotlib.pyplot as plt\n",
    "from PIL import  Image\n",
    "%matplotlib inline\n",
    "\n",
    "import itertools\n",
    "\n",
    "import seaborn as sns\n",
    "import plotly.offline as py\n",
    "py.init_notebook_mode(connected=True)\n",
    "import plotly.graph_objs as go\n",
    "import plotly.tools as tls\n",
    "import plotly.figure_factory as ff\n",
    "\n",
    "import warnings\n",
    "warnings.filterwarnings(\"ignore\")\n",
    "\n",
    "correlation = df_03.corr()\n",
    "#tick labels\n",
    "matrix_cols = correlation.columns.tolist()\n",
    "#convert to array\n",
    "corr_array  = np.array(correlation)\n",
    "\n",
    "#Plotting\n",
    "trace = go.Heatmap(z = corr_array,\n",
    "                   x = matrix_cols,\n",
    "                   y = matrix_cols,\n",
    "                   colorscale = \"Viridis\",\n",
    "                   colorbar   = dict(title = \"Coficiente Pearson de Correlacion\",\n",
    "                                     titleside = \"right\"\n",
    "                                    ) ,\n",
    "                  )\n",
    "\n",
    "layout = go.Layout(dict(title = \"Matriz de correlación de variables\",\n",
    "                        autosize = False,\n",
    "                        height  = 720,\n",
    "                        width   = 800,\n",
    "                        margin  = dict(r = 0 ,l = 210,\n",
    "                                       t = 25,b = 210,\n",
    "                                      ),\n",
    "                        yaxis   = dict(tickfont = dict(size = 9)),\n",
    "                        xaxis   = dict(tickfont = dict(size = 9))\n",
    "                       )\n",
    "                  )\n",
    "\n",
    "data = [trace]\n",
    "fig = go.Figure(data=data,layout=layout)\n",
    "py.iplot(fig)"
   ]
  },
  {
   "cell_type": "markdown",
   "metadata": {},
   "source": [
    "# <a id='2'>2. Modelamiento</a>"
   ]
  },
  {
   "cell_type": "markdown",
   "metadata": {},
   "source": [
    "## <a id='2.1'>2.1. Regresión Logística</a>"
   ]
  },
  {
   "cell_type": "markdown",
   "metadata": {},
   "source": [
    "__CITA__ : *\"En estadística, la __regresión logística__ es un tipo de análisis de regresión utilizado para predecir el resultado de una variable categórica (una variable que puede adoptar un número limitado de categorías) en función de las variables independientes o predictoras. Es útil para modelar la probabilidad de un evento ocurriendo como función de otros factores. El análisis de regresión logística se enmarca en el conjunto de Modelos Lineales Generalizados (GLM por sus siglas en inglés) que usa como función de enlace la función logit. Las probabilidades que describen el posible resultado de un único ensayo se modelan, como una función de variables explicativas, utilizando una función logística.\"*\n",
    "* fuente : https://es.wikipedia.org/wiki/Regresión_logística"
   ]
  },
  {
   "cell_type": "code",
   "execution_count": 16,
   "metadata": {},
   "outputs": [
    {
     "name": "stdout",
     "output_type": "stream",
     "text": [
      "LogisticRegression(C=1.0, class_weight='balanced', dual=False,\n",
      "                   fit_intercept=True, intercept_scaling=1, l1_ratio=None,\n",
      "                   max_iter=150, multi_class='auto', n_jobs=1, penalty='l2',\n",
      "                   random_state=None, solver='liblinear', tol=0.0001, verbose=0,\n",
      "                   warm_start=False)\n",
      "\n",
      " Classification report : \n",
      "                          precision    recall  f1-score   support\n",
      "\n",
      "             functional       0.64      0.70      0.67      7963\n",
      "functional needs repair       0.18      0.13      0.15      1076\n",
      "         non functional       0.59      0.55      0.57      5811\n",
      "\n",
      "               accuracy                           0.60     14850\n",
      "              macro avg       0.47      0.46      0.46     14850\n",
      "           weighted avg       0.59      0.60      0.59     14850\n",
      "\n",
      "Accuracy   Score :  0.5991919191919192\n"
     ]
    }
   ],
   "source": [
    "# Modelamiento predicctivo del estado de las Bombas de agua, usando Regresión Logística.\n",
    "\n",
    "# Se importan las librerias requeridas.\n",
    "from sklearn.model_selection import train_test_split\n",
    "from sklearn.linear_model import LogisticRegression\n",
    "from sklearn.metrics import confusion_matrix,accuracy_score,classification_report\n",
    "\n",
    "# Se realiza la división de las muestras en entrenamiento y prueba.\n",
    "train_X,test_X,train_Y,test_Y = train_test_split(df_03,df_04,test_size = .25 ,random_state = 123)\n",
    "\n",
    "# Se instancia el modelo.\n",
    "logit  = LogisticRegression(C=1.0, class_weight='balanced', dual=False, fit_intercept=True,\n",
    "          intercept_scaling=1, max_iter=150, multi_class='auto', n_jobs=1,\n",
    "          penalty='l2', random_state=None, solver='liblinear', tol=0.0001,\n",
    "          verbose=0, warm_start=False)\n",
    "# Modelo\n",
    "logit.fit(train_X,train_Y)\n",
    "predictions   = logit.predict(test_X)\n",
    "probabilities = logit.predict_proba(test_X)\n",
    "    \n",
    "print (logit)\n",
    "print (\"\\n Classification report : \\n\",classification_report(test_Y,predictions))\n",
    "print (\"Accuracy   Score : \",accuracy_score(test_Y,predictions))\n"
   ]
  },
  {
   "cell_type": "markdown",
   "metadata": {},
   "source": [
    "## <a id='2.2'>2.2. Regresión Logística usando SMOTE </a>"
   ]
  },
  {
   "cell_type": "markdown",
   "metadata": {},
   "source": [
    "__SMOTE__ : Técnica de remuestro que crea observaciones sintéticas usando el \"vecino más cercano\". Muy utilizado en los modelos de predicción de Churn. \n",
    "\n",
    "__CITA__ : *\"La técnica más sencilla de sobremuestreo es la aleatoria a través de la réplica de ejemplos en la misma clase, pero este método puede ocasionar un alto sobreajuste de los clasificadores.\n",
    "Como técnica más inteligente para incrementar los ejemplos de la clase minoritaria se encuentra el algoritmo __SMOTE__ __(Synthetic Minoritary Over-sampling TEchnique)__ originario de Chawla y otros (2002). En este método la creación de nuevas muestras se origina a través de la interpolación.\"*\n",
    "* fuente : https://www2.uned.es/dpto-economia-aplicada-y-estadistica/SEIO2012.pdf"
   ]
  },
  {
   "cell_type": "code",
   "execution_count": 17,
   "metadata": {},
   "outputs": [
    {
     "name": "stdout",
     "output_type": "stream",
     "text": [
      "LogisticRegression(C=1.0, class_weight='balanced', dual=False,\n",
      "                   fit_intercept=True, intercept_scaling=1, l1_ratio=None,\n",
      "                   max_iter=150, multi_class='auto', n_jobs=1, penalty='l2',\n",
      "                   random_state=None, solver='liblinear', tol=0.0001, verbose=0,\n",
      "                   warm_start=False)\n",
      "\n",
      " Classification report : \n",
      "                          precision    recall  f1-score   support\n",
      "\n",
      "             functional       0.66      0.37      0.47      8075\n",
      "functional needs repair       0.12      0.55      0.20      1073\n",
      "         non functional       0.55      0.54      0.55      5702\n",
      "\n",
      "               accuracy                           0.45     14850\n",
      "              macro avg       0.45      0.49      0.41     14850\n",
      "           weighted avg       0.58      0.45      0.48     14850\n",
      "\n",
      "Accuracy   Score :  0.4476767676767677\n"
     ]
    }
   ],
   "source": [
    "# Es importada libreria requerida.\n",
    "from imblearn.over_sampling import SMOTE\n",
    "\n",
    "# Separación de variables predictoras de variable objetivo.\n",
    "smote_X = df_03.copy()\n",
    "smote_Y = df_04.copy()\n",
    "\n",
    "\n",
    "# Split de datos de entrenamiento y de prueba\n",
    "smote_train_X,smote_test_X,smote_train_Y,smote_test_Y = train_test_split(smote_X,smote_Y,\n",
    "                                                                         test_size = .25 ,\n",
    "                                                                         random_state = 333)\n",
    "\n",
    "# Oversampling de la clase minoritaría usando SMOTE\n",
    "os = SMOTE(random_state = 333)\n",
    "os_smote_X,os_smote_Y = os.fit_sample(smote_train_X,smote_train_Y)\n",
    "os_smote_X = pd.DataFrame(data = os_smote_X,columns=lvar_pred)\n",
    "os_smote_Y = pd.DataFrame(data = os_smote_Y,columns=var_objet)\n",
    "\n",
    "\n",
    "\n",
    "# Instanciación de la Regresión Logística\n",
    "logit_smote = LogisticRegression(C=1.0, class_weight=None, dual=False, fit_intercept=True,\n",
    "          intercept_scaling=1, max_iter=200, multi_class='ovr', n_jobs=1,\n",
    "          penalty='l2', random_state=333, solver='liblinear', tol=0.0001,\n",
    "          verbose=0, warm_start=False)\n",
    "\n",
    "# Modelo\n",
    "logit_smote.fit(os_smote_X,os_smote_Y)\n",
    "predictions   = logit_smote.predict(smote_test_X)\n",
    "probabilities = logit_smote.predict_proba(smote_test_X)\n",
    "    \n",
    "print (logit)\n",
    "print (\"\\n Classification report : \\n\",classification_report(smote_test_Y,predictions))\n",
    "print (\"Accuracy   Score : \",accuracy_score(smote_test_Y,predictions))\n"
   ]
  },
  {
   "cell_type": "markdown",
   "metadata": {},
   "source": [
    "## <a id='2.3'>2.3. XGBoost Classifier</a>"
   ]
  },
  {
   "cell_type": "markdown",
   "metadata": {},
   "source": [
    "__CITA__: *\"__Boosting__ es un enfoque de Machine Learning basado en la idea de crear una regla de predicción altamente precisa combinando muchas reglas relativamente débiles e imprecisas.\"* \n",
    "\n",
    "__CITA__ : *\"__XGBoost__  (eXtreme Gradient Boosting)  XGBoost es una implementación de árboles de decisión con Gradient boosting diseñada para minimizar la velocidad de ejecución y maximizar el rendimiento.\"*\n",
    "* fuente :  https://relopezbriega.github.io/blog/2017/06/10/boosting-en-machine-learning-con-python/"
   ]
  },
  {
   "cell_type": "code",
   "execution_count": 18,
   "metadata": {},
   "outputs": [
    {
     "name": "stdout",
     "output_type": "stream",
     "text": [
      "XGBClassifier(base_score=0.5, booster='gbtree', colsample_bylevel=1,\n",
      "              colsample_bynode=1, colsample_bytree=1, gamma=0, gpu_id=-1,\n",
      "              importance_type='gain', interaction_constraints=None,\n",
      "              learning_rate=0.9, max_delta_step=0, max_depth=7,\n",
      "              min_child_weight=1, missing=nan, monotone_constraints=None,\n",
      "              n_estimators=100, n_jobs=1, nthread=1, num_parallel_tree=1,\n",
      "              objective='multi:softprob', random_state=333, reg_alpha=0,\n",
      "              reg_lambda=1, scale_pos_weight=1, seed=333, silent=True,\n",
      "              subsample=1, tree_method=None, validate_parameters=False,\n",
      "              verbosity=None)\n",
      "\n",
      " Classification report : \n",
      "                          precision    recall  f1-score   support\n",
      "\n",
      "             functional       0.88      0.83      0.85      7963\n",
      "functional needs repair       0.40      0.72      0.51      1076\n",
      "         non functional       0.88      0.81      0.85      5811\n",
      "\n",
      "               accuracy                           0.81     14850\n",
      "              macro avg       0.72      0.79      0.74     14850\n",
      "           weighted avg       0.84      0.81      0.82     14850\n",
      "\n",
      "Accuracy   Score :  0.8142087542087542\n"
     ]
    }
   ],
   "source": [
    "# XGBoost Classifier\n",
    "# Se importa la libreria a ser usada.\n",
    "from xgboost import XGBClassifier\n",
    "\n",
    "\n",
    "xgc = XGBClassifier(base_score=0.5, booster='gbtree', colsample_bylevel=1,\n",
    "                    colsample_bytree=1, gamma=0, learning_rate=0.9, max_delta_step=0,\n",
    "                    max_depth = 7, min_child_weight=1, missing=None, n_estimators=100,\n",
    "                    n_jobs=1, nthread=None, objective='binary:logistic', random_state=333,\n",
    "                    reg_alpha=0, reg_lambda=1, scale_pos_weight=1, seed=None,\n",
    "                    silent=True, subsample=1)\n",
    "\n",
    "# Modelo\n",
    "xgc.fit(os_smote_X,os_smote_Y)\n",
    "predictions   = xgc.predict(test_X)\n",
    "probabilities = xgc.predict_proba(test_X)\n",
    "    \n",
    "print (xgc)\n",
    "print (\"\\n Classification report : \\n\",classification_report(test_Y,predictions))\n",
    "print (\"Accuracy   Score : \",accuracy_score(test_Y,predictions))\n"
   ]
  },
  {
   "cell_type": "markdown",
   "metadata": {},
   "source": [
    "## <a id='2.4'>2.4. LGBM Classifier</a>"
   ]
  },
  {
   "cell_type": "markdown",
   "metadata": {},
   "source": [
    "__CITA__ : *\"A fast, distributed, high performance gradient boosting (GBT, GBDT, GBRT, GBM or MART) framework based on decision tree algorithms, used for ranking, classification and many other machine learning tasks.\"*\n",
    "\n",
    "__CITA__ : *\"LightGBM is a gradient boosting framework that uses tree based learning algorithms.\"* \n",
    "\n",
    "\n",
    "__Traduccion__: *\"marco rápido, distribuido y de alto rendimiento de aumento de gradiente (GBT, GBDT, GBRT, GBM o MART) basado en algoritmos de árbol de decisión, utilizado para rankear, clasificar y muchas otras tareas de aprendizaje automático\"*\n",
    "\n",
    "__Traduccion__:*\"LightGBM es un marco de aumento de gradiente que utiliza algoritmos de aprendizaje basados en árboles\"*\n",
    "\n",
    "fuente : https://github.com/Microsoft/LightGBM"
   ]
  },
  {
   "cell_type": "code",
   "execution_count": 19,
   "metadata": {},
   "outputs": [
    {
     "name": "stdout",
     "output_type": "stream",
     "text": [
      "LGBMClassifier(boosting_type='gbdt', class_weight=None, colsample_bytree=1.0,\n",
      "               importance_type='split', learning_rate=0.5, max_depth=7,\n",
      "               min_child_samples=20, min_child_weight=0.001, min_split_gain=0.0,\n",
      "               n_estimators=100, n_jobs=-1, num_leaves=500, objective='binary',\n",
      "               random_state=None, reg_alpha=0.0, reg_lambda=0.0, silent=True,\n",
      "               subsample=1.0, subsample_for_bin=200000, subsample_freq=0)\n",
      "\n",
      " Classification report : \n",
      "                          precision    recall  f1-score   support\n",
      "\n",
      "             functional       0.86      0.81      0.84      7963\n",
      "functional needs repair       0.37      0.72      0.49      1076\n",
      "         non functional       0.87      0.78      0.82      5811\n",
      "\n",
      "               accuracy                           0.79     14850\n",
      "              macro avg       0.70      0.77      0.72     14850\n",
      "           weighted avg       0.83      0.79      0.81     14850\n",
      "\n",
      "Accuracy   Score :  0.7944781144781144\n"
     ]
    }
   ],
   "source": [
    "# LightGBMClassifie\n",
    "\n",
    "# Se importa la libreria requerida\n",
    "from lightgbm import LGBMClassifier\n",
    "\n",
    "# Se instancia el modelo.\n",
    "lgbm_c = LGBMClassifier(boosting_type='gbdt', class_weight=None, colsample_bytree=1.0,\n",
    "                        learning_rate=0.5, max_depth=7, min_child_samples=20,\n",
    "                        min_child_weight=0.001, min_split_gain=0.0, n_estimators=100,\n",
    "                        n_jobs=-1, num_leaves=500, objective='binary', random_state=None,\n",
    "                        reg_alpha=0.0, reg_lambda=0.0, silent=True, subsample=1.0,\n",
    "                        subsample_for_bin=200000, subsample_freq=0)\n",
    "\n",
    "# Modelo\n",
    "lgbm_c.fit(os_smote_X,os_smote_Y)\n",
    "predictions   = lgbm_c.predict(test_X)\n",
    "probabilities = lgbm_c.predict_proba(test_X)\n",
    "    \n",
    "print (lgbm_c)\n",
    "print (\"\\n Classification report : \\n\",classification_report(test_Y,predictions))\n",
    "print (\"Accuracy   Score : \",accuracy_score(test_Y,predictions))"
   ]
  },
  {
   "cell_type": "markdown",
   "metadata": {},
   "source": [
    "## <a id='2.5'>2.5. BalancedBaggingClassifier</a>\n"
   ]
  },
  {
   "cell_type": "markdown",
   "metadata": {},
   "source": [
    "__CITA__ : *\"Machine learning classsification algorithms tend to produce unsatisfactory results when trying to classify unbalanced datasets\"* \n",
    "\n",
    "__CITA__ : *\"To improve the prediction, our machine learning algorithms would require a roughly equal number of observations from each class. This new dataset can be constructed by resampling our observations.\" \n",
    "\n",
    "__CITA__ : *\"__Balanced Bagging Classifier__ : This is essentially a bagging classifier with additional balancing.\" \n",
    "\n",
    "* fuente : https://xang1234.github.io/louvain/\n",
    "\n",
    "* otra fuente : https://machinelearningmastery.com/bagging-and-random-forest-for-imbalanced-classification/\n",
    "\n",
    "* fuente alternativa : https://towardsdatascience.com/having-an-imbalanced-dataset-here-is-how-you-can-solve-it-1640568947eb\n"
   ]
  },
  {
   "cell_type": "code",
   "execution_count": 20,
   "metadata": {},
   "outputs": [
    {
     "name": "stdout",
     "output_type": "stream",
     "text": [
      "BalancedBaggingClassifier(base_estimator=DecisionTreeClassifier(ccp_alpha=0.0,\n",
      "                                                                class_weight=None,\n",
      "                                                                criterion='gini',\n",
      "                                                                max_depth=None,\n",
      "                                                                max_features=None,\n",
      "                                                                max_leaf_nodes=None,\n",
      "                                                                min_impurity_decrease=0.0,\n",
      "                                                                min_impurity_split=None,\n",
      "                                                                min_samples_leaf=1,\n",
      "                                                                min_samples_split=2,\n",
      "                                                                min_weight_fraction_leaf=0.0,\n",
      "                                                                presort='deprecated',\n",
      "                                                                random_state=None,\n",
      "                                                                splitter='best'),\n",
      "                          bootstrap=True, bootstrap_features=False,\n",
      "                          max_features=1.0, max_samples=1.0, n_estimators=10,\n",
      "                          n_jobs=None, oob_score=False, random_state=0,\n",
      "                          replacement=False, sampling_strategy='auto',\n",
      "                          verbose=0, warm_start=False)\n",
      "\n",
      " Classification report : \n",
      "                          precision    recall  f1-score   support\n",
      "\n",
      "             functional       0.89      0.84      0.87      7963\n",
      "functional needs repair       0.42      0.74      0.54      1076\n",
      "         non functional       0.89      0.83      0.86      5811\n",
      "\n",
      "               accuracy                           0.83     14850\n",
      "              macro avg       0.74      0.81      0.76     14850\n",
      "           weighted avg       0.86      0.83      0.84     14850\n",
      "\n",
      "Accuracy   Score :  0.8321212121212122\n"
     ]
    }
   ],
   "source": [
    "# BalancedBaggingClassifier\n",
    "\n",
    "# Se importan las librerias requeridas\n",
    "from sklearn.tree import DecisionTreeClassifier\n",
    "from sklearn import tree\n",
    "from imblearn.ensemble import BalancedBaggingClassifier\n",
    "\n",
    "# Se instancia el modelo\n",
    "bbc = BalancedBaggingClassifier(base_estimator=DecisionTreeClassifier(),\n",
    "                                sampling_strategy='auto',\n",
    "                                replacement=False,\n",
    "                                random_state=0)\n",
    "\n",
    "# Modelo\n",
    "bbc.fit(os_smote_X,os_smote_Y)\n",
    "predictions   = bbc.predict(test_X)\n",
    "probabilities = bbc.predict_proba(test_X)\n",
    "    \n",
    "print (bbc)\n",
    "print (\"\\n Classification report : \\n\",classification_report(test_Y,predictions))\n",
    "print (\"Accuracy   Score : \",accuracy_score(test_Y,predictions))\n",
    "\n"
   ]
  },
  {
   "cell_type": "markdown",
   "metadata": {},
   "source": [
    "## <a id='2.6'>2.6. Neural Networks</a>    \n",
    "<font color='red' align='right'> Nuevo! </font>"
   ]
  },
  {
   "cell_type": "code",
   "execution_count": 21,
   "metadata": {},
   "outputs": [],
   "source": [
    "# En desarrollo"
   ]
  },
  {
   "cell_type": "markdown",
   "metadata": {},
   "source": [
    "# <a id='3'>3. Rendimiento de los modelos</a>\n",
    "\n",
    "En este punto se realiza la revisión del rendimiento de los modelos predictivos del estado de las Bombas de agua implementados. "
   ]
  },
  {
   "cell_type": "code",
   "execution_count": 22,
   "metadata": {},
   "outputs": [
    {
     "data": {
      "application/vnd.plotly.v1+json": {
       "config": {
        "linkText": "Export to plot.ly",
        "plotlyServerURL": "https://plot.ly",
        "showLink": false
       },
       "data": [
        {
         "colorscale": [
          [
           0,
           "#00083e"
          ],
          [
           0.5,
           "#ededee"
          ],
          [
           1,
           "#ffffff"
          ]
         ],
         "hoverinfo": "none",
         "opacity": 0.75,
         "showscale": false,
         "type": "heatmap",
         "z": [
          [
           0,
           0
          ],
          [
           0.5,
           0.5
          ],
          [
           1,
           1
          ],
          [
           0.5,
           0.5
          ],
          [
           1,
           1
          ],
          [
           0.5,
           0.5
          ]
         ]
        }
       ],
       "layout": {
        "annotations": [
         {
          "align": "left",
          "font": {
           "color": "#ffffff"
          },
          "showarrow": false,
          "text": "<b>Model</b>",
          "x": -0.45,
          "xanchor": "left",
          "xref": "x",
          "y": 0,
          "yref": "y"
         },
         {
          "align": "left",
          "font": {
           "color": "#ffffff"
          },
          "showarrow": false,
          "text": "<b>Accuracy_score</b>",
          "x": 0.55,
          "xanchor": "left",
          "xref": "x",
          "y": 0,
          "yref": "y"
         },
         {
          "align": "left",
          "font": {
           "color": "#000000"
          },
          "showarrow": false,
          "text": "Logistic Regression",
          "x": -0.45,
          "xanchor": "left",
          "xref": "x",
          "y": 1,
          "yref": "y"
         },
         {
          "align": "left",
          "font": {
           "color": "#000000"
          },
          "showarrow": false,
          "text": "0.5992",
          "x": 0.55,
          "xanchor": "left",
          "xref": "x",
          "y": 1,
          "yref": "y"
         },
         {
          "align": "left",
          "font": {
           "color": "#000000"
          },
          "showarrow": false,
          "text": "Logistic Regression(SMOTE)",
          "x": -0.45,
          "xanchor": "left",
          "xref": "x",
          "y": 2,
          "yref": "y"
         },
         {
          "align": "left",
          "font": {
           "color": "#000000"
          },
          "showarrow": false,
          "text": "0.447",
          "x": 0.55,
          "xanchor": "left",
          "xref": "x",
          "y": 2,
          "yref": "y"
         },
         {
          "align": "left",
          "font": {
           "color": "#000000"
          },
          "showarrow": false,
          "text": "XGBoost Classifier",
          "x": -0.45,
          "xanchor": "left",
          "xref": "x",
          "y": 3,
          "yref": "y"
         },
         {
          "align": "left",
          "font": {
           "color": "#000000"
          },
          "showarrow": false,
          "text": "0.8142",
          "x": 0.55,
          "xanchor": "left",
          "xref": "x",
          "y": 3,
          "yref": "y"
         },
         {
          "align": "left",
          "font": {
           "color": "#000000"
          },
          "showarrow": false,
          "text": "LGBM Classifier",
          "x": -0.45,
          "xanchor": "left",
          "xref": "x",
          "y": 4,
          "yref": "y"
         },
         {
          "align": "left",
          "font": {
           "color": "#000000"
          },
          "showarrow": false,
          "text": "0.7945",
          "x": 0.55,
          "xanchor": "left",
          "xref": "x",
          "y": 4,
          "yref": "y"
         },
         {
          "align": "left",
          "font": {
           "color": "#000000"
          },
          "showarrow": false,
          "text": "Balanced Bagging Classifier",
          "x": -0.45,
          "xanchor": "left",
          "xref": "x",
          "y": 5,
          "yref": "y"
         },
         {
          "align": "left",
          "font": {
           "color": "#000000"
          },
          "showarrow": false,
          "text": "0.8321",
          "x": 0.55,
          "xanchor": "left",
          "xref": "x",
          "y": 5,
          "yref": "y"
         }
        ],
        "height": 230,
        "margin": {
         "b": 0,
         "l": 0,
         "r": 0,
         "t": 0
        },
        "template": {
         "data": {
          "bar": [
           {
            "error_x": {
             "color": "#2a3f5f"
            },
            "error_y": {
             "color": "#2a3f5f"
            },
            "marker": {
             "line": {
              "color": "#E5ECF6",
              "width": 0.5
             }
            },
            "type": "bar"
           }
          ],
          "barpolar": [
           {
            "marker": {
             "line": {
              "color": "#E5ECF6",
              "width": 0.5
             }
            },
            "type": "barpolar"
           }
          ],
          "carpet": [
           {
            "aaxis": {
             "endlinecolor": "#2a3f5f",
             "gridcolor": "white",
             "linecolor": "white",
             "minorgridcolor": "white",
             "startlinecolor": "#2a3f5f"
            },
            "baxis": {
             "endlinecolor": "#2a3f5f",
             "gridcolor": "white",
             "linecolor": "white",
             "minorgridcolor": "white",
             "startlinecolor": "#2a3f5f"
            },
            "type": "carpet"
           }
          ],
          "choropleth": [
           {
            "colorbar": {
             "outlinewidth": 0,
             "ticks": ""
            },
            "type": "choropleth"
           }
          ],
          "contour": [
           {
            "colorbar": {
             "outlinewidth": 0,
             "ticks": ""
            },
            "colorscale": [
             [
              0,
              "#0d0887"
             ],
             [
              0.1111111111111111,
              "#46039f"
             ],
             [
              0.2222222222222222,
              "#7201a8"
             ],
             [
              0.3333333333333333,
              "#9c179e"
             ],
             [
              0.4444444444444444,
              "#bd3786"
             ],
             [
              0.5555555555555556,
              "#d8576b"
             ],
             [
              0.6666666666666666,
              "#ed7953"
             ],
             [
              0.7777777777777778,
              "#fb9f3a"
             ],
             [
              0.8888888888888888,
              "#fdca26"
             ],
             [
              1,
              "#f0f921"
             ]
            ],
            "type": "contour"
           }
          ],
          "contourcarpet": [
           {
            "colorbar": {
             "outlinewidth": 0,
             "ticks": ""
            },
            "type": "contourcarpet"
           }
          ],
          "heatmap": [
           {
            "colorbar": {
             "outlinewidth": 0,
             "ticks": ""
            },
            "colorscale": [
             [
              0,
              "#0d0887"
             ],
             [
              0.1111111111111111,
              "#46039f"
             ],
             [
              0.2222222222222222,
              "#7201a8"
             ],
             [
              0.3333333333333333,
              "#9c179e"
             ],
             [
              0.4444444444444444,
              "#bd3786"
             ],
             [
              0.5555555555555556,
              "#d8576b"
             ],
             [
              0.6666666666666666,
              "#ed7953"
             ],
             [
              0.7777777777777778,
              "#fb9f3a"
             ],
             [
              0.8888888888888888,
              "#fdca26"
             ],
             [
              1,
              "#f0f921"
             ]
            ],
            "type": "heatmap"
           }
          ],
          "heatmapgl": [
           {
            "colorbar": {
             "outlinewidth": 0,
             "ticks": ""
            },
            "colorscale": [
             [
              0,
              "#0d0887"
             ],
             [
              0.1111111111111111,
              "#46039f"
             ],
             [
              0.2222222222222222,
              "#7201a8"
             ],
             [
              0.3333333333333333,
              "#9c179e"
             ],
             [
              0.4444444444444444,
              "#bd3786"
             ],
             [
              0.5555555555555556,
              "#d8576b"
             ],
             [
              0.6666666666666666,
              "#ed7953"
             ],
             [
              0.7777777777777778,
              "#fb9f3a"
             ],
             [
              0.8888888888888888,
              "#fdca26"
             ],
             [
              1,
              "#f0f921"
             ]
            ],
            "type": "heatmapgl"
           }
          ],
          "histogram": [
           {
            "marker": {
             "colorbar": {
              "outlinewidth": 0,
              "ticks": ""
             }
            },
            "type": "histogram"
           }
          ],
          "histogram2d": [
           {
            "colorbar": {
             "outlinewidth": 0,
             "ticks": ""
            },
            "colorscale": [
             [
              0,
              "#0d0887"
             ],
             [
              0.1111111111111111,
              "#46039f"
             ],
             [
              0.2222222222222222,
              "#7201a8"
             ],
             [
              0.3333333333333333,
              "#9c179e"
             ],
             [
              0.4444444444444444,
              "#bd3786"
             ],
             [
              0.5555555555555556,
              "#d8576b"
             ],
             [
              0.6666666666666666,
              "#ed7953"
             ],
             [
              0.7777777777777778,
              "#fb9f3a"
             ],
             [
              0.8888888888888888,
              "#fdca26"
             ],
             [
              1,
              "#f0f921"
             ]
            ],
            "type": "histogram2d"
           }
          ],
          "histogram2dcontour": [
           {
            "colorbar": {
             "outlinewidth": 0,
             "ticks": ""
            },
            "colorscale": [
             [
              0,
              "#0d0887"
             ],
             [
              0.1111111111111111,
              "#46039f"
             ],
             [
              0.2222222222222222,
              "#7201a8"
             ],
             [
              0.3333333333333333,
              "#9c179e"
             ],
             [
              0.4444444444444444,
              "#bd3786"
             ],
             [
              0.5555555555555556,
              "#d8576b"
             ],
             [
              0.6666666666666666,
              "#ed7953"
             ],
             [
              0.7777777777777778,
              "#fb9f3a"
             ],
             [
              0.8888888888888888,
              "#fdca26"
             ],
             [
              1,
              "#f0f921"
             ]
            ],
            "type": "histogram2dcontour"
           }
          ],
          "mesh3d": [
           {
            "colorbar": {
             "outlinewidth": 0,
             "ticks": ""
            },
            "type": "mesh3d"
           }
          ],
          "parcoords": [
           {
            "line": {
             "colorbar": {
              "outlinewidth": 0,
              "ticks": ""
             }
            },
            "type": "parcoords"
           }
          ],
          "pie": [
           {
            "automargin": true,
            "type": "pie"
           }
          ],
          "scatter": [
           {
            "marker": {
             "colorbar": {
              "outlinewidth": 0,
              "ticks": ""
             }
            },
            "type": "scatter"
           }
          ],
          "scatter3d": [
           {
            "line": {
             "colorbar": {
              "outlinewidth": 0,
              "ticks": ""
             }
            },
            "marker": {
             "colorbar": {
              "outlinewidth": 0,
              "ticks": ""
             }
            },
            "type": "scatter3d"
           }
          ],
          "scattercarpet": [
           {
            "marker": {
             "colorbar": {
              "outlinewidth": 0,
              "ticks": ""
             }
            },
            "type": "scattercarpet"
           }
          ],
          "scattergeo": [
           {
            "marker": {
             "colorbar": {
              "outlinewidth": 0,
              "ticks": ""
             }
            },
            "type": "scattergeo"
           }
          ],
          "scattergl": [
           {
            "marker": {
             "colorbar": {
              "outlinewidth": 0,
              "ticks": ""
             }
            },
            "type": "scattergl"
           }
          ],
          "scattermapbox": [
           {
            "marker": {
             "colorbar": {
              "outlinewidth": 0,
              "ticks": ""
             }
            },
            "type": "scattermapbox"
           }
          ],
          "scatterpolar": [
           {
            "marker": {
             "colorbar": {
              "outlinewidth": 0,
              "ticks": ""
             }
            },
            "type": "scatterpolar"
           }
          ],
          "scatterpolargl": [
           {
            "marker": {
             "colorbar": {
              "outlinewidth": 0,
              "ticks": ""
             }
            },
            "type": "scatterpolargl"
           }
          ],
          "scatterternary": [
           {
            "marker": {
             "colorbar": {
              "outlinewidth": 0,
              "ticks": ""
             }
            },
            "type": "scatterternary"
           }
          ],
          "surface": [
           {
            "colorbar": {
             "outlinewidth": 0,
             "ticks": ""
            },
            "colorscale": [
             [
              0,
              "#0d0887"
             ],
             [
              0.1111111111111111,
              "#46039f"
             ],
             [
              0.2222222222222222,
              "#7201a8"
             ],
             [
              0.3333333333333333,
              "#9c179e"
             ],
             [
              0.4444444444444444,
              "#bd3786"
             ],
             [
              0.5555555555555556,
              "#d8576b"
             ],
             [
              0.6666666666666666,
              "#ed7953"
             ],
             [
              0.7777777777777778,
              "#fb9f3a"
             ],
             [
              0.8888888888888888,
              "#fdca26"
             ],
             [
              1,
              "#f0f921"
             ]
            ],
            "type": "surface"
           }
          ],
          "table": [
           {
            "cells": {
             "fill": {
              "color": "#EBF0F8"
             },
             "line": {
              "color": "white"
             }
            },
            "header": {
             "fill": {
              "color": "#C8D4E3"
             },
             "line": {
              "color": "white"
             }
            },
            "type": "table"
           }
          ]
         },
         "layout": {
          "annotationdefaults": {
           "arrowcolor": "#2a3f5f",
           "arrowhead": 0,
           "arrowwidth": 1
          },
          "coloraxis": {
           "colorbar": {
            "outlinewidth": 0,
            "ticks": ""
           }
          },
          "colorscale": {
           "diverging": [
            [
             0,
             "#8e0152"
            ],
            [
             0.1,
             "#c51b7d"
            ],
            [
             0.2,
             "#de77ae"
            ],
            [
             0.3,
             "#f1b6da"
            ],
            [
             0.4,
             "#fde0ef"
            ],
            [
             0.5,
             "#f7f7f7"
            ],
            [
             0.6,
             "#e6f5d0"
            ],
            [
             0.7,
             "#b8e186"
            ],
            [
             0.8,
             "#7fbc41"
            ],
            [
             0.9,
             "#4d9221"
            ],
            [
             1,
             "#276419"
            ]
           ],
           "sequential": [
            [
             0,
             "#0d0887"
            ],
            [
             0.1111111111111111,
             "#46039f"
            ],
            [
             0.2222222222222222,
             "#7201a8"
            ],
            [
             0.3333333333333333,
             "#9c179e"
            ],
            [
             0.4444444444444444,
             "#bd3786"
            ],
            [
             0.5555555555555556,
             "#d8576b"
            ],
            [
             0.6666666666666666,
             "#ed7953"
            ],
            [
             0.7777777777777778,
             "#fb9f3a"
            ],
            [
             0.8888888888888888,
             "#fdca26"
            ],
            [
             1,
             "#f0f921"
            ]
           ],
           "sequentialminus": [
            [
             0,
             "#0d0887"
            ],
            [
             0.1111111111111111,
             "#46039f"
            ],
            [
             0.2222222222222222,
             "#7201a8"
            ],
            [
             0.3333333333333333,
             "#9c179e"
            ],
            [
             0.4444444444444444,
             "#bd3786"
            ],
            [
             0.5555555555555556,
             "#d8576b"
            ],
            [
             0.6666666666666666,
             "#ed7953"
            ],
            [
             0.7777777777777778,
             "#fb9f3a"
            ],
            [
             0.8888888888888888,
             "#fdca26"
            ],
            [
             1,
             "#f0f921"
            ]
           ]
          },
          "colorway": [
           "#636efa",
           "#EF553B",
           "#00cc96",
           "#ab63fa",
           "#FFA15A",
           "#19d3f3",
           "#FF6692",
           "#B6E880",
           "#FF97FF",
           "#FECB52"
          ],
          "font": {
           "color": "#2a3f5f"
          },
          "geo": {
           "bgcolor": "white",
           "lakecolor": "white",
           "landcolor": "#E5ECF6",
           "showlakes": true,
           "showland": true,
           "subunitcolor": "white"
          },
          "hoverlabel": {
           "align": "left"
          },
          "hovermode": "closest",
          "mapbox": {
           "style": "light"
          },
          "paper_bgcolor": "white",
          "plot_bgcolor": "#E5ECF6",
          "polar": {
           "angularaxis": {
            "gridcolor": "white",
            "linecolor": "white",
            "ticks": ""
           },
           "bgcolor": "#E5ECF6",
           "radialaxis": {
            "gridcolor": "white",
            "linecolor": "white",
            "ticks": ""
           }
          },
          "scene": {
           "xaxis": {
            "backgroundcolor": "#E5ECF6",
            "gridcolor": "white",
            "gridwidth": 2,
            "linecolor": "white",
            "showbackground": true,
            "ticks": "",
            "zerolinecolor": "white"
           },
           "yaxis": {
            "backgroundcolor": "#E5ECF6",
            "gridcolor": "white",
            "gridwidth": 2,
            "linecolor": "white",
            "showbackground": true,
            "ticks": "",
            "zerolinecolor": "white"
           },
           "zaxis": {
            "backgroundcolor": "#E5ECF6",
            "gridcolor": "white",
            "gridwidth": 2,
            "linecolor": "white",
            "showbackground": true,
            "ticks": "",
            "zerolinecolor": "white"
           }
          },
          "shapedefaults": {
           "line": {
            "color": "#2a3f5f"
           }
          },
          "ternary": {
           "aaxis": {
            "gridcolor": "white",
            "linecolor": "white",
            "ticks": ""
           },
           "baxis": {
            "gridcolor": "white",
            "linecolor": "white",
            "ticks": ""
           },
           "bgcolor": "#E5ECF6",
           "caxis": {
            "gridcolor": "white",
            "linecolor": "white",
            "ticks": ""
           }
          },
          "title": {
           "x": 0.05
          },
          "xaxis": {
           "automargin": true,
           "gridcolor": "white",
           "linecolor": "white",
           "ticks": "",
           "title": {
            "standoff": 15
           },
           "zerolinecolor": "white",
           "zerolinewidth": 2
          },
          "yaxis": {
           "automargin": true,
           "gridcolor": "white",
           "linecolor": "white",
           "ticks": "",
           "title": {
            "standoff": 15
           },
           "zerolinecolor": "white",
           "zerolinewidth": 2
          }
         }
        },
        "xaxis": {
         "dtick": 1,
         "gridwidth": 2,
         "showticklabels": false,
         "tick0": -0.5,
         "ticks": "",
         "zeroline": false
        },
        "yaxis": {
         "autorange": "reversed",
         "dtick": 1,
         "gridwidth": 2,
         "showticklabels": false,
         "tick0": 0.5,
         "ticks": "",
         "zeroline": false
        }
       }
      },
      "text/html": [
       "<div>\n",
       "        \n",
       "        \n",
       "            <div id=\"d64ae248-280d-4dfc-98d3-0414589648fb\" class=\"plotly-graph-div\" style=\"height:230px; width:100%;\"></div>\n",
       "            <script type=\"text/javascript\">\n",
       "                require([\"plotly\"], function(Plotly) {\n",
       "                    window.PLOTLYENV=window.PLOTLYENV || {};\n",
       "                    \n",
       "                if (document.getElementById(\"d64ae248-280d-4dfc-98d3-0414589648fb\")) {\n",
       "                    Plotly.newPlot(\n",
       "                        'd64ae248-280d-4dfc-98d3-0414589648fb',\n",
       "                        [{\"colorscale\": [[0, \"#00083e\"], [0.5, \"#ededee\"], [1, \"#ffffff\"]], \"hoverinfo\": \"none\", \"opacity\": 0.75, \"showscale\": false, \"type\": \"heatmap\", \"z\": [[0, 0], [0.5, 0.5], [1, 1], [0.5, 0.5], [1, 1], [0.5, 0.5]]}],\n",
       "                        {\"annotations\": [{\"align\": \"left\", \"font\": {\"color\": \"#ffffff\"}, \"showarrow\": false, \"text\": \"<b>Model</b>\", \"x\": -0.45, \"xanchor\": \"left\", \"xref\": \"x\", \"y\": 0, \"yref\": \"y\"}, {\"align\": \"left\", \"font\": {\"color\": \"#ffffff\"}, \"showarrow\": false, \"text\": \"<b>Accuracy_score</b>\", \"x\": 0.55, \"xanchor\": \"left\", \"xref\": \"x\", \"y\": 0, \"yref\": \"y\"}, {\"align\": \"left\", \"font\": {\"color\": \"#000000\"}, \"showarrow\": false, \"text\": \"Logistic Regression\", \"x\": -0.45, \"xanchor\": \"left\", \"xref\": \"x\", \"y\": 1, \"yref\": \"y\"}, {\"align\": \"left\", \"font\": {\"color\": \"#000000\"}, \"showarrow\": false, \"text\": \"0.5992\", \"x\": 0.55, \"xanchor\": \"left\", \"xref\": \"x\", \"y\": 1, \"yref\": \"y\"}, {\"align\": \"left\", \"font\": {\"color\": \"#000000\"}, \"showarrow\": false, \"text\": \"Logistic Regression(SMOTE)\", \"x\": -0.45, \"xanchor\": \"left\", \"xref\": \"x\", \"y\": 2, \"yref\": \"y\"}, {\"align\": \"left\", \"font\": {\"color\": \"#000000\"}, \"showarrow\": false, \"text\": \"0.447\", \"x\": 0.55, \"xanchor\": \"left\", \"xref\": \"x\", \"y\": 2, \"yref\": \"y\"}, {\"align\": \"left\", \"font\": {\"color\": \"#000000\"}, \"showarrow\": false, \"text\": \"XGBoost Classifier\", \"x\": -0.45, \"xanchor\": \"left\", \"xref\": \"x\", \"y\": 3, \"yref\": \"y\"}, {\"align\": \"left\", \"font\": {\"color\": \"#000000\"}, \"showarrow\": false, \"text\": \"0.8142\", \"x\": 0.55, \"xanchor\": \"left\", \"xref\": \"x\", \"y\": 3, \"yref\": \"y\"}, {\"align\": \"left\", \"font\": {\"color\": \"#000000\"}, \"showarrow\": false, \"text\": \"LGBM Classifier\", \"x\": -0.45, \"xanchor\": \"left\", \"xref\": \"x\", \"y\": 4, \"yref\": \"y\"}, {\"align\": \"left\", \"font\": {\"color\": \"#000000\"}, \"showarrow\": false, \"text\": \"0.7945\", \"x\": 0.55, \"xanchor\": \"left\", \"xref\": \"x\", \"y\": 4, \"yref\": \"y\"}, {\"align\": \"left\", \"font\": {\"color\": \"#000000\"}, \"showarrow\": false, \"text\": \"Balanced Bagging Classifier\", \"x\": -0.45, \"xanchor\": \"left\", \"xref\": \"x\", \"y\": 5, \"yref\": \"y\"}, {\"align\": \"left\", \"font\": {\"color\": \"#000000\"}, \"showarrow\": false, \"text\": \"0.8321\", \"x\": 0.55, \"xanchor\": \"left\", \"xref\": \"x\", \"y\": 5, \"yref\": \"y\"}], \"height\": 230, \"margin\": {\"b\": 0, \"l\": 0, \"r\": 0, \"t\": 0}, \"template\": {\"data\": {\"bar\": [{\"error_x\": {\"color\": \"#2a3f5f\"}, \"error_y\": {\"color\": \"#2a3f5f\"}, \"marker\": {\"line\": {\"color\": \"#E5ECF6\", \"width\": 0.5}}, \"type\": \"bar\"}], \"barpolar\": [{\"marker\": {\"line\": {\"color\": \"#E5ECF6\", \"width\": 0.5}}, \"type\": \"barpolar\"}], \"carpet\": [{\"aaxis\": {\"endlinecolor\": \"#2a3f5f\", \"gridcolor\": \"white\", \"linecolor\": \"white\", \"minorgridcolor\": \"white\", \"startlinecolor\": \"#2a3f5f\"}, \"baxis\": {\"endlinecolor\": \"#2a3f5f\", \"gridcolor\": \"white\", \"linecolor\": \"white\", \"minorgridcolor\": \"white\", \"startlinecolor\": \"#2a3f5f\"}, \"type\": \"carpet\"}], \"choropleth\": [{\"colorbar\": {\"outlinewidth\": 0, \"ticks\": \"\"}, \"type\": \"choropleth\"}], \"contour\": [{\"colorbar\": {\"outlinewidth\": 0, \"ticks\": \"\"}, \"colorscale\": [[0.0, \"#0d0887\"], [0.1111111111111111, \"#46039f\"], [0.2222222222222222, \"#7201a8\"], [0.3333333333333333, \"#9c179e\"], [0.4444444444444444, \"#bd3786\"], [0.5555555555555556, \"#d8576b\"], [0.6666666666666666, \"#ed7953\"], [0.7777777777777778, \"#fb9f3a\"], [0.8888888888888888, \"#fdca26\"], [1.0, \"#f0f921\"]], \"type\": \"contour\"}], \"contourcarpet\": [{\"colorbar\": {\"outlinewidth\": 0, \"ticks\": \"\"}, \"type\": \"contourcarpet\"}], \"heatmap\": [{\"colorbar\": {\"outlinewidth\": 0, \"ticks\": \"\"}, \"colorscale\": [[0.0, \"#0d0887\"], [0.1111111111111111, \"#46039f\"], [0.2222222222222222, \"#7201a8\"], [0.3333333333333333, \"#9c179e\"], [0.4444444444444444, \"#bd3786\"], [0.5555555555555556, \"#d8576b\"], [0.6666666666666666, \"#ed7953\"], [0.7777777777777778, \"#fb9f3a\"], [0.8888888888888888, \"#fdca26\"], [1.0, \"#f0f921\"]], \"type\": \"heatmap\"}], \"heatmapgl\": [{\"colorbar\": {\"outlinewidth\": 0, \"ticks\": \"\"}, \"colorscale\": [[0.0, \"#0d0887\"], [0.1111111111111111, \"#46039f\"], [0.2222222222222222, \"#7201a8\"], [0.3333333333333333, \"#9c179e\"], [0.4444444444444444, \"#bd3786\"], [0.5555555555555556, \"#d8576b\"], [0.6666666666666666, \"#ed7953\"], [0.7777777777777778, \"#fb9f3a\"], [0.8888888888888888, \"#fdca26\"], [1.0, \"#f0f921\"]], \"type\": \"heatmapgl\"}], \"histogram\": [{\"marker\": {\"colorbar\": {\"outlinewidth\": 0, \"ticks\": \"\"}}, \"type\": \"histogram\"}], \"histogram2d\": [{\"colorbar\": {\"outlinewidth\": 0, \"ticks\": \"\"}, \"colorscale\": [[0.0, \"#0d0887\"], [0.1111111111111111, \"#46039f\"], [0.2222222222222222, \"#7201a8\"], [0.3333333333333333, \"#9c179e\"], [0.4444444444444444, \"#bd3786\"], [0.5555555555555556, \"#d8576b\"], [0.6666666666666666, \"#ed7953\"], [0.7777777777777778, \"#fb9f3a\"], [0.8888888888888888, \"#fdca26\"], [1.0, \"#f0f921\"]], \"type\": \"histogram2d\"}], \"histogram2dcontour\": [{\"colorbar\": {\"outlinewidth\": 0, \"ticks\": \"\"}, \"colorscale\": [[0.0, \"#0d0887\"], [0.1111111111111111, \"#46039f\"], [0.2222222222222222, \"#7201a8\"], [0.3333333333333333, \"#9c179e\"], [0.4444444444444444, \"#bd3786\"], [0.5555555555555556, \"#d8576b\"], [0.6666666666666666, \"#ed7953\"], [0.7777777777777778, \"#fb9f3a\"], [0.8888888888888888, \"#fdca26\"], [1.0, \"#f0f921\"]], \"type\": \"histogram2dcontour\"}], \"mesh3d\": [{\"colorbar\": {\"outlinewidth\": 0, \"ticks\": \"\"}, \"type\": \"mesh3d\"}], \"parcoords\": [{\"line\": {\"colorbar\": {\"outlinewidth\": 0, \"ticks\": \"\"}}, \"type\": \"parcoords\"}], \"pie\": [{\"automargin\": true, \"type\": \"pie\"}], \"scatter\": [{\"marker\": {\"colorbar\": {\"outlinewidth\": 0, \"ticks\": \"\"}}, \"type\": \"scatter\"}], \"scatter3d\": [{\"line\": {\"colorbar\": {\"outlinewidth\": 0, \"ticks\": \"\"}}, \"marker\": {\"colorbar\": {\"outlinewidth\": 0, \"ticks\": \"\"}}, \"type\": \"scatter3d\"}], \"scattercarpet\": [{\"marker\": {\"colorbar\": {\"outlinewidth\": 0, \"ticks\": \"\"}}, \"type\": \"scattercarpet\"}], \"scattergeo\": [{\"marker\": {\"colorbar\": {\"outlinewidth\": 0, \"ticks\": \"\"}}, \"type\": \"scattergeo\"}], \"scattergl\": [{\"marker\": {\"colorbar\": {\"outlinewidth\": 0, \"ticks\": \"\"}}, \"type\": \"scattergl\"}], \"scattermapbox\": [{\"marker\": {\"colorbar\": {\"outlinewidth\": 0, \"ticks\": \"\"}}, \"type\": \"scattermapbox\"}], \"scatterpolar\": [{\"marker\": {\"colorbar\": {\"outlinewidth\": 0, \"ticks\": \"\"}}, \"type\": \"scatterpolar\"}], \"scatterpolargl\": [{\"marker\": {\"colorbar\": {\"outlinewidth\": 0, \"ticks\": \"\"}}, \"type\": \"scatterpolargl\"}], \"scatterternary\": [{\"marker\": {\"colorbar\": {\"outlinewidth\": 0, \"ticks\": \"\"}}, \"type\": \"scatterternary\"}], \"surface\": [{\"colorbar\": {\"outlinewidth\": 0, \"ticks\": \"\"}, \"colorscale\": [[0.0, \"#0d0887\"], [0.1111111111111111, \"#46039f\"], [0.2222222222222222, \"#7201a8\"], [0.3333333333333333, \"#9c179e\"], [0.4444444444444444, \"#bd3786\"], [0.5555555555555556, \"#d8576b\"], [0.6666666666666666, \"#ed7953\"], [0.7777777777777778, \"#fb9f3a\"], [0.8888888888888888, \"#fdca26\"], [1.0, \"#f0f921\"]], \"type\": \"surface\"}], \"table\": [{\"cells\": {\"fill\": {\"color\": \"#EBF0F8\"}, \"line\": {\"color\": \"white\"}}, \"header\": {\"fill\": {\"color\": \"#C8D4E3\"}, \"line\": {\"color\": \"white\"}}, \"type\": \"table\"}]}, \"layout\": {\"annotationdefaults\": {\"arrowcolor\": \"#2a3f5f\", \"arrowhead\": 0, \"arrowwidth\": 1}, \"coloraxis\": {\"colorbar\": {\"outlinewidth\": 0, \"ticks\": \"\"}}, \"colorscale\": {\"diverging\": [[0, \"#8e0152\"], [0.1, \"#c51b7d\"], [0.2, \"#de77ae\"], [0.3, \"#f1b6da\"], [0.4, \"#fde0ef\"], [0.5, \"#f7f7f7\"], [0.6, \"#e6f5d0\"], [0.7, \"#b8e186\"], [0.8, \"#7fbc41\"], [0.9, \"#4d9221\"], [1, \"#276419\"]], \"sequential\": [[0.0, \"#0d0887\"], [0.1111111111111111, \"#46039f\"], [0.2222222222222222, \"#7201a8\"], [0.3333333333333333, \"#9c179e\"], [0.4444444444444444, \"#bd3786\"], [0.5555555555555556, \"#d8576b\"], [0.6666666666666666, \"#ed7953\"], [0.7777777777777778, \"#fb9f3a\"], [0.8888888888888888, \"#fdca26\"], [1.0, \"#f0f921\"]], \"sequentialminus\": [[0.0, \"#0d0887\"], [0.1111111111111111, \"#46039f\"], [0.2222222222222222, \"#7201a8\"], [0.3333333333333333, \"#9c179e\"], [0.4444444444444444, \"#bd3786\"], [0.5555555555555556, \"#d8576b\"], [0.6666666666666666, \"#ed7953\"], [0.7777777777777778, \"#fb9f3a\"], [0.8888888888888888, \"#fdca26\"], [1.0, \"#f0f921\"]]}, \"colorway\": [\"#636efa\", \"#EF553B\", \"#00cc96\", \"#ab63fa\", \"#FFA15A\", \"#19d3f3\", \"#FF6692\", \"#B6E880\", \"#FF97FF\", \"#FECB52\"], \"font\": {\"color\": \"#2a3f5f\"}, \"geo\": {\"bgcolor\": \"white\", \"lakecolor\": \"white\", \"landcolor\": \"#E5ECF6\", \"showlakes\": true, \"showland\": true, \"subunitcolor\": \"white\"}, \"hoverlabel\": {\"align\": \"left\"}, \"hovermode\": \"closest\", \"mapbox\": {\"style\": \"light\"}, \"paper_bgcolor\": \"white\", \"plot_bgcolor\": \"#E5ECF6\", \"polar\": {\"angularaxis\": {\"gridcolor\": \"white\", \"linecolor\": \"white\", \"ticks\": \"\"}, \"bgcolor\": \"#E5ECF6\", \"radialaxis\": {\"gridcolor\": \"white\", \"linecolor\": \"white\", \"ticks\": \"\"}}, \"scene\": {\"xaxis\": {\"backgroundcolor\": \"#E5ECF6\", \"gridcolor\": \"white\", \"gridwidth\": 2, \"linecolor\": \"white\", \"showbackground\": true, \"ticks\": \"\", \"zerolinecolor\": \"white\"}, \"yaxis\": {\"backgroundcolor\": \"#E5ECF6\", \"gridcolor\": \"white\", \"gridwidth\": 2, \"linecolor\": \"white\", \"showbackground\": true, \"ticks\": \"\", \"zerolinecolor\": \"white\"}, \"zaxis\": {\"backgroundcolor\": \"#E5ECF6\", \"gridcolor\": \"white\", \"gridwidth\": 2, \"linecolor\": \"white\", \"showbackground\": true, \"ticks\": \"\", \"zerolinecolor\": \"white\"}}, \"shapedefaults\": {\"line\": {\"color\": \"#2a3f5f\"}}, \"ternary\": {\"aaxis\": {\"gridcolor\": \"white\", \"linecolor\": \"white\", \"ticks\": \"\"}, \"baxis\": {\"gridcolor\": \"white\", \"linecolor\": \"white\", \"ticks\": \"\"}, \"bgcolor\": \"#E5ECF6\", \"caxis\": {\"gridcolor\": \"white\", \"linecolor\": \"white\", \"ticks\": \"\"}}, \"title\": {\"x\": 0.05}, \"xaxis\": {\"automargin\": true, \"gridcolor\": \"white\", \"linecolor\": \"white\", \"ticks\": \"\", \"title\": {\"standoff\": 15}, \"zerolinecolor\": \"white\", \"zerolinewidth\": 2}, \"yaxis\": {\"automargin\": true, \"gridcolor\": \"white\", \"linecolor\": \"white\", \"ticks\": \"\", \"title\": {\"standoff\": 15}, \"zerolinecolor\": \"white\", \"zerolinewidth\": 2}}}, \"xaxis\": {\"dtick\": 1, \"gridwidth\": 2, \"showticklabels\": false, \"tick0\": -0.5, \"ticks\": \"\", \"zeroline\": false}, \"yaxis\": {\"autorange\": \"reversed\", \"dtick\": 1, \"gridwidth\": 2, \"showticklabels\": false, \"tick0\": 0.5, \"ticks\": \"\", \"zeroline\": false}},\n",
       "                        {\"responsive\": true}\n",
       "                    ).then(function(){\n",
       "                            \n",
       "var gd = document.getElementById('d64ae248-280d-4dfc-98d3-0414589648fb');\n",
       "var x = new MutationObserver(function (mutations, observer) {{\n",
       "        var display = window.getComputedStyle(gd).display;\n",
       "        if (!display || display === 'none') {{\n",
       "            console.log([gd, 'removed!']);\n",
       "            Plotly.purge(gd);\n",
       "            observer.disconnect();\n",
       "        }}\n",
       "}});\n",
       "\n",
       "// Listen for the removal of the full notebook cells\n",
       "var notebookContainer = gd.closest('#notebook-container');\n",
       "if (notebookContainer) {{\n",
       "    x.observe(notebookContainer, {childList: true});\n",
       "}}\n",
       "\n",
       "// Listen for the clearing of the current output cell\n",
       "var outputEl = gd.closest('.output');\n",
       "if (outputEl) {{\n",
       "    x.observe(outputEl, {childList: true});\n",
       "}}\n",
       "\n",
       "                        })\n",
       "                };\n",
       "                });\n",
       "            </script>\n",
       "        </div>"
      ]
     },
     "metadata": {},
     "output_type": "display_data"
    }
   ],
   "source": [
    "# Rendimiento de los  modelos\n",
    "\n",
    "# Se importan las librerias requeridas\n",
    "from sklearn.metrics import accuracy_score, recall_score, precision_score, roc_auc_score, f1_score\n",
    "from sklearn.metrics import cohen_kappa_score\n",
    "\n",
    "\n",
    "# Lleva el reporte de los modelos a un dataframe\n",
    "def model_report(model,training_x,testing_x,training_y,testing_y,name) :\n",
    "    model.fit(training_x,training_y)\n",
    "    predictions  = model.predict(testing_x)\n",
    "    accuracy     = accuracy_score(testing_y,predictions)\n",
    "#    recallscore  = recall_score(testing_y,predictions)\n",
    "#    precision    = precision_score(testing_y,predictions)\n",
    "#    roc_auc      = roc_auc_score(testing_y,predictions)\n",
    "#    f1score      = f1_score(testing_y,predictions) \n",
    "#    kappa_metric = cohen_kappa_score(testing_y,predictions)\n",
    "    \n",
    "    df = pd.DataFrame({\"Model\"           : [name],\n",
    "                       \"Accuracy_score\"  : [accuracy]\n",
    "#                       \"Recall_score\"    : [recallscore],\n",
    "#                       \"Precision\"       : [precision],\n",
    "#                       \"f1_score\"        : [f1score],\n",
    "#                       \"Area_under_curve\": [roc_auc],\n",
    "#                       \"Kappa_metric\"    : [kappa_metric],\n",
    "                      })\n",
    "    return df\n",
    "\n",
    "# Salidas para cada uno de los modelos\n",
    "model1 = model_report(logit,train_X,test_X,train_Y,test_Y,\n",
    "                      \"Logistic Regression\")\n",
    "model2 = model_report(logit_smote,os_smote_X,test_X,os_smote_Y,test_Y,\n",
    "                      \"Logistic Regression(SMOTE)\")\n",
    "model3 = model_report(xgc,os_smote_X,test_X,os_smote_Y,test_Y,\n",
    "                      \"XGBoost Classifier\")\n",
    "model4 = model_report(lgbm_c,os_smote_X,test_X,os_smote_Y,test_Y,\n",
    "                      \"LGBM Classifier\")\n",
    "model5 = model_report(bbc,os_smote_X,test_X,os_smote_Y,test_Y,\n",
    "                      \"Balanced Bagging Classifier\")\n",
    "\n",
    "\n",
    "\n",
    "# Junta todos los modelos\n",
    "model_performances = pd.concat([model1,model2,model3,\n",
    "                                model4,model5],axis = 0).reset_index()\n",
    "\n",
    "model_performances = model_performances.drop(columns = \"index\",axis =1)\n",
    "\n",
    "table  = ff.create_table(np.round(model_performances,4))\n",
    "\n",
    "py.iplot(table)\n"
   ]
  },
  {
   "cell_type": "code",
   "execution_count": 23,
   "metadata": {},
   "outputs": [
    {
     "data": {
      "text/html": [
       "<div>\n",
       "<style scoped>\n",
       "    .dataframe tbody tr th:only-of-type {\n",
       "        vertical-align: middle;\n",
       "    }\n",
       "\n",
       "    .dataframe tbody tr th {\n",
       "        vertical-align: top;\n",
       "    }\n",
       "\n",
       "    .dataframe thead th {\n",
       "        text-align: right;\n",
       "    }\n",
       "</style>\n",
       "<table border=\"1\" class=\"dataframe\">\n",
       "  <thead>\n",
       "    <tr style=\"text-align: right;\">\n",
       "      <th></th>\n",
       "      <th>Model</th>\n",
       "      <th>Accuracy_score</th>\n",
       "    </tr>\n",
       "  </thead>\n",
       "  <tbody>\n",
       "    <tr>\n",
       "      <th>0</th>\n",
       "      <td>Logistic Regression</td>\n",
       "      <td>0.599192</td>\n",
       "    </tr>\n",
       "    <tr>\n",
       "      <th>1</th>\n",
       "      <td>Logistic Regression(SMOTE)</td>\n",
       "      <td>0.447003</td>\n",
       "    </tr>\n",
       "    <tr>\n",
       "      <th>2</th>\n",
       "      <td>XGBoost Classifier</td>\n",
       "      <td>0.814209</td>\n",
       "    </tr>\n",
       "    <tr>\n",
       "      <th>3</th>\n",
       "      <td>LGBM Classifier</td>\n",
       "      <td>0.794478</td>\n",
       "    </tr>\n",
       "    <tr>\n",
       "      <th>4</th>\n",
       "      <td>Balanced Bagging Classifier</td>\n",
       "      <td>0.832121</td>\n",
       "    </tr>\n",
       "  </tbody>\n",
       "</table>\n",
       "</div>"
      ],
      "text/plain": [
       "                         Model  Accuracy_score\n",
       "0          Logistic Regression        0.599192\n",
       "1   Logistic Regression(SMOTE)        0.447003\n",
       "2           XGBoost Classifier        0.814209\n",
       "3              LGBM Classifier        0.794478\n",
       "4  Balanced Bagging Classifier        0.832121"
      ]
     },
     "execution_count": 23,
     "metadata": {},
     "output_type": "execute_result"
    }
   ],
   "source": [
    "# Se mira directamente Dataframe que contiene el rendimiento de los modelos entrenados.\n",
    "model_performances"
   ]
  },
  {
   "cell_type": "markdown",
   "metadata": {},
   "source": [
    "## <a id='3.1'>3.1. Comparación de Métricas</a>\n",
    "\n",
    "Se efectúa la comparación de las métricas alcanzadas."
   ]
  },
  {
   "cell_type": "code",
   "execution_count": 24,
   "metadata": {},
   "outputs": [
    {
     "data": {
      "application/vnd.plotly.v1+json": {
       "config": {
        "linkText": "Export to plot.ly",
        "plotlyServerURL": "https://plot.ly",
        "showLink": false
       },
       "data": [
        {
         "marker": {
          "color": "#6699FF",
          "line": {
           "width": 0.7
          }
         },
         "name": "Accuracy_score",
         "orientation": "h",
         "type": "bar",
         "x": [
          0.5991919191919192,
          0.447003367003367,
          0.8142087542087542,
          0.7944781144781144,
          0.8321212121212122
         ],
         "y": [
          "Logistic Regression",
          "Logistic Regression(SMOTE)",
          "XGBoost Classifier",
          "LGBM Classifier",
          "Balanced Bagging Classifier"
         ]
        }
       ],
       "layout": {
        "height": 350,
        "margin": {
         "l": 250
        },
        "paper_bgcolor": "rgb(243,243,243)",
        "plot_bgcolor": "rgb(243,243,243)",
        "template": {
         "data": {
          "bar": [
           {
            "error_x": {
             "color": "#2a3f5f"
            },
            "error_y": {
             "color": "#2a3f5f"
            },
            "marker": {
             "line": {
              "color": "#E5ECF6",
              "width": 0.5
             }
            },
            "type": "bar"
           }
          ],
          "barpolar": [
           {
            "marker": {
             "line": {
              "color": "#E5ECF6",
              "width": 0.5
             }
            },
            "type": "barpolar"
           }
          ],
          "carpet": [
           {
            "aaxis": {
             "endlinecolor": "#2a3f5f",
             "gridcolor": "white",
             "linecolor": "white",
             "minorgridcolor": "white",
             "startlinecolor": "#2a3f5f"
            },
            "baxis": {
             "endlinecolor": "#2a3f5f",
             "gridcolor": "white",
             "linecolor": "white",
             "minorgridcolor": "white",
             "startlinecolor": "#2a3f5f"
            },
            "type": "carpet"
           }
          ],
          "choropleth": [
           {
            "colorbar": {
             "outlinewidth": 0,
             "ticks": ""
            },
            "type": "choropleth"
           }
          ],
          "contour": [
           {
            "colorbar": {
             "outlinewidth": 0,
             "ticks": ""
            },
            "colorscale": [
             [
              0,
              "#0d0887"
             ],
             [
              0.1111111111111111,
              "#46039f"
             ],
             [
              0.2222222222222222,
              "#7201a8"
             ],
             [
              0.3333333333333333,
              "#9c179e"
             ],
             [
              0.4444444444444444,
              "#bd3786"
             ],
             [
              0.5555555555555556,
              "#d8576b"
             ],
             [
              0.6666666666666666,
              "#ed7953"
             ],
             [
              0.7777777777777778,
              "#fb9f3a"
             ],
             [
              0.8888888888888888,
              "#fdca26"
             ],
             [
              1,
              "#f0f921"
             ]
            ],
            "type": "contour"
           }
          ],
          "contourcarpet": [
           {
            "colorbar": {
             "outlinewidth": 0,
             "ticks": ""
            },
            "type": "contourcarpet"
           }
          ],
          "heatmap": [
           {
            "colorbar": {
             "outlinewidth": 0,
             "ticks": ""
            },
            "colorscale": [
             [
              0,
              "#0d0887"
             ],
             [
              0.1111111111111111,
              "#46039f"
             ],
             [
              0.2222222222222222,
              "#7201a8"
             ],
             [
              0.3333333333333333,
              "#9c179e"
             ],
             [
              0.4444444444444444,
              "#bd3786"
             ],
             [
              0.5555555555555556,
              "#d8576b"
             ],
             [
              0.6666666666666666,
              "#ed7953"
             ],
             [
              0.7777777777777778,
              "#fb9f3a"
             ],
             [
              0.8888888888888888,
              "#fdca26"
             ],
             [
              1,
              "#f0f921"
             ]
            ],
            "type": "heatmap"
           }
          ],
          "heatmapgl": [
           {
            "colorbar": {
             "outlinewidth": 0,
             "ticks": ""
            },
            "colorscale": [
             [
              0,
              "#0d0887"
             ],
             [
              0.1111111111111111,
              "#46039f"
             ],
             [
              0.2222222222222222,
              "#7201a8"
             ],
             [
              0.3333333333333333,
              "#9c179e"
             ],
             [
              0.4444444444444444,
              "#bd3786"
             ],
             [
              0.5555555555555556,
              "#d8576b"
             ],
             [
              0.6666666666666666,
              "#ed7953"
             ],
             [
              0.7777777777777778,
              "#fb9f3a"
             ],
             [
              0.8888888888888888,
              "#fdca26"
             ],
             [
              1,
              "#f0f921"
             ]
            ],
            "type": "heatmapgl"
           }
          ],
          "histogram": [
           {
            "marker": {
             "colorbar": {
              "outlinewidth": 0,
              "ticks": ""
             }
            },
            "type": "histogram"
           }
          ],
          "histogram2d": [
           {
            "colorbar": {
             "outlinewidth": 0,
             "ticks": ""
            },
            "colorscale": [
             [
              0,
              "#0d0887"
             ],
             [
              0.1111111111111111,
              "#46039f"
             ],
             [
              0.2222222222222222,
              "#7201a8"
             ],
             [
              0.3333333333333333,
              "#9c179e"
             ],
             [
              0.4444444444444444,
              "#bd3786"
             ],
             [
              0.5555555555555556,
              "#d8576b"
             ],
             [
              0.6666666666666666,
              "#ed7953"
             ],
             [
              0.7777777777777778,
              "#fb9f3a"
             ],
             [
              0.8888888888888888,
              "#fdca26"
             ],
             [
              1,
              "#f0f921"
             ]
            ],
            "type": "histogram2d"
           }
          ],
          "histogram2dcontour": [
           {
            "colorbar": {
             "outlinewidth": 0,
             "ticks": ""
            },
            "colorscale": [
             [
              0,
              "#0d0887"
             ],
             [
              0.1111111111111111,
              "#46039f"
             ],
             [
              0.2222222222222222,
              "#7201a8"
             ],
             [
              0.3333333333333333,
              "#9c179e"
             ],
             [
              0.4444444444444444,
              "#bd3786"
             ],
             [
              0.5555555555555556,
              "#d8576b"
             ],
             [
              0.6666666666666666,
              "#ed7953"
             ],
             [
              0.7777777777777778,
              "#fb9f3a"
             ],
             [
              0.8888888888888888,
              "#fdca26"
             ],
             [
              1,
              "#f0f921"
             ]
            ],
            "type": "histogram2dcontour"
           }
          ],
          "mesh3d": [
           {
            "colorbar": {
             "outlinewidth": 0,
             "ticks": ""
            },
            "type": "mesh3d"
           }
          ],
          "parcoords": [
           {
            "line": {
             "colorbar": {
              "outlinewidth": 0,
              "ticks": ""
             }
            },
            "type": "parcoords"
           }
          ],
          "pie": [
           {
            "automargin": true,
            "type": "pie"
           }
          ],
          "scatter": [
           {
            "marker": {
             "colorbar": {
              "outlinewidth": 0,
              "ticks": ""
             }
            },
            "type": "scatter"
           }
          ],
          "scatter3d": [
           {
            "line": {
             "colorbar": {
              "outlinewidth": 0,
              "ticks": ""
             }
            },
            "marker": {
             "colorbar": {
              "outlinewidth": 0,
              "ticks": ""
             }
            },
            "type": "scatter3d"
           }
          ],
          "scattercarpet": [
           {
            "marker": {
             "colorbar": {
              "outlinewidth": 0,
              "ticks": ""
             }
            },
            "type": "scattercarpet"
           }
          ],
          "scattergeo": [
           {
            "marker": {
             "colorbar": {
              "outlinewidth": 0,
              "ticks": ""
             }
            },
            "type": "scattergeo"
           }
          ],
          "scattergl": [
           {
            "marker": {
             "colorbar": {
              "outlinewidth": 0,
              "ticks": ""
             }
            },
            "type": "scattergl"
           }
          ],
          "scattermapbox": [
           {
            "marker": {
             "colorbar": {
              "outlinewidth": 0,
              "ticks": ""
             }
            },
            "type": "scattermapbox"
           }
          ],
          "scatterpolar": [
           {
            "marker": {
             "colorbar": {
              "outlinewidth": 0,
              "ticks": ""
             }
            },
            "type": "scatterpolar"
           }
          ],
          "scatterpolargl": [
           {
            "marker": {
             "colorbar": {
              "outlinewidth": 0,
              "ticks": ""
             }
            },
            "type": "scatterpolargl"
           }
          ],
          "scatterternary": [
           {
            "marker": {
             "colorbar": {
              "outlinewidth": 0,
              "ticks": ""
             }
            },
            "type": "scatterternary"
           }
          ],
          "surface": [
           {
            "colorbar": {
             "outlinewidth": 0,
             "ticks": ""
            },
            "colorscale": [
             [
              0,
              "#0d0887"
             ],
             [
              0.1111111111111111,
              "#46039f"
             ],
             [
              0.2222222222222222,
              "#7201a8"
             ],
             [
              0.3333333333333333,
              "#9c179e"
             ],
             [
              0.4444444444444444,
              "#bd3786"
             ],
             [
              0.5555555555555556,
              "#d8576b"
             ],
             [
              0.6666666666666666,
              "#ed7953"
             ],
             [
              0.7777777777777778,
              "#fb9f3a"
             ],
             [
              0.8888888888888888,
              "#fdca26"
             ],
             [
              1,
              "#f0f921"
             ]
            ],
            "type": "surface"
           }
          ],
          "table": [
           {
            "cells": {
             "fill": {
              "color": "#EBF0F8"
             },
             "line": {
              "color": "white"
             }
            },
            "header": {
             "fill": {
              "color": "#C8D4E3"
             },
             "line": {
              "color": "white"
             }
            },
            "type": "table"
           }
          ]
         },
         "layout": {
          "annotationdefaults": {
           "arrowcolor": "#2a3f5f",
           "arrowhead": 0,
           "arrowwidth": 1
          },
          "coloraxis": {
           "colorbar": {
            "outlinewidth": 0,
            "ticks": ""
           }
          },
          "colorscale": {
           "diverging": [
            [
             0,
             "#8e0152"
            ],
            [
             0.1,
             "#c51b7d"
            ],
            [
             0.2,
             "#de77ae"
            ],
            [
             0.3,
             "#f1b6da"
            ],
            [
             0.4,
             "#fde0ef"
            ],
            [
             0.5,
             "#f7f7f7"
            ],
            [
             0.6,
             "#e6f5d0"
            ],
            [
             0.7,
             "#b8e186"
            ],
            [
             0.8,
             "#7fbc41"
            ],
            [
             0.9,
             "#4d9221"
            ],
            [
             1,
             "#276419"
            ]
           ],
           "sequential": [
            [
             0,
             "#0d0887"
            ],
            [
             0.1111111111111111,
             "#46039f"
            ],
            [
             0.2222222222222222,
             "#7201a8"
            ],
            [
             0.3333333333333333,
             "#9c179e"
            ],
            [
             0.4444444444444444,
             "#bd3786"
            ],
            [
             0.5555555555555556,
             "#d8576b"
            ],
            [
             0.6666666666666666,
             "#ed7953"
            ],
            [
             0.7777777777777778,
             "#fb9f3a"
            ],
            [
             0.8888888888888888,
             "#fdca26"
            ],
            [
             1,
             "#f0f921"
            ]
           ],
           "sequentialminus": [
            [
             0,
             "#0d0887"
            ],
            [
             0.1111111111111111,
             "#46039f"
            ],
            [
             0.2222222222222222,
             "#7201a8"
            ],
            [
             0.3333333333333333,
             "#9c179e"
            ],
            [
             0.4444444444444444,
             "#bd3786"
            ],
            [
             0.5555555555555556,
             "#d8576b"
            ],
            [
             0.6666666666666666,
             "#ed7953"
            ],
            [
             0.7777777777777778,
             "#fb9f3a"
            ],
            [
             0.8888888888888888,
             "#fdca26"
            ],
            [
             1,
             "#f0f921"
            ]
           ]
          },
          "colorway": [
           "#636efa",
           "#EF553B",
           "#00cc96",
           "#ab63fa",
           "#FFA15A",
           "#19d3f3",
           "#FF6692",
           "#B6E880",
           "#FF97FF",
           "#FECB52"
          ],
          "font": {
           "color": "#2a3f5f"
          },
          "geo": {
           "bgcolor": "white",
           "lakecolor": "white",
           "landcolor": "#E5ECF6",
           "showlakes": true,
           "showland": true,
           "subunitcolor": "white"
          },
          "hoverlabel": {
           "align": "left"
          },
          "hovermode": "closest",
          "mapbox": {
           "style": "light"
          },
          "paper_bgcolor": "white",
          "plot_bgcolor": "#E5ECF6",
          "polar": {
           "angularaxis": {
            "gridcolor": "white",
            "linecolor": "white",
            "ticks": ""
           },
           "bgcolor": "#E5ECF6",
           "radialaxis": {
            "gridcolor": "white",
            "linecolor": "white",
            "ticks": ""
           }
          },
          "scene": {
           "xaxis": {
            "backgroundcolor": "#E5ECF6",
            "gridcolor": "white",
            "gridwidth": 2,
            "linecolor": "white",
            "showbackground": true,
            "ticks": "",
            "zerolinecolor": "white"
           },
           "yaxis": {
            "backgroundcolor": "#E5ECF6",
            "gridcolor": "white",
            "gridwidth": 2,
            "linecolor": "white",
            "showbackground": true,
            "ticks": "",
            "zerolinecolor": "white"
           },
           "zaxis": {
            "backgroundcolor": "#E5ECF6",
            "gridcolor": "white",
            "gridwidth": 2,
            "linecolor": "white",
            "showbackground": true,
            "ticks": "",
            "zerolinecolor": "white"
           }
          },
          "shapedefaults": {
           "line": {
            "color": "#2a3f5f"
           }
          },
          "ternary": {
           "aaxis": {
            "gridcolor": "white",
            "linecolor": "white",
            "ticks": ""
           },
           "baxis": {
            "gridcolor": "white",
            "linecolor": "white",
            "ticks": ""
           },
           "bgcolor": "#E5ECF6",
           "caxis": {
            "gridcolor": "white",
            "linecolor": "white",
            "ticks": ""
           }
          },
          "title": {
           "x": 0.05
          },
          "xaxis": {
           "automargin": true,
           "gridcolor": "white",
           "linecolor": "white",
           "ticks": "",
           "title": {
            "standoff": 15
           },
           "zerolinecolor": "white",
           "zerolinewidth": 2
          },
          "yaxis": {
           "automargin": true,
           "gridcolor": "white",
           "linecolor": "white",
           "ticks": "",
           "title": {
            "standoff": 15
           },
           "zerolinecolor": "white",
           "zerolinewidth": 2
          }
         }
        },
        "title": {
         "text": "Model performances"
        },
        "xaxis": {
         "gridcolor": "rgb(255, 255, 255)",
         "gridwidth": 2,
         "ticklen": 5,
         "title": {
          "text": "Accuracy_score"
         },
         "zerolinewidth": 1
        },
        "yaxis": {
         "gridcolor": "rgb(255, 255, 255)",
         "gridwidth": 2,
         "ticklen": 5,
         "zerolinewidth": 1
        }
       }
      },
      "text/html": [
       "<div>\n",
       "        \n",
       "        \n",
       "            <div id=\"29350b80-1d91-46e7-9ee9-c6eb9ac755a3\" class=\"plotly-graph-div\" style=\"height:350px; width:100%;\"></div>\n",
       "            <script type=\"text/javascript\">\n",
       "                require([\"plotly\"], function(Plotly) {\n",
       "                    window.PLOTLYENV=window.PLOTLYENV || {};\n",
       "                    \n",
       "                if (document.getElementById(\"29350b80-1d91-46e7-9ee9-c6eb9ac755a3\")) {\n",
       "                    Plotly.newPlot(\n",
       "                        '29350b80-1d91-46e7-9ee9-c6eb9ac755a3',\n",
       "                        [{\"marker\": {\"color\": \"#6699FF\", \"line\": {\"width\": 0.7}}, \"name\": \"Accuracy_score\", \"orientation\": \"h\", \"type\": \"bar\", \"x\": [0.5991919191919192, 0.447003367003367, 0.8142087542087542, 0.7944781144781144, 0.8321212121212122], \"y\": [\"Logistic Regression\", \"Logistic Regression(SMOTE)\", \"XGBoost Classifier\", \"LGBM Classifier\", \"Balanced Bagging Classifier\"]}],\n",
       "                        {\"height\": 350, \"margin\": {\"l\": 250}, \"paper_bgcolor\": \"rgb(243,243,243)\", \"plot_bgcolor\": \"rgb(243,243,243)\", \"template\": {\"data\": {\"bar\": [{\"error_x\": {\"color\": \"#2a3f5f\"}, \"error_y\": {\"color\": \"#2a3f5f\"}, \"marker\": {\"line\": {\"color\": \"#E5ECF6\", \"width\": 0.5}}, \"type\": \"bar\"}], \"barpolar\": [{\"marker\": {\"line\": {\"color\": \"#E5ECF6\", \"width\": 0.5}}, \"type\": \"barpolar\"}], \"carpet\": [{\"aaxis\": {\"endlinecolor\": \"#2a3f5f\", \"gridcolor\": \"white\", \"linecolor\": \"white\", \"minorgridcolor\": \"white\", \"startlinecolor\": \"#2a3f5f\"}, \"baxis\": {\"endlinecolor\": \"#2a3f5f\", \"gridcolor\": \"white\", \"linecolor\": \"white\", \"minorgridcolor\": \"white\", \"startlinecolor\": \"#2a3f5f\"}, \"type\": \"carpet\"}], \"choropleth\": [{\"colorbar\": {\"outlinewidth\": 0, \"ticks\": \"\"}, \"type\": \"choropleth\"}], \"contour\": [{\"colorbar\": {\"outlinewidth\": 0, \"ticks\": \"\"}, \"colorscale\": [[0.0, \"#0d0887\"], [0.1111111111111111, \"#46039f\"], [0.2222222222222222, \"#7201a8\"], [0.3333333333333333, \"#9c179e\"], [0.4444444444444444, \"#bd3786\"], [0.5555555555555556, \"#d8576b\"], [0.6666666666666666, \"#ed7953\"], [0.7777777777777778, \"#fb9f3a\"], [0.8888888888888888, \"#fdca26\"], [1.0, \"#f0f921\"]], \"type\": \"contour\"}], \"contourcarpet\": [{\"colorbar\": {\"outlinewidth\": 0, \"ticks\": \"\"}, \"type\": \"contourcarpet\"}], \"heatmap\": [{\"colorbar\": {\"outlinewidth\": 0, \"ticks\": \"\"}, \"colorscale\": [[0.0, \"#0d0887\"], [0.1111111111111111, \"#46039f\"], [0.2222222222222222, \"#7201a8\"], [0.3333333333333333, \"#9c179e\"], [0.4444444444444444, \"#bd3786\"], [0.5555555555555556, \"#d8576b\"], [0.6666666666666666, \"#ed7953\"], [0.7777777777777778, \"#fb9f3a\"], [0.8888888888888888, \"#fdca26\"], [1.0, \"#f0f921\"]], \"type\": \"heatmap\"}], \"heatmapgl\": [{\"colorbar\": {\"outlinewidth\": 0, \"ticks\": \"\"}, \"colorscale\": [[0.0, \"#0d0887\"], [0.1111111111111111, \"#46039f\"], [0.2222222222222222, \"#7201a8\"], [0.3333333333333333, \"#9c179e\"], [0.4444444444444444, \"#bd3786\"], [0.5555555555555556, \"#d8576b\"], [0.6666666666666666, \"#ed7953\"], [0.7777777777777778, \"#fb9f3a\"], [0.8888888888888888, \"#fdca26\"], [1.0, \"#f0f921\"]], \"type\": \"heatmapgl\"}], \"histogram\": [{\"marker\": {\"colorbar\": {\"outlinewidth\": 0, \"ticks\": \"\"}}, \"type\": \"histogram\"}], \"histogram2d\": [{\"colorbar\": {\"outlinewidth\": 0, \"ticks\": \"\"}, \"colorscale\": [[0.0, \"#0d0887\"], [0.1111111111111111, \"#46039f\"], [0.2222222222222222, \"#7201a8\"], [0.3333333333333333, \"#9c179e\"], [0.4444444444444444, \"#bd3786\"], [0.5555555555555556, \"#d8576b\"], [0.6666666666666666, \"#ed7953\"], [0.7777777777777778, \"#fb9f3a\"], [0.8888888888888888, \"#fdca26\"], [1.0, \"#f0f921\"]], \"type\": \"histogram2d\"}], \"histogram2dcontour\": [{\"colorbar\": {\"outlinewidth\": 0, \"ticks\": \"\"}, \"colorscale\": [[0.0, \"#0d0887\"], [0.1111111111111111, \"#46039f\"], [0.2222222222222222, \"#7201a8\"], [0.3333333333333333, \"#9c179e\"], [0.4444444444444444, \"#bd3786\"], [0.5555555555555556, \"#d8576b\"], [0.6666666666666666, \"#ed7953\"], [0.7777777777777778, \"#fb9f3a\"], [0.8888888888888888, \"#fdca26\"], [1.0, \"#f0f921\"]], \"type\": \"histogram2dcontour\"}], \"mesh3d\": [{\"colorbar\": {\"outlinewidth\": 0, \"ticks\": \"\"}, \"type\": \"mesh3d\"}], \"parcoords\": [{\"line\": {\"colorbar\": {\"outlinewidth\": 0, \"ticks\": \"\"}}, \"type\": \"parcoords\"}], \"pie\": [{\"automargin\": true, \"type\": \"pie\"}], \"scatter\": [{\"marker\": {\"colorbar\": {\"outlinewidth\": 0, \"ticks\": \"\"}}, \"type\": \"scatter\"}], \"scatter3d\": [{\"line\": {\"colorbar\": {\"outlinewidth\": 0, \"ticks\": \"\"}}, \"marker\": {\"colorbar\": {\"outlinewidth\": 0, \"ticks\": \"\"}}, \"type\": \"scatter3d\"}], \"scattercarpet\": [{\"marker\": {\"colorbar\": {\"outlinewidth\": 0, \"ticks\": \"\"}}, \"type\": \"scattercarpet\"}], \"scattergeo\": [{\"marker\": {\"colorbar\": {\"outlinewidth\": 0, \"ticks\": \"\"}}, \"type\": \"scattergeo\"}], \"scattergl\": [{\"marker\": {\"colorbar\": {\"outlinewidth\": 0, \"ticks\": \"\"}}, \"type\": \"scattergl\"}], \"scattermapbox\": [{\"marker\": {\"colorbar\": {\"outlinewidth\": 0, \"ticks\": \"\"}}, \"type\": \"scattermapbox\"}], \"scatterpolar\": [{\"marker\": {\"colorbar\": {\"outlinewidth\": 0, \"ticks\": \"\"}}, \"type\": \"scatterpolar\"}], \"scatterpolargl\": [{\"marker\": {\"colorbar\": {\"outlinewidth\": 0, \"ticks\": \"\"}}, \"type\": \"scatterpolargl\"}], \"scatterternary\": [{\"marker\": {\"colorbar\": {\"outlinewidth\": 0, \"ticks\": \"\"}}, \"type\": \"scatterternary\"}], \"surface\": [{\"colorbar\": {\"outlinewidth\": 0, \"ticks\": \"\"}, \"colorscale\": [[0.0, \"#0d0887\"], [0.1111111111111111, \"#46039f\"], [0.2222222222222222, \"#7201a8\"], [0.3333333333333333, \"#9c179e\"], [0.4444444444444444, \"#bd3786\"], [0.5555555555555556, \"#d8576b\"], [0.6666666666666666, \"#ed7953\"], [0.7777777777777778, \"#fb9f3a\"], [0.8888888888888888, \"#fdca26\"], [1.0, \"#f0f921\"]], \"type\": \"surface\"}], \"table\": [{\"cells\": {\"fill\": {\"color\": \"#EBF0F8\"}, \"line\": {\"color\": \"white\"}}, \"header\": {\"fill\": {\"color\": \"#C8D4E3\"}, \"line\": {\"color\": \"white\"}}, \"type\": \"table\"}]}, \"layout\": {\"annotationdefaults\": {\"arrowcolor\": \"#2a3f5f\", \"arrowhead\": 0, \"arrowwidth\": 1}, \"coloraxis\": {\"colorbar\": {\"outlinewidth\": 0, \"ticks\": \"\"}}, \"colorscale\": {\"diverging\": [[0, \"#8e0152\"], [0.1, \"#c51b7d\"], [0.2, \"#de77ae\"], [0.3, \"#f1b6da\"], [0.4, \"#fde0ef\"], [0.5, \"#f7f7f7\"], [0.6, \"#e6f5d0\"], [0.7, \"#b8e186\"], [0.8, \"#7fbc41\"], [0.9, \"#4d9221\"], [1, \"#276419\"]], \"sequential\": [[0.0, \"#0d0887\"], [0.1111111111111111, \"#46039f\"], [0.2222222222222222, \"#7201a8\"], [0.3333333333333333, \"#9c179e\"], [0.4444444444444444, \"#bd3786\"], [0.5555555555555556, \"#d8576b\"], [0.6666666666666666, \"#ed7953\"], [0.7777777777777778, \"#fb9f3a\"], [0.8888888888888888, \"#fdca26\"], [1.0, \"#f0f921\"]], \"sequentialminus\": [[0.0, \"#0d0887\"], [0.1111111111111111, \"#46039f\"], [0.2222222222222222, \"#7201a8\"], [0.3333333333333333, \"#9c179e\"], [0.4444444444444444, \"#bd3786\"], [0.5555555555555556, \"#d8576b\"], [0.6666666666666666, \"#ed7953\"], [0.7777777777777778, \"#fb9f3a\"], [0.8888888888888888, \"#fdca26\"], [1.0, \"#f0f921\"]]}, \"colorway\": [\"#636efa\", \"#EF553B\", \"#00cc96\", \"#ab63fa\", \"#FFA15A\", \"#19d3f3\", \"#FF6692\", \"#B6E880\", \"#FF97FF\", \"#FECB52\"], \"font\": {\"color\": \"#2a3f5f\"}, \"geo\": {\"bgcolor\": \"white\", \"lakecolor\": \"white\", \"landcolor\": \"#E5ECF6\", \"showlakes\": true, \"showland\": true, \"subunitcolor\": \"white\"}, \"hoverlabel\": {\"align\": \"left\"}, \"hovermode\": \"closest\", \"mapbox\": {\"style\": \"light\"}, \"paper_bgcolor\": \"white\", \"plot_bgcolor\": \"#E5ECF6\", \"polar\": {\"angularaxis\": {\"gridcolor\": \"white\", \"linecolor\": \"white\", \"ticks\": \"\"}, \"bgcolor\": \"#E5ECF6\", \"radialaxis\": {\"gridcolor\": \"white\", \"linecolor\": \"white\", \"ticks\": \"\"}}, \"scene\": {\"xaxis\": {\"backgroundcolor\": \"#E5ECF6\", \"gridcolor\": \"white\", \"gridwidth\": 2, \"linecolor\": \"white\", \"showbackground\": true, \"ticks\": \"\", \"zerolinecolor\": \"white\"}, \"yaxis\": {\"backgroundcolor\": \"#E5ECF6\", \"gridcolor\": \"white\", \"gridwidth\": 2, \"linecolor\": \"white\", \"showbackground\": true, \"ticks\": \"\", \"zerolinecolor\": \"white\"}, \"zaxis\": {\"backgroundcolor\": \"#E5ECF6\", \"gridcolor\": \"white\", \"gridwidth\": 2, \"linecolor\": \"white\", \"showbackground\": true, \"ticks\": \"\", \"zerolinecolor\": \"white\"}}, \"shapedefaults\": {\"line\": {\"color\": \"#2a3f5f\"}}, \"ternary\": {\"aaxis\": {\"gridcolor\": \"white\", \"linecolor\": \"white\", \"ticks\": \"\"}, \"baxis\": {\"gridcolor\": \"white\", \"linecolor\": \"white\", \"ticks\": \"\"}, \"bgcolor\": \"#E5ECF6\", \"caxis\": {\"gridcolor\": \"white\", \"linecolor\": \"white\", \"ticks\": \"\"}}, \"title\": {\"x\": 0.05}, \"xaxis\": {\"automargin\": true, \"gridcolor\": \"white\", \"linecolor\": \"white\", \"ticks\": \"\", \"title\": {\"standoff\": 15}, \"zerolinecolor\": \"white\", \"zerolinewidth\": 2}, \"yaxis\": {\"automargin\": true, \"gridcolor\": \"white\", \"linecolor\": \"white\", \"ticks\": \"\", \"title\": {\"standoff\": 15}, \"zerolinecolor\": \"white\", \"zerolinewidth\": 2}}}, \"title\": {\"text\": \"Model performances\"}, \"xaxis\": {\"gridcolor\": \"rgb(255, 255, 255)\", \"gridwidth\": 2, \"ticklen\": 5, \"title\": {\"text\": \"Accuracy_score\"}, \"zerolinewidth\": 1}, \"yaxis\": {\"gridcolor\": \"rgb(255, 255, 255)\", \"gridwidth\": 2, \"ticklen\": 5, \"zerolinewidth\": 1}},\n",
       "                        {\"responsive\": true}\n",
       "                    ).then(function(){\n",
       "                            \n",
       "var gd = document.getElementById('29350b80-1d91-46e7-9ee9-c6eb9ac755a3');\n",
       "var x = new MutationObserver(function (mutations, observer) {{\n",
       "        var display = window.getComputedStyle(gd).display;\n",
       "        if (!display || display === 'none') {{\n",
       "            console.log([gd, 'removed!']);\n",
       "            Plotly.purge(gd);\n",
       "            observer.disconnect();\n",
       "        }}\n",
       "}});\n",
       "\n",
       "// Listen for the removal of the full notebook cells\n",
       "var notebookContainer = gd.closest('#notebook-container');\n",
       "if (notebookContainer) {{\n",
       "    x.observe(notebookContainer, {childList: true});\n",
       "}}\n",
       "\n",
       "// Listen for the clearing of the current output cell\n",
       "var outputEl = gd.closest('.output');\n",
       "if (outputEl) {{\n",
       "    x.observe(outputEl, {childList: true});\n",
       "}}\n",
       "\n",
       "                        })\n",
       "                };\n",
       "                });\n",
       "            </script>\n",
       "        </div>"
      ]
     },
     "metadata": {},
     "output_type": "display_data"
    }
   ],
   "source": [
    "def output_tracer(metric,color) :\n",
    "    tracer = go.Bar(y = model_performances[\"Model\"] ,\n",
    "                    x = model_performances[metric],\n",
    "                    orientation = \"h\",name = metric ,\n",
    "                    marker = dict(line = dict(width =.7),\n",
    "                                  color = color)\n",
    "                   )\n",
    "    return tracer\n",
    "\n",
    "layout = go.Layout(dict(title = \"Model performances\",\n",
    "                        plot_bgcolor  = \"rgb(243,243,243)\",\n",
    "                        paper_bgcolor = \"rgb(243,243,243)\",\n",
    "                        xaxis = dict(gridcolor = 'rgb(255, 255, 255)',\n",
    "                                     title = \"Accuracy_score\",\n",
    "                                     zerolinewidth=1,\n",
    "                                     ticklen=5,gridwidth=2),\n",
    "                        yaxis = dict(gridcolor = 'rgb(255, 255, 255)',\n",
    "                                     zerolinewidth=1,ticklen=5,gridwidth=2),\n",
    "                        margin = dict(l = 250),\n",
    "                        height = 350\n",
    "                       )\n",
    "                  )\n",
    "\n",
    "\n",
    "trace1  = output_tracer(\"Accuracy_score\",\"#6699FF\")\n",
    "#trace2  = output_tracer('Recall_score',\"red\")\n",
    "#trace3  = output_tracer('Precision',\"#33CC99\")\n",
    "#trace4  = output_tracer('f1_score',\"lightgrey\")\n",
    "#trace5  = output_tracer('Kappa_metric',\"#FFCC99\")\n",
    "\n",
    "#data = [trace1,trace2,trace3,trace4,trace5]\n",
    "data = [trace1]\n",
    "fig = go.Figure(data=data,layout=layout)\n",
    "py.iplot(fig)\n"
   ]
  },
  {
   "cell_type": "markdown",
   "metadata": {},
   "source": [
    "## <a id='3.2'>3.2. Matrices de Confusión para los Modelos</a>\n",
    "\n",
    "Son visualizadas la Matrices de Confusión para los todos los modelos implementados."
   ]
  },
  {
   "cell_type": "code",
   "execution_count": 25,
   "metadata": {},
   "outputs": [
    {
     "data": {
      "text/plain": [
       "<matplotlib.axes._subplots.AxesSubplot at 0x14d9f6a0>"
      ]
     },
     "execution_count": 25,
     "metadata": {},
     "output_type": "execute_result"
    },
    {
     "data": {
      "image/png": "[encoded data removed]",
      "text/plain": [
       "<Figure size 432x288 with 1 Axes>"
      ]
     },
     "metadata": {
      "needs_background": "light"
     },
     "output_type": "display_data"
    }
   ],
   "source": [
    "df_labels=smote_test_Y.copy()\n",
    "palette=[sns.color_palette()[0],sns.color_palette()[2],sns.color_palette()[1]]\n",
    "df_labels.status_group.value_counts().plot(kind='barh', colors=palette)"
   ]
  },
  {
   "cell_type": "code",
   "execution_count": 26,
   "metadata": {},
   "outputs": [
    {
     "data": {
      "image/png": "[encoded data removed]",
      "text/plain": [
       "<Figure size 936x1080 with 10 Axes>"
      ]
     },
     "metadata": {},
     "output_type": "display_data"
    }
   ],
   "source": [
    "lst    = [logit,logit_smote,xgc,lgbm_c,bbc]\n",
    "\n",
    "length = len(lst)\n",
    "\n",
    "mods   = ['Logistic Regression','Logistic Regression(SMOTE)',\n",
    "          'XGBoost Classifier','LGBM Classifier','Balanced Bagging Classifier']\n",
    "\n",
    "fig = plt.figure(figsize=(13,15))\n",
    "fig.set_facecolor(\"#F3F3F3\")\n",
    "for i,j,k in itertools.zip_longest(lst,range(length),mods) :\n",
    "    plt.subplot(4,3,j+1)\n",
    "    predictions = i.predict(test_X)\n",
    "    conf_matrix = confusion_matrix(predictions,test_Y)\n",
    "    sns.heatmap(conf_matrix,annot=True,fmt = \"d\",square = True,\n",
    "                xticklabels=[\"Ok\",\"Ok, repairs\",\"Non Ok\"],\n",
    "                yticklabels=[\"Ok\",\"Ok, repairs\",\"Non Ok\"],\n",
    "                linewidths = 2,linecolor = \"w\",cmap = \"Set1\")\n",
    "    plt.title(k,color = \"b\")\n",
    "    plt.subplots_adjust(wspace = .3,hspace = .3)"
   ]
  },
  {
   "cell_type": "code",
   "execution_count": 27,
   "metadata": {},
   "outputs": [],
   "source": [
    "#plt.rcParams['figure.figsize'] = (6.0, 6.0)\n",
    "\n",
    "#from sklearn.metrics import confusion_matrix\n",
    "#labels=['functional','functional needs repair','non functional']\n",
    "#def plot_confusion_matrix(cm, title='Confusion matrix', cmap=plt.cm.Blues):\n",
    "#    plt.imshow(cm, interpolation='nearest', cmap=cmap)\n",
    "#    plt.title(title)\n",
    "#    plt.colorbar(shrink=0.7)\n",
    "#    tick_marks = np.arange(len(labels))\n",
    "#    plt.xticks(tick_marks, labels, rotation=45, ha='right', fontsize=12)\n",
    "#    plt.yticks(tick_marks, labels , fontsize=12)\n",
    "#    plt.tight_layout()\n",
    "#    plt.ylabel('True label', fontsize=12)\n",
    "#    plt.xlabel('Predicted label', fontsize=12)\n",
    "#\n",
    "# Compute confusion matrix\n",
    "#cm = confusion_matrix(y_test, modelETC.predict(X_test))\n",
    "#np.set_printoptions(precision=2)\n",
    "#print('Confusion matrix, without normalization')\n",
    "#print(cm)\n",
    "#plt.figure()\n",
    "#plot_confusion_matrix(cm)\n",
    "#\n",
    "# Normalize the confusion matrix by row (i.e by the number of samples\n",
    "# in each class)\n",
    "#cm_normalized = cm.astype('float') / cm.sum(axis=1)[:, np.newaxis]\n",
    "#print('Normalized confusion matrix')\n",
    "#print(cm_normalized)\n",
    "#plt.figure()\n",
    "#plot_confusion_matrix(cm_normalized, title='Normalized confusion matrix')\n",
    "#\n",
    "#plt.show()\n",
    "#print 'Test Score', cm.diagonal().sum()/float(cm.sum())"
   ]
  },
  {
   "cell_type": "markdown",
   "metadata": {},
   "source": [
    "# <a id='4'>4. Conclusión</a>\n",
    "\n",
    "Como resultado de este desarrollo, se tiene que los modelos predictivos del estado de funcionamiento de las Bombas de agua en Tanzania van de mejor a menor Accuracity_score, desde un 83,21% hasta un 44,70%.  El mejor Accuracity_score es logrado mediante el modelado predictivo usando \"Balanced Bagging Classifier\", que es un poco mejor que el resultado obtenido con el XGBoost Classifier.\n",
    "\n",
    "A continuación el listado de mejor a menor Accuracity_score, para los modelos predictivos implementados:\n",
    "\n",
    "\n",
    "* Balanced Bagging Classifier\n",
    "* XGBoost Classifier\n",
    "* LGBM Classifier\n",
    "* Logistic Regression\n",
    "* Logistic Regression(SMOTE)\n",
    "\n",
    "La recomendación es entonces usar el modelo predictivo del estado de funcionamiento de las bombas, usando el Balanced Bagging Classifier.\n"
   ]
  },
  {
   "cell_type": "markdown",
   "metadata": {},
   "source": [
    "# <a id='5'>5. Predicción</a>\n"
   ]
  },
  {
   "cell_type": "code",
   "execution_count": 28,
   "metadata": {},
   "outputs": [
    {
     "name": "stdout",
     "output_type": "stream",
     "text": [
      "# Muestras       :   14850\n",
      "# Variables      :      40 \n",
      "\n",
      "Variables        : \n",
      " ['id', 'amount_tsh', 'date_recorded', 'funder', 'gps_height', 'installer', 'longitude', 'latitude', 'wpt_name', 'num_private', 'basin', 'subvillage', 'region', 'region_code', 'district_code', 'lga', 'ward', 'population', 'public_meeting', 'recorded_by', 'scheme_management', 'scheme_name', 'permit', 'construction_year', 'extraction_type', 'extraction_type_group', 'extraction_type_class', 'management', 'management_group', 'payment', 'payment_type', 'water_quality', 'quality_group', 'quantity', 'quantity_group', 'source', 'source_type', 'source_class', 'waterpoint_type', 'waterpoint_type_group']\n",
      "\n",
      "# Muestras  con  nulos    :  11464\n",
      "\n",
      "Valores únicos x variable :  \n",
      "id                       14850\n",
      "amount_tsh                  68\n",
      "date_recorded              331\n",
      "funder                     980\n",
      "gps_height                2157\n",
      "installer                 1091\n",
      "longitude                14390\n",
      "latitude                 14390\n",
      "wpt_name                 10840\n",
      "num_private                 36\n",
      "basin                        9\n",
      "subvillage                8443\n",
      "region                      21\n",
      "region_code                 26\n",
      "district_code               20\n",
      "lga                        125\n",
      "ward                      1959\n",
      "population                 637\n",
      "public_meeting               2\n",
      "recorded_by                  1\n",
      "scheme_management           11\n",
      "scheme_name               1789\n",
      "permit                       2\n",
      "construction_year           55\n",
      "extraction_type             17\n",
      "extraction_type_group       13\n",
      "extraction_type_class        7\n",
      "management                  12\n",
      "management_group             5\n",
      "payment                      7\n",
      "payment_type                 7\n",
      "water_quality                8\n",
      "quality_group                6\n",
      "quantity                     5\n",
      "quantity_group               5\n",
      "source                      10\n",
      "source_type                  7\n",
      "source_class                 3\n",
      "waterpoint_type              7\n",
      "waterpoint_type_group        6\n",
      "dtype: int64\n"
     ]
    }
   ],
   "source": [
    "# Se leen los dataset\n",
    "# Dataset con universo de variables recolectadas (no considera la variable objetivo)\n",
    "df_05=pd.read_csv('02_dataset_testing.csv', sep=',')\n",
    "\n",
    "ve_df(df_05)\n"
   ]
  },
  {
   "cell_type": "code",
   "execution_count": 29,
   "metadata": {},
   "outputs": [
    {
     "name": "stdout",
     "output_type": "stream",
     "text": [
      "['funder', 'installer', 'subvillage', 'public_meeting', 'scheme_management', 'scheme_name', 'permit']\n",
      "                 id     amount_tsh  date_recorded        funder    gps_height  \\\n",
      "count  14850.000000   14850.000000   14850.000000  14850.000000  14850.000000   \n",
      "mean   37161.972929     322.826983     165.168215    448.476094    655.147609   \n",
      "std    21359.364833    2510.968644      98.308372    286.724885    691.261185   \n",
      "min       10.000000       0.000000       0.000000      0.000000    -57.000000   \n",
      "25%    18727.000000       0.000000      63.000000    244.000000      0.000000   \n",
      "50%    37361.500000       0.000000     170.000000    357.000000    344.000000   \n",
      "75%    55799.750000      25.000000     259.000000    682.000000   1308.000000   \n",
      "max    74249.000000  200000.000000     330.000000    980.000000   2777.000000   \n",
      "\n",
      "          installer     longitude      latitude      wpt_name   num_private  \\\n",
      "count  14850.000000  14850.000000  1.485000e+04  14850.000000  14850.000000   \n",
      "mean     407.163906     34.061605 -5.684724e+00   6094.045387      0.415084   \n",
      "std      282.156010      6.593034  2.940803e+00   3441.771406      8.167910   \n",
      "min        0.000000      0.000000 -1.156459e+01      0.000000      0.000000   \n",
      "25%      221.000000     33.069455 -8.443970e+00   2987.250000      0.000000   \n",
      "50%      254.000000     34.901215 -5.049750e+00   6365.500000      0.000000   \n",
      "75%      665.000000     37.196594 -3.320594e+00   9363.750000      0.000000   \n",
      "max     1091.000000     40.325016 -2.000000e-08  10839.000000    669.000000   \n",
      "\n",
      "       ...  payment_type  water_quality  quality_group      quantity  \\\n",
      "count  ...  14850.000000   14850.000000   14850.000000  14850.000000   \n",
      "mean   ...      2.828687       5.750034       2.263434      1.325859   \n",
      "std    ...      1.834638       0.910949       0.787703      0.799866   \n",
      "min    ...      0.000000       0.000000       0.000000      0.000000   \n",
      "25%    ...      2.000000       6.000000       2.000000      1.000000   \n",
      "50%    ...      2.000000       6.000000       2.000000      1.000000   \n",
      "75%    ...      5.000000       6.000000       2.000000      2.000000   \n",
      "max    ...      6.000000       7.000000       5.000000      4.000000   \n",
      "\n",
      "       quantity_group        source   source_type  source_class  \\\n",
      "count    14850.000000  14850.000000  14850.000000  14850.000000   \n",
      "mean         1.325859      6.056902      3.967946      0.230774   \n",
      "std          0.799866      2.045824      2.190914      0.432230   \n",
      "min          0.000000      0.000000      0.000000      0.000000   \n",
      "25%          1.000000      5.000000      3.000000      0.000000   \n",
      "50%          1.000000      7.000000      5.000000      0.000000   \n",
      "75%          2.000000      8.000000      6.000000      0.000000   \n",
      "max          4.000000      9.000000      6.000000      2.000000   \n",
      "\n",
      "       waterpoint_type  waterpoint_type_group  \n",
      "count     14850.000000           14850.000000  \n",
      "mean          2.583434               2.064242  \n",
      "std           1.787166               1.384295  \n",
      "min           0.000000               0.000000  \n",
      "25%           1.000000               1.000000  \n",
      "50%           2.000000               1.000000  \n",
      "75%           4.000000               3.000000  \n",
      "max           6.000000               5.000000  \n",
      "\n",
      "[8 rows x 40 columns]\n",
      "# Muestras       :   14850\n",
      "# Variables      :      17 \n",
      "\n",
      "Variables        : \n",
      " ['amount_tsh', 'funder', 'region_code', 'district_code', 'public_meeting', 'scheme_management', 'permit', 'construction_year', 'extraction_type', 'extraction_type_group', 'extraction_type_class', 'management_group', 'water_quality', 'quality_group', 'quantity', 'source_class', 'waterpoint_type']\n",
      "\n",
      "# Muestras  con  nulos    :      0\n",
      "\n",
      "Valores únicos x variable :  \n",
      "amount_tsh                68\n",
      "funder                   981\n",
      "region_code               26\n",
      "district_code             20\n",
      "public_meeting             3\n",
      "scheme_management         12\n",
      "permit                     3\n",
      "construction_year         55\n",
      "extraction_type           17\n",
      "extraction_type_group     13\n",
      "extraction_type_class      7\n",
      "management_group           5\n",
      "water_quality              8\n",
      "quality_group              6\n",
      "quantity                   5\n",
      "source_class               3\n",
      "waterpoint_type            7\n",
      "dtype: int64\n",
      "<class 'pandas.core.frame.DataFrame'>\n",
      "RangeIndex: 14850 entries, 0 to 14849\n",
      "Data columns (total 17 columns):\n",
      "amount_tsh               14850 non-null float64\n",
      "funder                   14850 non-null int16\n",
      "region_code              14850 non-null int64\n",
      "district_code            14850 non-null int64\n",
      "public_meeting           14850 non-null int8\n",
      "scheme_management        14850 non-null int8\n",
      "permit                   14850 non-null int8\n",
      "construction_year        14850 non-null int64\n",
      "extraction_type          14850 non-null int8\n",
      "extraction_type_group    14850 non-null int8\n",
      "extraction_type_class    14850 non-null int8\n",
      "management_group         14850 non-null int8\n",
      "water_quality            14850 non-null int8\n",
      "quality_group            14850 non-null int8\n",
      "quantity                 14850 non-null int8\n",
      "source_class             14850 non-null int8\n",
      "waterpoint_type          14850 non-null int8\n",
      "dtypes: float64(1), int16(1), int64(3), int8(12)\n",
      "memory usage: 667.2 KB\n"
     ]
    }
   ],
   "source": [
    "# Se realiza el mismo tratamiento que el df_03, para reducier el número de variables de 40 a 17\n",
    "\n",
    "print(var_null(df_05))\n",
    "reemplaza_null(df_05, var_null(df_05), 'No_informado')\n",
    "\n",
    "obj_2_cat(df_05)\n",
    "print(df_05.describe())\n",
    "\n",
    "df_06 = df_05[lvar_pred]\n",
    "ve_df(df_06)\n",
    "\n",
    "df_06.info()\n"
   ]
  },
  {
   "cell_type": "code",
   "execution_count": 30,
   "metadata": {},
   "outputs": [
    {
     "data": {
      "application/vnd.plotly.v1+json": {
       "config": {
        "linkText": "Export to plot.ly",
        "plotlyServerURL": "https://plot.ly",
        "showLink": false
       },
       "data": [
        {
         "colorbar": {
          "title": {
           "side": "right",
           "text": "Coficiente Pearson de Correlacion"
          }
         },
         "colorscale": [
          [
           0,
           "#440154"
          ],
          [
           0.1111111111111111,
           "#482878"
          ],
          [
           0.2222222222222222,
           "#3e4989"
          ],
          [
           0.3333333333333333,
           "#31688e"
          ],
          [
           0.4444444444444444,
           "#26828e"
          ],
          [
           0.5555555555555556,
           "#1f9e89"
          ],
          [
           0.6666666666666666,
           "#35b779"
          ],
          [
           0.7777777777777778,
           "#6ece58"
          ],
          [
           0.8888888888888888,
           "#b5de2b"
          ],
          [
           1,
           "#fde725"
          ]
         ],
         "type": "heatmap",
         "x": [
          "amount_tsh",
          "funder",
          "region_code",
          "district_code",
          "public_meeting",
          "scheme_management",
          "permit",
          "construction_year",
          "extraction_type",
          "extraction_type_group",
          "extraction_type_class",
          "management_group",
          "water_quality",
          "quality_group",
          "quantity",
          "source_class",
          "waterpoint_type"
         ],
         "y": [
          "amount_tsh",
          "funder",
          "region_code",
          "district_code",
          "public_meeting",
          "scheme_management",
          "permit",
          "construction_year",
          "extraction_type",
          "extraction_type_group",
          "extraction_type_class",
          "management_group",
          "water_quality",
          "quality_group",
          "quantity",
          "source_class",
          "waterpoint_type"
         ],
         "z": [
          [
           1,
           0.013085158030705396,
           -0.028886995200253583,
           -0.027390706369865226,
           -0.00254479471743664,
           0.009221128613072196,
           0.01619275878755029,
           0.08623641748463187,
           -0.015288309737202098,
           -0.004503463140461286,
           0.002972770052295981,
           -0.0027618146568973976,
           0.016066315494377002,
           -0.02407811021614824,
           -0.02137799744409741,
           0.04513903975187305,
           -0.05678252014587547
          ],
          [
           0.013085158030705396,
           1,
           -0.007263673997035045,
           -0.00998891093162137,
           -0.05491187306622637,
           0.00612843667466088,
           0.014642699758560676,
           -0.10214967379465835,
           -0.002221044925444503,
           0.009527050822840492,
           0.04056573049656932,
           -0.03189323668111527,
           -0.03125401363824869,
           0.037124754683258904,
           0.036590669112268506,
           0.03592515456978319,
           0.05904919443609771
          ],
          [
           -0.028886995200253583,
           -0.007263673997035045,
           1,
           0.6879099989523874,
           0.013231637369476254,
           -0.09209744743808389,
           -0.042843909562172114,
           0.029993117789412986,
           0.09276512338232519,
           0.08497491140892229,
           0.13657159564864368,
           0.029382451789616088,
           -0.07985586797877829,
           0.08921822327919991,
           -0.08258638823522525,
           -0.07856416355721967,
           0.2066893886640432
          ],
          [
           -0.027390706369865226,
           -0.00998891093162137,
           0.6879099989523874,
           1,
           -0.013329914896073913,
           -0.01552389240653033,
           -0.09157153690936227,
           0.046213955195052364,
           0.020459129491648766,
           0.010546982679910052,
           0.0627184558809892,
           0.00928864631735107,
           -0.07887211997251578,
           0.042567288586014745,
           -0.047852235224781055,
           -0.05622073425493884,
           0.10821833517761789
          ],
          [
           -0.00254479471743664,
           -0.05491187306622637,
           0.013231637369476254,
           -0.013329914896073913,
           1,
           -0.012036187633107143,
           0.054626668026492416,
           0.03194065554255518,
           0.025874249422125455,
           0.00907520568946869,
           0.006807104840056058,
           0.10545818704178704,
           0.0425926561277169,
           0.07048198094614191,
           -0.04454921578582928,
           -0.07070337482441931,
           -0.023943249409200534
          ],
          [
           0.009221128613072196,
           0.00612843667466088,
           -0.09209744743808389,
           -0.01552389240653033,
           -0.012036187633107143,
           1,
           -0.06412333245269872,
           -0.02865803096540031,
           -0.10777832320846913,
           -0.11823154168792456,
           -0.12093591498080332,
           0.33062054866015034,
           0.06485743829928943,
           -0.0832622276420893,
           -0.12276253080166422,
           0.015439567124827414,
           -0.15016601031376664
          ],
          [
           0.01619275878755029,
           0.014642699758560676,
           -0.042843909562172114,
           -0.09157153690936227,
           0.054626668026492416,
           -0.06412333245269872,
           1,
           0.07036605896961845,
           -0.11471184438920227,
           -0.10456932382182892,
           -0.052110792044546925,
           -0.01050056037040684,
           0.06032469155997732,
           -0.040424191247404664,
           0.00035721540253059634,
           0.09532349982851762,
           -0.15407458684974065
          ],
          [
           0.08623641748463187,
           -0.10214967379465835,
           0.029993117789412986,
           0.046213955195052364,
           0.03194065554255518,
           -0.02865803096540031,
           0.07036605896961845,
           1,
           -0.07286464695332513,
           -0.053015773320132194,
           0.005030589148622912,
           -0.08485849719589743,
           0.032612055244494384,
           0.006621896881254949,
           -0.012514257832187806,
           0.09965596078680358,
           -0.19723078128612984
          ],
          [
           -0.015288309737202098,
           -0.002221044925444503,
           0.09276512338232519,
           0.020459129491648766,
           0.025874249422125455,
           -0.10777832320846913,
           -0.11471184438920227,
           -0.07286464695332513,
           1,
           0.9468628902962216,
           0.6969934488726893,
           -0.03818173528736661,
           -0.11247917115259412,
           0.16279098705628836,
           -0.0004707816944571601,
           -0.2182122254635482,
           0.3642798622462705
          ],
          [
           -0.004503463140461286,
           0.009527050822840492,
           0.08497491140892229,
           0.010546982679910052,
           0.00907520568946869,
           -0.11823154168792456,
           -0.10456932382182892,
           -0.053015773320132194,
           0.9468628902962216,
           1,
           0.7854468922276776,
           -0.0787545622797187,
           -0.1112727673507042,
           0.15687671786762236,
           -0.010238918797361654,
           -0.15969376776394065,
           0.31453757901315493
          ],
          [
           0.002972770052295981,
           0.04056573049656932,
           0.13657159564864368,
           0.0627184558809892,
           0.006807104840056058,
           -0.12093591498080332,
           -0.052110792044546925,
           0.005030589148622912,
           0.6969934488726893,
           0.7854468922276776,
           1,
           -0.1600003229413117,
           -0.12105283672766023,
           0.19444932092819547,
           -0.04083973717832057,
           -0.0702913177848802,
           0.20152715017561193
          ],
          [
           -0.0027618146568973976,
           -0.03189323668111527,
           0.029382451789616088,
           0.00928864631735107,
           0.10545818704178704,
           0.33062054866015034,
           -0.01050056037040684,
           -0.08485849719589743,
           -0.03818173528736661,
           -0.0787545622797187,
           -0.1600003229413117,
           1,
           0.0011380454637031031,
           -0.023699048826284288,
           -0.052774153673999284,
           -0.09731739176088253,
           0.08580211769301234
          ],
          [
           0.016066315494377002,
           -0.03125401363824869,
           -0.07985586797877829,
           -0.07887211997251578,
           0.0425926561277169,
           0.06485743829928943,
           0.06032469155997732,
           0.032612055244494384,
           -0.11247917115259412,
           -0.1112727673507042,
           -0.12105283672766023,
           0.0011380454637031031,
           1,
           -0.13609859019236492,
           -0.03266434347286205,
           0.08289106930707926,
           -0.15389368246076413
          ],
          [
           -0.02407811021614824,
           0.037124754683258904,
           0.08921822327919991,
           0.042567288586014745,
           0.07048198094614191,
           -0.0832622276420893,
           -0.040424191247404664,
           0.006621896881254949,
           0.16279098705628836,
           0.15687671786762236,
           0.19444932092819547,
           -0.023699048826284288,
           -0.13609859019236492,
           1,
           0.006866525087861989,
           -0.129121408592436,
           0.19142990403424837
          ],
          [
           -0.02137799744409741,
           0.036590669112268506,
           -0.08258638823522525,
           -0.047852235224781055,
           -0.04454921578582928,
           -0.12276253080166422,
           0.00035721540253059634,
           -0.012514257832187806,
           -0.0004707816944571601,
           -0.010238918797361654,
           -0.04083973717832057,
           -0.052774153673999284,
           -0.03266434347286205,
           0.006866525087861989,
           1,
           0.11790402506128524,
           0.0002714155787292747
          ],
          [
           0.04513903975187305,
           0.03592515456978319,
           -0.07856416355721967,
           -0.05622073425493884,
           -0.07070337482441931,
           0.015439567124827414,
           0.09532349982851762,
           0.09965596078680358,
           -0.2182122254635482,
           -0.15969376776394065,
           -0.0702913177848802,
           -0.09731739176088253,
           0.08289106930707926,
           -0.129121408592436,
           0.11790402506128524,
           1,
           -0.3370798678126551
          ],
          [
           -0.05678252014587547,
           0.05904919443609771,
           0.2066893886640432,
           0.10821833517761789,
           -0.023943249409200534,
           -0.15016601031376664,
           -0.15407458684974065,
           -0.19723078128612984,
           0.3642798622462705,
           0.31453757901315493,
           0.20152715017561193,
           0.08580211769301234,
           -0.15389368246076413,
           0.19142990403424837,
           0.0002714155787292747,
           -0.3370798678126551,
           1
          ]
         ]
        }
       ],
       "layout": {
        "autosize": false,
        "height": 720,
        "margin": {
         "b": 210,
         "l": 210,
         "r": 0,
         "t": 25
        },
        "template": {
         "data": {
          "bar": [
           {
            "error_x": {
             "color": "#2a3f5f"
            },
            "error_y": {
             "color": "#2a3f5f"
            },
            "marker": {
             "line": {
              "color": "#E5ECF6",
              "width": 0.5
             }
            },
            "type": "bar"
           }
          ],
          "barpolar": [
           {
            "marker": {
             "line": {
              "color": "#E5ECF6",
              "width": 0.5
             }
            },
            "type": "barpolar"
           }
          ],
          "carpet": [
           {
            "aaxis": {
             "endlinecolor": "#2a3f5f",
             "gridcolor": "white",
             "linecolor": "white",
             "minorgridcolor": "white",
             "startlinecolor": "#2a3f5f"
            },
            "baxis": {
             "endlinecolor": "#2a3f5f",
             "gridcolor": "white",
             "linecolor": "white",
             "minorgridcolor": "white",
             "startlinecolor": "#2a3f5f"
            },
            "type": "carpet"
           }
          ],
          "choropleth": [
           {
            "colorbar": {
             "outlinewidth": 0,
             "ticks": ""
            },
            "type": "choropleth"
           }
          ],
          "contour": [
           {
            "colorbar": {
             "outlinewidth": 0,
             "ticks": ""
            },
            "colorscale": [
             [
              0,
              "#0d0887"
             ],
             [
              0.1111111111111111,
              "#46039f"
             ],
             [
              0.2222222222222222,
              "#7201a8"
             ],
             [
              0.3333333333333333,
              "#9c179e"
             ],
             [
              0.4444444444444444,
              "#bd3786"
             ],
             [
              0.5555555555555556,
              "#d8576b"
             ],
             [
              0.6666666666666666,
              "#ed7953"
             ],
             [
              0.7777777777777778,
              "#fb9f3a"
             ],
             [
              0.8888888888888888,
              "#fdca26"
             ],
             [
              1,
              "#f0f921"
             ]
            ],
            "type": "contour"
           }
          ],
          "contourcarpet": [
           {
            "colorbar": {
             "outlinewidth": 0,
             "ticks": ""
            },
            "type": "contourcarpet"
           }
          ],
          "heatmap": [
           {
            "colorbar": {
             "outlinewidth": 0,
             "ticks": ""
            },
            "colorscale": [
             [
              0,
              "#0d0887"
             ],
             [
              0.1111111111111111,
              "#46039f"
             ],
             [
              0.2222222222222222,
              "#7201a8"
             ],
             [
              0.3333333333333333,
              "#9c179e"
             ],
             [
              0.4444444444444444,
              "#bd3786"
             ],
             [
              0.5555555555555556,
              "#d8576b"
             ],
             [
              0.6666666666666666,
              "#ed7953"
             ],
             [
              0.7777777777777778,
              "#fb9f3a"
             ],
             [
              0.8888888888888888,
              "#fdca26"
             ],
             [
              1,
              "#f0f921"
             ]
            ],
            "type": "heatmap"
           }
          ],
          "heatmapgl": [
           {
            "colorbar": {
             "outlinewidth": 0,
             "ticks": ""
            },
            "colorscale": [
             [
              0,
              "#0d0887"
             ],
             [
              0.1111111111111111,
              "#46039f"
             ],
             [
              0.2222222222222222,
              "#7201a8"
             ],
             [
              0.3333333333333333,
              "#9c179e"
             ],
             [
              0.4444444444444444,
              "#bd3786"
             ],
             [
              0.5555555555555556,
              "#d8576b"
             ],
             [
              0.6666666666666666,
              "#ed7953"
             ],
             [
              0.7777777777777778,
              "#fb9f3a"
             ],
             [
              0.8888888888888888,
              "#fdca26"
             ],
             [
              1,
              "#f0f921"
             ]
            ],
            "type": "heatmapgl"
           }
          ],
          "histogram": [
           {
            "marker": {
             "colorbar": {
              "outlinewidth": 0,
              "ticks": ""
             }
            },
            "type": "histogram"
           }
          ],
          "histogram2d": [
           {
            "colorbar": {
             "outlinewidth": 0,
             "ticks": ""
            },
            "colorscale": [
             [
              0,
              "#0d0887"
             ],
             [
              0.1111111111111111,
              "#46039f"
             ],
             [
              0.2222222222222222,
              "#7201a8"
             ],
             [
              0.3333333333333333,
              "#9c179e"
             ],
             [
              0.4444444444444444,
              "#bd3786"
             ],
             [
              0.5555555555555556,
              "#d8576b"
             ],
             [
              0.6666666666666666,
              "#ed7953"
             ],
             [
              0.7777777777777778,
              "#fb9f3a"
             ],
             [
              0.8888888888888888,
              "#fdca26"
             ],
             [
              1,
              "#f0f921"
             ]
            ],
            "type": "histogram2d"
           }
          ],
          "histogram2dcontour": [
           {
            "colorbar": {
             "outlinewidth": 0,
             "ticks": ""
            },
            "colorscale": [
             [
              0,
              "#0d0887"
             ],
             [
              0.1111111111111111,
              "#46039f"
             ],
             [
              0.2222222222222222,
              "#7201a8"
             ],
             [
              0.3333333333333333,
              "#9c179e"
             ],
             [
              0.4444444444444444,
              "#bd3786"
             ],
             [
              0.5555555555555556,
              "#d8576b"
             ],
             [
              0.6666666666666666,
              "#ed7953"
             ],
             [
              0.7777777777777778,
              "#fb9f3a"
             ],
             [
              0.8888888888888888,
              "#fdca26"
             ],
             [
              1,
              "#f0f921"
             ]
            ],
            "type": "histogram2dcontour"
           }
          ],
          "mesh3d": [
           {
            "colorbar": {
             "outlinewidth": 0,
             "ticks": ""
            },
            "type": "mesh3d"
           }
          ],
          "parcoords": [
           {
            "line": {
             "colorbar": {
              "outlinewidth": 0,
              "ticks": ""
             }
            },
            "type": "parcoords"
           }
          ],
          "pie": [
           {
            "automargin": true,
            "type": "pie"
           }
          ],
          "scatter": [
           {
            "marker": {
             "colorbar": {
              "outlinewidth": 0,
              "ticks": ""
             }
            },
            "type": "scatter"
           }
          ],
          "scatter3d": [
           {
            "line": {
             "colorbar": {
              "outlinewidth": 0,
              "ticks": ""
             }
            },
            "marker": {
             "colorbar": {
              "outlinewidth": 0,
              "ticks": ""
             }
            },
            "type": "scatter3d"
           }
          ],
          "scattercarpet": [
           {
            "marker": {
             "colorbar": {
              "outlinewidth": 0,
              "ticks": ""
             }
            },
            "type": "scattercarpet"
           }
          ],
          "scattergeo": [
           {
            "marker": {
             "colorbar": {
              "outlinewidth": 0,
              "ticks": ""
             }
            },
            "type": "scattergeo"
           }
          ],
          "scattergl": [
           {
            "marker": {
             "colorbar": {
              "outlinewidth": 0,
              "ticks": ""
             }
            },
            "type": "scattergl"
           }
          ],
          "scattermapbox": [
           {
            "marker": {
             "colorbar": {
              "outlinewidth": 0,
              "ticks": ""
             }
            },
            "type": "scattermapbox"
           }
          ],
          "scatterpolar": [
           {
            "marker": {
             "colorbar": {
              "outlinewidth": 0,
              "ticks": ""
             }
            },
            "type": "scatterpolar"
           }
          ],
          "scatterpolargl": [
           {
            "marker": {
             "colorbar": {
              "outlinewidth": 0,
              "ticks": ""
             }
            },
            "type": "scatterpolargl"
           }
          ],
          "scatterternary": [
           {
            "marker": {
             "colorbar": {
              "outlinewidth": 0,
              "ticks": ""
             }
            },
            "type": "scatterternary"
           }
          ],
          "surface": [
           {
            "colorbar": {
             "outlinewidth": 0,
             "ticks": ""
            },
            "colorscale": [
             [
              0,
              "#0d0887"
             ],
             [
              0.1111111111111111,
              "#46039f"
             ],
             [
              0.2222222222222222,
              "#7201a8"
             ],
             [
              0.3333333333333333,
              "#9c179e"
             ],
             [
              0.4444444444444444,
              "#bd3786"
             ],
             [
              0.5555555555555556,
              "#d8576b"
             ],
             [
              0.6666666666666666,
              "#ed7953"
             ],
             [
              0.7777777777777778,
              "#fb9f3a"
             ],
             [
              0.8888888888888888,
              "#fdca26"
             ],
             [
              1,
              "#f0f921"
             ]
            ],
            "type": "surface"
           }
          ],
          "table": [
           {
            "cells": {
             "fill": {
              "color": "#EBF0F8"
             },
             "line": {
              "color": "white"
             }
            },
            "header": {
             "fill": {
              "color": "#C8D4E3"
             },
             "line": {
              "color": "white"
             }
            },
            "type": "table"
           }
          ]
         },
         "layout": {
          "annotationdefaults": {
           "arrowcolor": "#2a3f5f",
           "arrowhead": 0,
           "arrowwidth": 1
          },
          "coloraxis": {
           "colorbar": {
            "outlinewidth": 0,
            "ticks": ""
           }
          },
          "colorscale": {
           "diverging": [
            [
             0,
             "#8e0152"
            ],
            [
             0.1,
             "#c51b7d"
            ],
            [
             0.2,
             "#de77ae"
            ],
            [
             0.3,
             "#f1b6da"
            ],
            [
             0.4,
             "#fde0ef"
            ],
            [
             0.5,
             "#f7f7f7"
            ],
            [
             0.6,
             "#e6f5d0"
            ],
            [
             0.7,
             "#b8e186"
            ],
            [
             0.8,
             "#7fbc41"
            ],
            [
             0.9,
             "#4d9221"
            ],
            [
             1,
             "#276419"
            ]
           ],
           "sequential": [
            [
             0,
             "#0d0887"
            ],
            [
             0.1111111111111111,
             "#46039f"
            ],
            [
             0.2222222222222222,
             "#7201a8"
            ],
            [
             0.3333333333333333,
             "#9c179e"
            ],
            [
             0.4444444444444444,
             "#bd3786"
            ],
            [
             0.5555555555555556,
             "#d8576b"
            ],
            [
             0.6666666666666666,
             "#ed7953"
            ],
            [
             0.7777777777777778,
             "#fb9f3a"
            ],
            [
             0.8888888888888888,
             "#fdca26"
            ],
            [
             1,
             "#f0f921"
            ]
           ],
           "sequentialminus": [
            [
             0,
             "#0d0887"
            ],
            [
             0.1111111111111111,
             "#46039f"
            ],
            [
             0.2222222222222222,
             "#7201a8"
            ],
            [
             0.3333333333333333,
             "#9c179e"
            ],
            [
             0.4444444444444444,
             "#bd3786"
            ],
            [
             0.5555555555555556,
             "#d8576b"
            ],
            [
             0.6666666666666666,
             "#ed7953"
            ],
            [
             0.7777777777777778,
             "#fb9f3a"
            ],
            [
             0.8888888888888888,
             "#fdca26"
            ],
            [
             1,
             "#f0f921"
            ]
           ]
          },
          "colorway": [
           "#636efa",
           "#EF553B",
           "#00cc96",
           "#ab63fa",
           "#FFA15A",
           "#19d3f3",
           "#FF6692",
           "#B6E880",
           "#FF97FF",
           "#FECB52"
          ],
          "font": {
           "color": "#2a3f5f"
          },
          "geo": {
           "bgcolor": "white",
           "lakecolor": "white",
           "landcolor": "#E5ECF6",
           "showlakes": true,
           "showland": true,
           "subunitcolor": "white"
          },
          "hoverlabel": {
           "align": "left"
          },
          "hovermode": "closest",
          "mapbox": {
           "style": "light"
          },
          "paper_bgcolor": "white",
          "plot_bgcolor": "#E5ECF6",
          "polar": {
           "angularaxis": {
            "gridcolor": "white",
            "linecolor": "white",
            "ticks": ""
           },
           "bgcolor": "#E5ECF6",
           "radialaxis": {
            "gridcolor": "white",
            "linecolor": "white",
            "ticks": ""
           }
          },
          "scene": {
           "xaxis": {
            "backgroundcolor": "#E5ECF6",
            "gridcolor": "white",
            "gridwidth": 2,
            "linecolor": "white",
            "showbackground": true,
            "ticks": "",
            "zerolinecolor": "white"
           },
           "yaxis": {
            "backgroundcolor": "#E5ECF6",
            "gridcolor": "white",
            "gridwidth": 2,
            "linecolor": "white",
            "showbackground": true,
            "ticks": "",
            "zerolinecolor": "white"
           },
           "zaxis": {
            "backgroundcolor": "#E5ECF6",
            "gridcolor": "white",
            "gridwidth": 2,
            "linecolor": "white",
            "showbackground": true,
            "ticks": "",
            "zerolinecolor": "white"
           }
          },
          "shapedefaults": {
           "line": {
            "color": "#2a3f5f"
           }
          },
          "ternary": {
           "aaxis": {
            "gridcolor": "white",
            "linecolor": "white",
            "ticks": ""
           },
           "baxis": {
            "gridcolor": "white",
            "linecolor": "white",
            "ticks": ""
           },
           "bgcolor": "#E5ECF6",
           "caxis": {
            "gridcolor": "white",
            "linecolor": "white",
            "ticks": ""
           }
          },
          "title": {
           "x": 0.05
          },
          "xaxis": {
           "automargin": true,
           "gridcolor": "white",
           "linecolor": "white",
           "ticks": "",
           "title": {
            "standoff": 15
           },
           "zerolinecolor": "white",
           "zerolinewidth": 2
          },
          "yaxis": {
           "automargin": true,
           "gridcolor": "white",
           "linecolor": "white",
           "ticks": "",
           "title": {
            "standoff": 15
           },
           "zerolinecolor": "white",
           "zerolinewidth": 2
          }
         }
        },
        "title": {
         "text": "Matriz de correlación de variables"
        },
        "width": 800,
        "xaxis": {
         "tickfont": {
          "size": 9
         }
        },
        "yaxis": {
         "tickfont": {
          "size": 9
         }
        }
       }
      },
      "text/html": [
       "<div>\n",
       "        \n",
       "        \n",
       "            <div id=\"c836ef34-c8ff-4173-97bb-37822bfa83f1\" class=\"plotly-graph-div\" style=\"height:720px; width:800px;\"></div>\n",
       "            <script type=\"text/javascript\">\n",
       "                require([\"plotly\"], function(Plotly) {\n",
       "                    window.PLOTLYENV=window.PLOTLYENV || {};\n",
       "                    \n",
       "                if (document.getElementById(\"c836ef34-c8ff-4173-97bb-37822bfa83f1\")) {\n",
       "                    Plotly.newPlot(\n",
       "                        'c836ef34-c8ff-4173-97bb-37822bfa83f1',\n",
       "                        [{\"colorbar\": {\"title\": {\"side\": \"right\", \"text\": \"Coficiente Pearson de Correlacion\"}}, \"colorscale\": [[0.0, \"#440154\"], [0.1111111111111111, \"#482878\"], [0.2222222222222222, \"#3e4989\"], [0.3333333333333333, \"#31688e\"], [0.4444444444444444, \"#26828e\"], [0.5555555555555556, \"#1f9e89\"], [0.6666666666666666, \"#35b779\"], [0.7777777777777778, \"#6ece58\"], [0.8888888888888888, \"#b5de2b\"], [1.0, \"#fde725\"]], \"type\": \"heatmap\", \"x\": [\"amount_tsh\", \"funder\", \"region_code\", \"district_code\", \"public_meeting\", \"scheme_management\", \"permit\", \"construction_year\", \"extraction_type\", \"extraction_type_group\", \"extraction_type_class\", \"management_group\", \"water_quality\", \"quality_group\", \"quantity\", \"source_class\", \"waterpoint_type\"], \"y\": [\"amount_tsh\", \"funder\", \"region_code\", \"district_code\", \"public_meeting\", \"scheme_management\", \"permit\", \"construction_year\", \"extraction_type\", \"extraction_type_group\", \"extraction_type_class\", \"management_group\", \"water_quality\", \"quality_group\", \"quantity\", \"source_class\", \"waterpoint_type\"], \"z\": [[1.0, 0.013085158030705396, -0.028886995200253583, -0.027390706369865226, -0.00254479471743664, 0.009221128613072196, 0.01619275878755029, 0.08623641748463187, -0.015288309737202098, -0.004503463140461286, 0.002972770052295981, -0.0027618146568973976, 0.016066315494377002, -0.02407811021614824, -0.02137799744409741, 0.04513903975187305, -0.05678252014587547], [0.013085158030705396, 1.0, -0.007263673997035045, -0.00998891093162137, -0.05491187306622637, 0.00612843667466088, 0.014642699758560676, -0.10214967379465835, -0.002221044925444503, 0.009527050822840492, 0.04056573049656932, -0.03189323668111527, -0.03125401363824869, 0.037124754683258904, 0.036590669112268506, 0.03592515456978319, 0.05904919443609771], [-0.028886995200253583, -0.007263673997035045, 1.0, 0.6879099989523874, 0.013231637369476254, -0.09209744743808389, -0.042843909562172114, 0.029993117789412986, 0.09276512338232519, 0.08497491140892229, 0.13657159564864368, 0.029382451789616088, -0.07985586797877829, 0.08921822327919991, -0.08258638823522525, -0.07856416355721967, 0.2066893886640432], [-0.027390706369865226, -0.00998891093162137, 0.6879099989523874, 1.0, -0.013329914896073913, -0.01552389240653033, -0.09157153690936227, 0.046213955195052364, 0.020459129491648766, 0.010546982679910052, 0.0627184558809892, 0.00928864631735107, -0.07887211997251578, 0.042567288586014745, -0.047852235224781055, -0.05622073425493884, 0.10821833517761789], [-0.00254479471743664, -0.05491187306622637, 0.013231637369476254, -0.013329914896073913, 1.0, -0.012036187633107143, 0.054626668026492416, 0.03194065554255518, 0.025874249422125455, 0.00907520568946869, 0.006807104840056058, 0.10545818704178704, 0.0425926561277169, 0.07048198094614191, -0.04454921578582928, -0.07070337482441931, -0.023943249409200534], [0.009221128613072196, 0.00612843667466088, -0.09209744743808389, -0.01552389240653033, -0.012036187633107143, 1.0, -0.06412333245269872, -0.02865803096540031, -0.10777832320846913, -0.11823154168792456, -0.12093591498080332, 0.33062054866015034, 0.06485743829928943, -0.0832622276420893, -0.12276253080166422, 0.015439567124827414, -0.15016601031376664], [0.01619275878755029, 0.014642699758560676, -0.042843909562172114, -0.09157153690936227, 0.054626668026492416, -0.06412333245269872, 1.0, 0.07036605896961845, -0.11471184438920227, -0.10456932382182892, -0.052110792044546925, -0.01050056037040684, 0.06032469155997732, -0.040424191247404664, 0.00035721540253059634, 0.09532349982851762, -0.15407458684974065], [0.08623641748463187, -0.10214967379465835, 0.029993117789412986, 0.046213955195052364, 0.03194065554255518, -0.02865803096540031, 0.07036605896961845, 1.0, -0.07286464695332513, -0.053015773320132194, 0.005030589148622912, -0.08485849719589743, 0.032612055244494384, 0.006621896881254949, -0.012514257832187806, 0.09965596078680358, -0.19723078128612984], [-0.015288309737202098, -0.002221044925444503, 0.09276512338232519, 0.020459129491648766, 0.025874249422125455, -0.10777832320846913, -0.11471184438920227, -0.07286464695332513, 1.0, 0.9468628902962216, 0.6969934488726893, -0.03818173528736661, -0.11247917115259412, 0.16279098705628836, -0.0004707816944571601, -0.2182122254635482, 0.3642798622462705], [-0.004503463140461286, 0.009527050822840492, 0.08497491140892229, 0.010546982679910052, 0.00907520568946869, -0.11823154168792456, -0.10456932382182892, -0.053015773320132194, 0.9468628902962216, 1.0, 0.7854468922276776, -0.0787545622797187, -0.1112727673507042, 0.15687671786762236, -0.010238918797361654, -0.15969376776394065, 0.31453757901315493], [0.002972770052295981, 0.04056573049656932, 0.13657159564864368, 0.0627184558809892, 0.006807104840056058, -0.12093591498080332, -0.052110792044546925, 0.005030589148622912, 0.6969934488726893, 0.7854468922276776, 1.0, -0.1600003229413117, -0.12105283672766023, 0.19444932092819547, -0.04083973717832057, -0.0702913177848802, 0.20152715017561193], [-0.0027618146568973976, -0.03189323668111527, 0.029382451789616088, 0.00928864631735107, 0.10545818704178704, 0.33062054866015034, -0.01050056037040684, -0.08485849719589743, -0.03818173528736661, -0.0787545622797187, -0.1600003229413117, 1.0, 0.0011380454637031031, -0.023699048826284288, -0.052774153673999284, -0.09731739176088253, 0.08580211769301234], [0.016066315494377002, -0.03125401363824869, -0.07985586797877829, -0.07887211997251578, 0.0425926561277169, 0.06485743829928943, 0.06032469155997732, 0.032612055244494384, -0.11247917115259412, -0.1112727673507042, -0.12105283672766023, 0.0011380454637031031, 1.0, -0.13609859019236492, -0.03266434347286205, 0.08289106930707926, -0.15389368246076413], [-0.02407811021614824, 0.037124754683258904, 0.08921822327919991, 0.042567288586014745, 0.07048198094614191, -0.0832622276420893, -0.040424191247404664, 0.006621896881254949, 0.16279098705628836, 0.15687671786762236, 0.19444932092819547, -0.023699048826284288, -0.13609859019236492, 1.0, 0.006866525087861989, -0.129121408592436, 0.19142990403424837], [-0.02137799744409741, 0.036590669112268506, -0.08258638823522525, -0.047852235224781055, -0.04454921578582928, -0.12276253080166422, 0.00035721540253059634, -0.012514257832187806, -0.0004707816944571601, -0.010238918797361654, -0.04083973717832057, -0.052774153673999284, -0.03266434347286205, 0.006866525087861989, 1.0, 0.11790402506128524, 0.0002714155787292747], [0.04513903975187305, 0.03592515456978319, -0.07856416355721967, -0.05622073425493884, -0.07070337482441931, 0.015439567124827414, 0.09532349982851762, 0.09965596078680358, -0.2182122254635482, -0.15969376776394065, -0.0702913177848802, -0.09731739176088253, 0.08289106930707926, -0.129121408592436, 0.11790402506128524, 1.0, -0.3370798678126551], [-0.05678252014587547, 0.05904919443609771, 0.2066893886640432, 0.10821833517761789, -0.023943249409200534, -0.15016601031376664, -0.15407458684974065, -0.19723078128612984, 0.3642798622462705, 0.31453757901315493, 0.20152715017561193, 0.08580211769301234, -0.15389368246076413, 0.19142990403424837, 0.0002714155787292747, -0.3370798678126551, 1.0]]}],\n",
       "                        {\"autosize\": false, \"height\": 720, \"margin\": {\"b\": 210, \"l\": 210, \"r\": 0, \"t\": 25}, \"template\": {\"data\": {\"bar\": [{\"error_x\": {\"color\": \"#2a3f5f\"}, \"error_y\": {\"color\": \"#2a3f5f\"}, \"marker\": {\"line\": {\"color\": \"#E5ECF6\", \"width\": 0.5}}, \"type\": \"bar\"}], \"barpolar\": [{\"marker\": {\"line\": {\"color\": \"#E5ECF6\", \"width\": 0.5}}, \"type\": \"barpolar\"}], \"carpet\": [{\"aaxis\": {\"endlinecolor\": \"#2a3f5f\", \"gridcolor\": \"white\", \"linecolor\": \"white\", \"minorgridcolor\": \"white\", \"startlinecolor\": \"#2a3f5f\"}, \"baxis\": {\"endlinecolor\": \"#2a3f5f\", \"gridcolor\": \"white\", \"linecolor\": \"white\", \"minorgridcolor\": \"white\", \"startlinecolor\": \"#2a3f5f\"}, \"type\": \"carpet\"}], \"choropleth\": [{\"colorbar\": {\"outlinewidth\": 0, \"ticks\": \"\"}, \"type\": \"choropleth\"}], \"contour\": [{\"colorbar\": {\"outlinewidth\": 0, \"ticks\": \"\"}, \"colorscale\": [[0.0, \"#0d0887\"], [0.1111111111111111, \"#46039f\"], [0.2222222222222222, \"#7201a8\"], [0.3333333333333333, \"#9c179e\"], [0.4444444444444444, \"#bd3786\"], [0.5555555555555556, \"#d8576b\"], [0.6666666666666666, \"#ed7953\"], [0.7777777777777778, \"#fb9f3a\"], [0.8888888888888888, \"#fdca26\"], [1.0, \"#f0f921\"]], \"type\": \"contour\"}], \"contourcarpet\": [{\"colorbar\": {\"outlinewidth\": 0, \"ticks\": \"\"}, \"type\": \"contourcarpet\"}], \"heatmap\": [{\"colorbar\": {\"outlinewidth\": 0, \"ticks\": \"\"}, \"colorscale\": [[0.0, \"#0d0887\"], [0.1111111111111111, \"#46039f\"], [0.2222222222222222, \"#7201a8\"], [0.3333333333333333, \"#9c179e\"], [0.4444444444444444, \"#bd3786\"], [0.5555555555555556, \"#d8576b\"], [0.6666666666666666, \"#ed7953\"], [0.7777777777777778, \"#fb9f3a\"], [0.8888888888888888, \"#fdca26\"], [1.0, \"#f0f921\"]], \"type\": \"heatmap\"}], \"heatmapgl\": [{\"colorbar\": {\"outlinewidth\": 0, \"ticks\": \"\"}, \"colorscale\": [[0.0, \"#0d0887\"], [0.1111111111111111, \"#46039f\"], [0.2222222222222222, \"#7201a8\"], [0.3333333333333333, \"#9c179e\"], [0.4444444444444444, \"#bd3786\"], [0.5555555555555556, \"#d8576b\"], [0.6666666666666666, \"#ed7953\"], [0.7777777777777778, \"#fb9f3a\"], [0.8888888888888888, \"#fdca26\"], [1.0, \"#f0f921\"]], \"type\": \"heatmapgl\"}], \"histogram\": [{\"marker\": {\"colorbar\": {\"outlinewidth\": 0, \"ticks\": \"\"}}, \"type\": \"histogram\"}], \"histogram2d\": [{\"colorbar\": {\"outlinewidth\": 0, \"ticks\": \"\"}, \"colorscale\": [[0.0, \"#0d0887\"], [0.1111111111111111, \"#46039f\"], [0.2222222222222222, \"#7201a8\"], [0.3333333333333333, \"#9c179e\"], [0.4444444444444444, \"#bd3786\"], [0.5555555555555556, \"#d8576b\"], [0.6666666666666666, \"#ed7953\"], [0.7777777777777778, \"#fb9f3a\"], [0.8888888888888888, \"#fdca26\"], [1.0, \"#f0f921\"]], \"type\": \"histogram2d\"}], \"histogram2dcontour\": [{\"colorbar\": {\"outlinewidth\": 0, \"ticks\": \"\"}, \"colorscale\": [[0.0, \"#0d0887\"], [0.1111111111111111, \"#46039f\"], [0.2222222222222222, \"#7201a8\"], [0.3333333333333333, \"#9c179e\"], [0.4444444444444444, \"#bd3786\"], [0.5555555555555556, \"#d8576b\"], [0.6666666666666666, \"#ed7953\"], [0.7777777777777778, \"#fb9f3a\"], [0.8888888888888888, \"#fdca26\"], [1.0, \"#f0f921\"]], \"type\": \"histogram2dcontour\"}], \"mesh3d\": [{\"colorbar\": {\"outlinewidth\": 0, \"ticks\": \"\"}, \"type\": \"mesh3d\"}], \"parcoords\": [{\"line\": {\"colorbar\": {\"outlinewidth\": 0, \"ticks\": \"\"}}, \"type\": \"parcoords\"}], \"pie\": [{\"automargin\": true, \"type\": \"pie\"}], \"scatter\": [{\"marker\": {\"colorbar\": {\"outlinewidth\": 0, \"ticks\": \"\"}}, \"type\": \"scatter\"}], \"scatter3d\": [{\"line\": {\"colorbar\": {\"outlinewidth\": 0, \"ticks\": \"\"}}, \"marker\": {\"colorbar\": {\"outlinewidth\": 0, \"ticks\": \"\"}}, \"type\": \"scatter3d\"}], \"scattercarpet\": [{\"marker\": {\"colorbar\": {\"outlinewidth\": 0, \"ticks\": \"\"}}, \"type\": \"scattercarpet\"}], \"scattergeo\": [{\"marker\": {\"colorbar\": {\"outlinewidth\": 0, \"ticks\": \"\"}}, \"type\": \"scattergeo\"}], \"scattergl\": [{\"marker\": {\"colorbar\": {\"outlinewidth\": 0, \"ticks\": \"\"}}, \"type\": \"scattergl\"}], \"scattermapbox\": [{\"marker\": {\"colorbar\": {\"outlinewidth\": 0, \"ticks\": \"\"}}, \"type\": \"scattermapbox\"}], \"scatterpolar\": [{\"marker\": {\"colorbar\": {\"outlinewidth\": 0, \"ticks\": \"\"}}, \"type\": \"scatterpolar\"}], \"scatterpolargl\": [{\"marker\": {\"colorbar\": {\"outlinewidth\": 0, \"ticks\": \"\"}}, \"type\": \"scatterpolargl\"}], \"scatterternary\": [{\"marker\": {\"colorbar\": {\"outlinewidth\": 0, \"ticks\": \"\"}}, \"type\": \"scatterternary\"}], \"surface\": [{\"colorbar\": {\"outlinewidth\": 0, \"ticks\": \"\"}, \"colorscale\": [[0.0, \"#0d0887\"], [0.1111111111111111, \"#46039f\"], [0.2222222222222222, \"#7201a8\"], [0.3333333333333333, \"#9c179e\"], [0.4444444444444444, \"#bd3786\"], [0.5555555555555556, \"#d8576b\"], [0.6666666666666666, \"#ed7953\"], [0.7777777777777778, \"#fb9f3a\"], [0.8888888888888888, \"#fdca26\"], [1.0, \"#f0f921\"]], \"type\": \"surface\"}], \"table\": [{\"cells\": {\"fill\": {\"color\": \"#EBF0F8\"}, \"line\": {\"color\": \"white\"}}, \"header\": {\"fill\": {\"color\": \"#C8D4E3\"}, \"line\": {\"color\": \"white\"}}, \"type\": \"table\"}]}, \"layout\": {\"annotationdefaults\": {\"arrowcolor\": \"#2a3f5f\", \"arrowhead\": 0, \"arrowwidth\": 1}, \"coloraxis\": {\"colorbar\": {\"outlinewidth\": 0, \"ticks\": \"\"}}, \"colorscale\": {\"diverging\": [[0, \"#8e0152\"], [0.1, \"#c51b7d\"], [0.2, \"#de77ae\"], [0.3, \"#f1b6da\"], [0.4, \"#fde0ef\"], [0.5, \"#f7f7f7\"], [0.6, \"#e6f5d0\"], [0.7, \"#b8e186\"], [0.8, \"#7fbc41\"], [0.9, \"#4d9221\"], [1, \"#276419\"]], \"sequential\": [[0.0, \"#0d0887\"], [0.1111111111111111, \"#46039f\"], [0.2222222222222222, \"#7201a8\"], [0.3333333333333333, \"#9c179e\"], [0.4444444444444444, \"#bd3786\"], [0.5555555555555556, \"#d8576b\"], [0.6666666666666666, \"#ed7953\"], [0.7777777777777778, \"#fb9f3a\"], [0.8888888888888888, \"#fdca26\"], [1.0, \"#f0f921\"]], \"sequentialminus\": [[0.0, \"#0d0887\"], [0.1111111111111111, \"#46039f\"], [0.2222222222222222, \"#7201a8\"], [0.3333333333333333, \"#9c179e\"], [0.4444444444444444, \"#bd3786\"], [0.5555555555555556, \"#d8576b\"], [0.6666666666666666, \"#ed7953\"], [0.7777777777777778, \"#fb9f3a\"], [0.8888888888888888, \"#fdca26\"], [1.0, \"#f0f921\"]]}, \"colorway\": [\"#636efa\", \"#EF553B\", \"#00cc96\", \"#ab63fa\", \"#FFA15A\", \"#19d3f3\", \"#FF6692\", \"#B6E880\", \"#FF97FF\", \"#FECB52\"], \"font\": {\"color\": \"#2a3f5f\"}, \"geo\": {\"bgcolor\": \"white\", \"lakecolor\": \"white\", \"landcolor\": \"#E5ECF6\", \"showlakes\": true, \"showland\": true, \"subunitcolor\": \"white\"}, \"hoverlabel\": {\"align\": \"left\"}, \"hovermode\": \"closest\", \"mapbox\": {\"style\": \"light\"}, \"paper_bgcolor\": \"white\", \"plot_bgcolor\": \"#E5ECF6\", \"polar\": {\"angularaxis\": {\"gridcolor\": \"white\", \"linecolor\": \"white\", \"ticks\": \"\"}, \"bgcolor\": \"#E5ECF6\", \"radialaxis\": {\"gridcolor\": \"white\", \"linecolor\": \"white\", \"ticks\": \"\"}}, \"scene\": {\"xaxis\": {\"backgroundcolor\": \"#E5ECF6\", \"gridcolor\": \"white\", \"gridwidth\": 2, \"linecolor\": \"white\", \"showbackground\": true, \"ticks\": \"\", \"zerolinecolor\": \"white\"}, \"yaxis\": {\"backgroundcolor\": \"#E5ECF6\", \"gridcolor\": \"white\", \"gridwidth\": 2, \"linecolor\": \"white\", \"showbackground\": true, \"ticks\": \"\", \"zerolinecolor\": \"white\"}, \"zaxis\": {\"backgroundcolor\": \"#E5ECF6\", \"gridcolor\": \"white\", \"gridwidth\": 2, \"linecolor\": \"white\", \"showbackground\": true, \"ticks\": \"\", \"zerolinecolor\": \"white\"}}, \"shapedefaults\": {\"line\": {\"color\": \"#2a3f5f\"}}, \"ternary\": {\"aaxis\": {\"gridcolor\": \"white\", \"linecolor\": \"white\", \"ticks\": \"\"}, \"baxis\": {\"gridcolor\": \"white\", \"linecolor\": \"white\", \"ticks\": \"\"}, \"bgcolor\": \"#E5ECF6\", \"caxis\": {\"gridcolor\": \"white\", \"linecolor\": \"white\", \"ticks\": \"\"}}, \"title\": {\"x\": 0.05}, \"xaxis\": {\"automargin\": true, \"gridcolor\": \"white\", \"linecolor\": \"white\", \"ticks\": \"\", \"title\": {\"standoff\": 15}, \"zerolinecolor\": \"white\", \"zerolinewidth\": 2}, \"yaxis\": {\"automargin\": true, \"gridcolor\": \"white\", \"linecolor\": \"white\", \"ticks\": \"\", \"title\": {\"standoff\": 15}, \"zerolinecolor\": \"white\", \"zerolinewidth\": 2}}}, \"title\": {\"text\": \"Matriz de correlaci\\u00f3n de variables\"}, \"width\": 800, \"xaxis\": {\"tickfont\": {\"size\": 9}}, \"yaxis\": {\"tickfont\": {\"size\": 9}}},\n",
       "                        {\"responsive\": true}\n",
       "                    ).then(function(){\n",
       "                            \n",
       "var gd = document.getElementById('c836ef34-c8ff-4173-97bb-37822bfa83f1');\n",
       "var x = new MutationObserver(function (mutations, observer) {{\n",
       "        var display = window.getComputedStyle(gd).display;\n",
       "        if (!display || display === 'none') {{\n",
       "            console.log([gd, 'removed!']);\n",
       "            Plotly.purge(gd);\n",
       "            observer.disconnect();\n",
       "        }}\n",
       "}});\n",
       "\n",
       "// Listen for the removal of the full notebook cells\n",
       "var notebookContainer = gd.closest('#notebook-container');\n",
       "if (notebookContainer) {{\n",
       "    x.observe(notebookContainer, {childList: true});\n",
       "}}\n",
       "\n",
       "// Listen for the clearing of the current output cell\n",
       "var outputEl = gd.closest('.output');\n",
       "if (outputEl) {{\n",
       "    x.observe(outputEl, {childList: true});\n",
       "}}\n",
       "\n",
       "                        })\n",
       "                };\n",
       "                });\n",
       "            </script>\n",
       "        </div>"
      ]
     },
     "metadata": {},
     "output_type": "display_data"
    }
   ],
   "source": [
    "# Mariz de correlación del dataset df_06\n",
    "\n",
    "correlation2 = df_06.corr()\n",
    "#tick labels\n",
    "matrix_cols2 = correlation2.columns.tolist()\n",
    "#convert to array\n",
    "corr_array2  = np.array(correlation2)\n",
    "\n",
    "#Plotting\n",
    "trace2 = go.Heatmap(z = corr_array2,\n",
    "                   x = matrix_cols2,\n",
    "                   y = matrix_cols2,\n",
    "                   colorscale = \"Viridis\",\n",
    "                   colorbar   = dict(title = \"Coficiente Pearson de Correlacion\",\n",
    "                                     titleside = \"right\"\n",
    "                                    ) ,\n",
    "                  )\n",
    "\n",
    "layout2 = go.Layout(dict(title = \"Matriz de correlación de variables\",\n",
    "                        autosize = False,\n",
    "                        height  = 720,\n",
    "                        width   = 800,\n",
    "                        margin  = dict(r = 0 ,l = 210,\n",
    "                                       t = 25,b = 210,\n",
    "                                      ),\n",
    "                        yaxis   = dict(tickfont = dict(size = 9)),\n",
    "                        xaxis   = dict(tickfont = dict(size = 9))\n",
    "                       )\n",
    "                  )\n",
    "\n",
    "data2 = [trace2]\n",
    "fig2 = go.Figure(data=data2,layout=layout2)\n",
    "py.iplot(fig2)"
   ]
  },
  {
   "cell_type": "code",
   "execution_count": 31,
   "metadata": {},
   "outputs": [
    {
     "name": "stdout",
     "output_type": "stream",
     "text": [
      "['functional' 'functional needs repair' 'functional' ... 'functional'\n",
      " 'functional' 'non functional']\n"
     ]
    }
   ],
   "source": [
    "# NO es necesario volver a instanciar el modelo, ya sabemos que funciona y está bien entrenado\n",
    "\n",
    "# realizamos las predicciones\n",
    "\n",
    "predictions   = bbc.predict(df_06)\n",
    "\n",
    "print (predictions)"
   ]
  },
  {
   "cell_type": "code",
   "execution_count": 32,
   "metadata": {},
   "outputs": [
    {
     "data": {
      "text/html": [
       "<div>\n",
       "<style scoped>\n",
       "    .dataframe tbody tr th:only-of-type {\n",
       "        vertical-align: middle;\n",
       "    }\n",
       "\n",
       "    .dataframe tbody tr th {\n",
       "        vertical-align: top;\n",
       "    }\n",
       "\n",
       "    .dataframe thead th {\n",
       "        text-align: right;\n",
       "    }\n",
       "</style>\n",
       "<table border=\"1\" class=\"dataframe\">\n",
       "  <thead>\n",
       "    <tr style=\"text-align: right;\">\n",
       "      <th></th>\n",
       "      <th>0</th>\n",
       "    </tr>\n",
       "  </thead>\n",
       "  <tbody>\n",
       "    <tr>\n",
       "      <th>0</th>\n",
       "      <td>functional</td>\n",
       "    </tr>\n",
       "    <tr>\n",
       "      <th>1</th>\n",
       "      <td>functional needs repair</td>\n",
       "    </tr>\n",
       "    <tr>\n",
       "      <th>2</th>\n",
       "      <td>functional</td>\n",
       "    </tr>\n",
       "    <tr>\n",
       "      <th>3</th>\n",
       "      <td>non functional</td>\n",
       "    </tr>\n",
       "    <tr>\n",
       "      <th>4</th>\n",
       "      <td>functional</td>\n",
       "    </tr>\n",
       "  </tbody>\n",
       "</table>\n",
       "</div>"
      ],
      "text/plain": [
       "                         0\n",
       "0               functional\n",
       "1  functional needs repair\n",
       "2               functional\n",
       "3           non functional\n",
       "4               functional"
      ]
     },
     "execution_count": 32,
     "metadata": {},
     "output_type": "execute_result"
    }
   ],
   "source": [
    "preds = pd.DataFrame(predictions)\n",
    "preds.head()"
   ]
  },
  {
   "cell_type": "code",
   "execution_count": 33,
   "metadata": {},
   "outputs": [
    {
     "data": {
      "text/plain": [
       "((14850, 17), (14850, 1))"
      ]
     },
     "execution_count": 33,
     "metadata": {},
     "output_type": "execute_result"
    }
   ],
   "source": [
    "df_06.shape, preds.shape"
   ]
  },
  {
   "cell_type": "code",
   "execution_count": 34,
   "metadata": {},
   "outputs": [],
   "source": [
    "predict = pd.concat(( df_05['id'], preds ), axis=1)"
   ]
  },
  {
   "cell_type": "code",
   "execution_count": 35,
   "metadata": {},
   "outputs": [
    {
     "data": {
      "text/html": [
       "<div>\n",
       "<style scoped>\n",
       "    .dataframe tbody tr th:only-of-type {\n",
       "        vertical-align: middle;\n",
       "    }\n",
       "\n",
       "    .dataframe tbody tr th {\n",
       "        vertical-align: top;\n",
       "    }\n",
       "\n",
       "    .dataframe thead th {\n",
       "        text-align: right;\n",
       "    }\n",
       "</style>\n",
       "<table border=\"1\" class=\"dataframe\">\n",
       "  <thead>\n",
       "    <tr style=\"text-align: right;\">\n",
       "      <th></th>\n",
       "      <th>id</th>\n",
       "      <th>status_group</th>\n",
       "    </tr>\n",
       "  </thead>\n",
       "  <tbody>\n",
       "    <tr>\n",
       "      <th>0</th>\n",
       "      <td>50785</td>\n",
       "      <td>functional</td>\n",
       "    </tr>\n",
       "    <tr>\n",
       "      <th>1</th>\n",
       "      <td>51630</td>\n",
       "      <td>functional needs repair</td>\n",
       "    </tr>\n",
       "    <tr>\n",
       "      <th>2</th>\n",
       "      <td>17168</td>\n",
       "      <td>functional</td>\n",
       "    </tr>\n",
       "    <tr>\n",
       "      <th>3</th>\n",
       "      <td>45559</td>\n",
       "      <td>non functional</td>\n",
       "    </tr>\n",
       "    <tr>\n",
       "      <th>4</th>\n",
       "      <td>49871</td>\n",
       "      <td>functional</td>\n",
       "    </tr>\n",
       "  </tbody>\n",
       "</table>\n",
       "</div>"
      ],
      "text/plain": [
       "      id             status_group\n",
       "0  50785               functional\n",
       "1  51630  functional needs repair\n",
       "2  17168               functional\n",
       "3  45559           non functional\n",
       "4  49871               functional"
      ]
     },
     "execution_count": 35,
     "metadata": {},
     "output_type": "execute_result"
    }
   ],
   "source": [
    "predict.columns=['id', 'status_group']\n",
    "predict['status_group'].unique()\n",
    "\n",
    "predict.head()"
   ]
  },
  {
   "cell_type": "code",
   "execution_count": 36,
   "metadata": {},
   "outputs": [],
   "source": [
    "predict.to_csv('Submission.csv', index=False) # Nombre requerido"
   ]
  }
 ],
 "metadata": {
  "kernelspec": {
   "display_name": "Python 3",
   "language": "python",
   "name": "python3"
  },
  "language_info": {
   "codemirror_mode": {
    "name": "ipython",
    "version": 3
   },
   "file_extension": ".py",
   "mimetype": "text/x-python",
   "name": "python",
   "nbconvert_exporter": "python",
   "pygments_lexer": "ipython3",
   "version": "3.7.3"
  }
 },
 "nbformat": 4,
 "nbformat_minor": 2
}
