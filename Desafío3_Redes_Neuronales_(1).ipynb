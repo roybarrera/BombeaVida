{
  "nbformat": 4,
  "nbformat_minor": 0,
  "metadata": {
    "kernelspec": {
      "display_name": "Python 3",
      "language": "python",
      "name": "python3"
    },
    "language_info": {
      "codemirror_mode": {
        "name": "ipython",
        "version": 3
      },
      "file_extension": ".py",
      "mimetype": "text/x-python",
      "name": "python",
      "nbconvert_exporter": "python",
      "pygments_lexer": "ipython3",
      "version": "3.7.3"
    },
    "colab": {
      "name": "Desafío3_Redes_Neuronales (1).ipynb",
      "provenance": [],
      "collapsed_sections": [],
      "include_colab_link": true
    }
  },
  "cells": [
    {
      "cell_type": "markdown",
      "metadata": {
        "id": "view-in-github",
        "colab_type": "text"
      },
      "source": [
        "<a href=\"https://colab.research.google.com/github/roybarrera/BombeaVida/blob/master/Desaf%C3%ADo3_Redes_Neuronales_(1).ipynb\" target=\"_parent\"><img src=\"https://colab.research.google.com/assets/colab-badge.svg\" alt=\"Open In Colab\"/></a>"
      ]
    },
    {
      "cell_type": "markdown",
      "metadata": {
        "id": "_7UlCY0bfqvO",
        "colab_type": "text"
      },
      "source": [
        "# Machine Learning Avanazado MDS19 UDD\n",
        "\n",
        "\n",
        "## Desafío 3: Redes Neuronales.\n",
        "\n",
        "\n",
        "\n",
        "\n",
        "\n",
        "\n",
        "#### Profesor     : José García.\n",
        "#### Alumnos      : Roy Barrera, José Pérez.\n"
      ]
    },
    {
      "cell_type": "markdown",
      "metadata": {
        "id": "UnobEIc2fqvP",
        "colab_type": "text"
      },
      "source": [
        "### Resumen\n",
        "\n",
        "Para responder al desafío 3 de este curso, que dice relación con las Redes Neuronales, hemos decidido implementar modelos predictivos basados en Redes Neuronales, para complementar un trabajo previo realizado en el curso de \"Taller de proyecto aplicado\" de este mismo Magister.\n",
        "Basicamente el trabajo realizado previamente buscaba predecir el estado de funcionamiento de Bombas de agua en Tanzania. A los modelos predictivos implementados, se agregan ahora modelos predictivos basados en Redes Neuronales, usando para ello en un caso Keras y en el otro caso sklearn.\n",
        "\n",
        "\n",
        "Dicho lo anterior, se aborda este desafío 3.\n",
        "\n",
        "El objetivo perseguido es mediante modelos predictivos, conocer el estado funcional de Bombas de agua en Tanzania. \n",
        "\n",
        "Son 3 los estados que puede tener una Bomba de agua:\n",
        "\n",
        "* Functional: La Bomba de agua se encuentra operativa.\n",
        "\n",
        "* Functional needs repair: La Bomba de agua esta opertaiva, pero necesita repaciones.\n",
        "\n",
        "* Non functional: La Bomba de agua no esta operativa.\n",
        "\n",
        "Para ello se cuenta con un dataset de 59400 muestras y 41 variables(incluyendo la variable objetivo)\n",
        "\n",
        "\n",
        "El desarrollo de este Jupyter-Notebook consta de 3 puntos:\n",
        "\n",
        "1) __Exploración y manipulación del DataSet__\n",
        "\n",
        "2) __Modelamiento__\n",
        "\n",
        "3) __Conclusión__\n"
      ]
    },
    {
      "cell_type": "markdown",
      "metadata": {
        "id": "xLI0bsJnfqvQ",
        "colab_type": "text"
      },
      "source": [
        "# <a> ÍNDICE</a>\n",
        "\n",
        "- <a href='#1'>1. Exploración y manipulación del DataSet</a>\n",
        "- <a href='#2'>2. Modelamiento</a>\n",
        "    - <a href='#2.1'>2.1. Regresión Logística</a>\n",
        "    - <a href='#2.2'>2.2. Regresión Logística usando SMOTE</a>\n",
        "    - <a href='#2.3'>2.3. LightGBMClassifier</a>\n",
        "    - <a href='#2.4'>2.4. XGBClassifier</a>\n",
        "    - <a href='#2.5'>2.5. BalancedBaggingClassifier</a>\n",
        "    - <a href='#2.6'>2.6. Red Neuronal usando Keras</a>\n",
        "    - <a href='#2.7'>2.7. Red Neuronal MLPClassifier de sklearn</a>\n",
        "- <a href='#3'>3. Rendimiento de los modelos</a>\n",
        "    - <a href='#3.1'>3.1. Comparación de métricas</a>\n",
        "    - <a href='#3.2'>3.2. Matrices de confusión de los modelos</a>\n",
        "- <a href='#4'>4. Conclusión</a>    "
      ]
    },
    {
      "cell_type": "markdown",
      "metadata": {
        "id": "ElfV98CSfqvR",
        "colab_type": "text"
      },
      "source": [
        "# <a id='1'>1. Exploración y manipulación del DataSet</a>\n",
        "En principio este trabajo se desarrolló sobre Jupyter-Notebook, y al incorporar los modelos predictivos usando Redes Neuronales, debido al necesidad de más recurso de memoria y procesamiento, es que retomamos su desarrollo en la plataforma Google-Colab."
      ]
    },
    {
      "cell_type": "code",
      "metadata": {
        "id": "821NKCXQhTpJ",
        "colab_type": "code",
        "outputId": "ccb2de60-1ce5-40fb-90d5-77ce2c561aef",
        "colab": {
          "base_uri": "https://localhost:8080/",
          "height": 122
        }
      },
      "source": [
        "# Dado que se esta trabajando con Google Colab, lo primero que hacemos  es\n",
        "# montar Google-Drive, en donde está el DataSet a ser procesado.\n",
        "from google.colab import drive\n",
        "drive.mount('/content/drive')"
      ],
      "execution_count": 1,
      "outputs": [
        {
          "output_type": "stream",
          "text": [
            "Go to this URL in a browser: https://accounts.google.com/o/oauth2/auth?client_id=947318989803-6bn6qk8qdgf4n4g3pfee6491hc0brc4i.apps.googleusercontent.com&redirect_uri=urn%3aietf%3awg%3aoauth%3a2.0%3aoob&response_type=code&scope=email%20https%3a%2f%2fwww.googleapis.com%2fauth%2fdocs.test%20https%3a%2f%2fwww.googleapis.com%2fauth%2fdrive%20https%3a%2f%2fwww.googleapis.com%2fauth%2fdrive.photos.readonly%20https%3a%2f%2fwww.googleapis.com%2fauth%2fpeopleapi.readonly\n",
            "\n",
            "Enter your authorization code:\n",
            "··········\n",
            "Mounted at /content/drive\n"
          ],
          "name": "stdout"
        }
      ]
    },
    {
      "cell_type": "code",
      "metadata": {
        "id": "CSS6S8ahfqvS",
        "colab_type": "code",
        "colab": {}
      },
      "source": [
        "# Se importa la libreria pandas para la lectura del dataset.\n",
        "import pandas as pd"
      ],
      "execution_count": 0,
      "outputs": []
    },
    {
      "cell_type": "code",
      "metadata": {
        "id": "tH5kzeppfqvX",
        "colab_type": "code",
        "outputId": "3472c647-f8d6-4c86-ab44-aee05b3ce217",
        "colab": {
          "base_uri": "https://localhost:8080/",
          "height": 1000
        }
      },
      "source": [
        "# Se leen los dataset a ser procesados.\n",
        "\n",
        "# Se importa la libreria os\n",
        "import os\n",
        "# path es la ruta donde estan los dataset\n",
        "path = '/content/drive/My Drive/Colab Notebooks/03_Advanced_Machine_Learning/'\n",
        "\n",
        "# El Dataset 03_dataset_training.csv con el universo de variables recolectadas\n",
        "# (no considera la variable objetivo)\n",
        "df_01=pd.read_csv(os.path.join(path, '03_dataset_training.csv'), sep=',')\n",
        "\n",
        "# El Dataset 04_salidas_del_training.csv contiene la variable objetivo\n",
        "df_02=pd.read_csv(os.path.join(path, '04_salidas_del_training.csv'), sep=',')\n",
        "\n",
        "# Se define la función ve_df(), para mirar un dataframe.\n",
        "def ve_df(df):\n",
        "    print (\"# Muestras       : {:>7}\".format(df.shape[0]))\n",
        "    print (\"# Variables      : {:>7}\".format(df.shape[1]), \"\\n\")\n",
        "    print (\"Variables        : \\n\" ,df.columns.tolist())\n",
        "    print (\"\\n# Muestras  con  nulos    : {:>6}\".format(df.isnull().sum().values.sum()))\n",
        "    print (\"\\nValores únicos x variable :  \")\n",
        "    print (df.nunique())\n",
        "\n",
        "# Se miran ambos dataset leídos.\n",
        "ve_df(df_01)\n",
        "ve_df(df_02)\n"
      ],
      "execution_count": 3,
      "outputs": [
        {
          "output_type": "stream",
          "text": [
            "# Muestras       :   59400\n",
            "# Variables      :      40 \n",
            "\n",
            "Variables        : \n",
            " ['id', 'amount_tsh', 'date_recorded', 'funder', 'gps_height', 'installer', 'longitude', 'latitude', 'wpt_name', 'num_private', 'basin', 'subvillage', 'region', 'region_code', 'district_code', 'lga', 'ward', 'population', 'public_meeting', 'recorded_by', 'scheme_management', 'scheme_name', 'permit', 'construction_year', 'extraction_type', 'extraction_type_group', 'extraction_type_class', 'management', 'management_group', 'payment', 'payment_type', 'water_quality', 'quality_group', 'quantity', 'quantity_group', 'source', 'source_type', 'source_class', 'waterpoint_type', 'waterpoint_type_group']\n",
            "\n",
            "# Muestras  con  nulos    :  46094\n",
            "\n",
            "Valores únicos x variable :  \n",
            "id                       59400\n",
            "amount_tsh                  98\n",
            "date_recorded              356\n",
            "funder                    1897\n",
            "gps_height                2428\n",
            "installer                 2145\n",
            "longitude                57516\n",
            "latitude                 57517\n",
            "wpt_name                 37400\n",
            "num_private                 65\n",
            "basin                        9\n",
            "subvillage               19287\n",
            "region                      21\n",
            "region_code                 27\n",
            "district_code               20\n",
            "lga                        125\n",
            "ward                      2092\n",
            "population                1049\n",
            "public_meeting               2\n",
            "recorded_by                  1\n",
            "scheme_management           12\n",
            "scheme_name               2696\n",
            "permit                       2\n",
            "construction_year           55\n",
            "extraction_type             18\n",
            "extraction_type_group       13\n",
            "extraction_type_class        7\n",
            "management                  12\n",
            "management_group             5\n",
            "payment                      7\n",
            "payment_type                 7\n",
            "water_quality                8\n",
            "quality_group                6\n",
            "quantity                     5\n",
            "quantity_group               5\n",
            "source                      10\n",
            "source_type                  7\n",
            "source_class                 3\n",
            "waterpoint_type              7\n",
            "waterpoint_type_group        6\n",
            "dtype: int64\n",
            "# Muestras       :   59400\n",
            "# Variables      :       2 \n",
            "\n",
            "Variables        : \n",
            " ['id', 'status_group']\n",
            "\n",
            "# Muestras  con  nulos    :      0\n",
            "\n",
            "Valores únicos x variable :  \n",
            "id              59400\n",
            "status_group        3\n",
            "dtype: int64\n"
          ],
          "name": "stdout"
        }
      ]
    },
    {
      "cell_type": "code",
      "metadata": {
        "id": "3-R1ZsLjfqvb",
        "colab_type": "code",
        "outputId": "ccab06d8-f4a2-488b-8fc7-1e952a439239",
        "colab": {
          "base_uri": "https://localhost:8080/",
          "height": 34
        }
      },
      "source": [
        "# Se identifican todas las variables con muestras que contengan valores nulos.\n",
        "def var_null(df):\n",
        "    lvar_null = [i for i in df.columns if df[i].isnull().sum() > 0]\n",
        "    return lvar_null\n",
        "\n",
        "# Se reemplazan los valores nulos\n",
        "def reemplaza_null(df, lvar, valor):\n",
        "    for var in lvar:\n",
        "        df[var].fillna(valor, inplace = True)\n",
        "\n",
        "print(var_null(df_01))\n",
        "reemplaza_null(df_01, var_null(df_01), 'No_informado')\n"
      ],
      "execution_count": 4,
      "outputs": [
        {
          "output_type": "stream",
          "text": [
            "['funder', 'installer', 'subvillage', 'public_meeting', 'scheme_management', 'scheme_name', 'permit']\n"
          ],
          "name": "stdout"
        }
      ]
    },
    {
      "cell_type": "code",
      "metadata": {
        "id": "BrC47JzJfqvf",
        "colab_type": "code",
        "outputId": "c5ea3c3b-b75c-4ace-e10f-a9bd3d975256",
        "colab": {
          "base_uri": "https://localhost:8080/",
          "height": 374
        }
      },
      "source": [
        "# Se define la función obj_2_cat(), que convierte las variables tipo objeto \n",
        "# de un dataframe, en categóricas.\n",
        "def obj_2_cat(df,cat_codes=True):\n",
        "    # Se identifican las variables tipo object\n",
        "    l_v_obj = []\n",
        "    l_v_obj = list(df.select_dtypes(['O']).columns)\n",
        "\n",
        "    if len(l_v_obj) > 0:\n",
        "        # Conversión de variables tipo object a tipo category\n",
        "        df[l_v_obj] = df[l_v_obj].astype(\"category\")\n",
        "\n",
        "        # Se reemplazan los textos de las variables categóricas, por su valor de categoría.\n",
        "        if cat_codes == True:\n",
        "            for var in l_v_obj:\n",
        "                df[var]  = df[var].cat.codes\n",
        "\n",
        "obj_2_cat(df_01)\n",
        "obj_2_cat(df_02,cat_codes=False)\n",
        "print(df_01.describe())\n",
        "print(df_02.info())"
      ],
      "execution_count": 5,
      "outputs": [
        {
          "output_type": "stream",
          "text": [
            "                 id     amount_tsh  ...  waterpoint_type  waterpoint_type_group\n",
            "count  59400.000000   59400.000000  ...     59400.000000           59400.000000\n",
            "mean   37115.131768     317.650385  ...         2.574091               2.056212\n",
            "std    21453.128371    2997.574558  ...         1.781438               1.378937\n",
            "min        0.000000       0.000000  ...         0.000000               0.000000\n",
            "25%    18519.750000       0.000000  ...         1.000000               1.000000\n",
            "50%    37061.500000       0.000000  ...         2.000000               1.000000\n",
            "75%    55656.500000      20.000000  ...         4.000000               3.000000\n",
            "max    74247.000000  350000.000000  ...         6.000000               5.000000\n",
            "\n",
            "[8 rows x 40 columns]\n",
            "<class 'pandas.core.frame.DataFrame'>\n",
            "RangeIndex: 59400 entries, 0 to 59399\n",
            "Data columns (total 2 columns):\n",
            " #   Column        Non-Null Count  Dtype   \n",
            "---  ------        --------------  -----   \n",
            " 0   id            59400 non-null  int64   \n",
            " 1   status_group  59400 non-null  category\n",
            "dtypes: category(1), int64(1)\n",
            "memory usage: 522.3 KB\n",
            "None\n"
          ],
          "name": "stdout"
        }
      ]
    },
    {
      "cell_type": "code",
      "metadata": {
        "id": "An07Vfmvfqvj",
        "colab_type": "code",
        "outputId": "29cc21d4-f795-4020-acd9-83993369ef5d",
        "colab": {
          "base_uri": "https://localhost:8080/",
          "height": 700
        }
      },
      "source": [
        "# Se eligen 16 variables predictoras.\n",
        "lvar_pred = ['amount_tsh','funder','region_code','district_code',\n",
        "             'public_meeting','scheme_management','construction_year',\n",
        "             'extraction_type','extraction_type_group','extraction_type_class',\n",
        "             'management_group','water_quality','quality_group','quantity',\n",
        "             'source_class','waterpoint_type']\n",
        "\n",
        "# Se identifica la variable objetivo.\n",
        "var_objet = ['status_group']\n",
        "\n",
        "# El dataset df_03 contiene las 16 variables predictoras elegidas.\n",
        "df_03 = df_01[lvar_pred]\n",
        "# El dataset df_04 contiene la variable objetivo.\n",
        "df_04 = df_02[var_objet]\n",
        "\n",
        "# Son mirados ambos dataset\n",
        "ve_df(df_03)\n",
        "print('\\n')\n",
        "ve_df(df_04)\n"
      ],
      "execution_count": 6,
      "outputs": [
        {
          "output_type": "stream",
          "text": [
            "# Muestras       :   59400\n",
            "# Variables      :      16 \n",
            "\n",
            "Variables        : \n",
            " ['amount_tsh', 'funder', 'region_code', 'district_code', 'public_meeting', 'scheme_management', 'construction_year', 'extraction_type', 'extraction_type_group', 'extraction_type_class', 'management_group', 'water_quality', 'quality_group', 'quantity', 'source_class', 'waterpoint_type']\n",
            "\n",
            "# Muestras  con  nulos    :      0\n",
            "\n",
            "Valores únicos x variable :  \n",
            "amount_tsh                 98\n",
            "funder                   1898\n",
            "region_code                27\n",
            "district_code              20\n",
            "public_meeting              3\n",
            "scheme_management          13\n",
            "construction_year          55\n",
            "extraction_type            18\n",
            "extraction_type_group      13\n",
            "extraction_type_class       7\n",
            "management_group            5\n",
            "water_quality               8\n",
            "quality_group               6\n",
            "quantity                    5\n",
            "source_class                3\n",
            "waterpoint_type             7\n",
            "dtype: int64\n",
            "\n",
            "\n",
            "# Muestras       :   59400\n",
            "# Variables      :       1 \n",
            "\n",
            "Variables        : \n",
            " ['status_group']\n",
            "\n",
            "# Muestras  con  nulos    :      0\n",
            "\n",
            "Valores únicos x variable :  \n",
            "status_group    3\n",
            "dtype: int64\n"
          ],
          "name": "stdout"
        }
      ]
    },
    {
      "cell_type": "code",
      "metadata": {
        "id": "afOdZIU_wNzJ",
        "colab_type": "code",
        "outputId": "81cddf5d-00a8-4ce0-a121-d8b6a9187918",
        "colab": {
          "base_uri": "https://localhost:8080/",
          "height": 289
        }
      },
      "source": [
        "# Se miran los dataset\n",
        "print(df_03.describe())\n",
        "print(df_04.describe())"
      ],
      "execution_count": 7,
      "outputs": [
        {
          "output_type": "stream",
          "text": [
            "          amount_tsh        funder  ...  source_class  waterpoint_type\n",
            "count   59400.000000  59400.000000  ...  59400.000000     59400.000000\n",
            "mean      317.650385    853.604983  ...      0.233737         2.574091\n",
            "std      2997.574558    561.879176  ...      0.434129         1.781438\n",
            "min         0.000000      0.000000  ...      0.000000         0.000000\n",
            "25%         0.000000    446.000000  ...      0.000000         1.000000\n",
            "50%         0.000000    657.500000  ...      0.000000         2.000000\n",
            "75%        20.000000   1319.000000  ...      0.000000         4.000000\n",
            "max    350000.000000   1897.000000  ...      2.000000         6.000000\n",
            "\n",
            "[8 rows x 16 columns]\n",
            "       status_group\n",
            "count         59400\n",
            "unique            3\n",
            "top      functional\n",
            "freq          32259\n"
          ],
          "name": "stdout"
        }
      ]
    },
    {
      "cell_type": "code",
      "metadata": {
        "id": "rpqP95l_fqvn",
        "colab_type": "code",
        "outputId": "1de31ea6-fd22-4f6e-c3ad-58dd5ce07b58",
        "colab": {
          "base_uri": "https://localhost:8080/",
          "height": 791
        }
      },
      "source": [
        "# Matriz de correlación del dataset df_03 \n",
        "\n",
        "# Se importan librerías a ser usadas.\n",
        "import numpy as np \n",
        "\n",
        "import matplotlib.pyplot as plt\n",
        "from PIL import  Image\n",
        "%matplotlib inline\n",
        "\n",
        "import itertools\n",
        "\n",
        "import seaborn as sns\n",
        "import plotly.offline as py\n",
        "#py.init_notebook_mode(connected=True)\n",
        "import plotly.graph_objs as go\n",
        "import plotly.tools as tls\n",
        "import plotly.figure_factory as ff\n",
        "\n",
        "import warnings\n",
        "warnings.filterwarnings(\"ignore\")\n",
        "\n",
        "correlation = df_03.corr()\n",
        "#tick labels\n",
        "matrix_cols = correlation.columns.tolist()\n",
        "#convert to array\n",
        "corr_array  = np.array(correlation)\n",
        "\n",
        "#Plotting\n",
        "trace = go.Heatmap(z = corr_array,\n",
        "                   x = matrix_cols,\n",
        "                   y = matrix_cols,\n",
        "                   colorscale = \"Viridis\",\n",
        "                   colorbar   = dict(title = \"Coficiente Pearson de Correlacion\",\n",
        "                                     titleside = \"right\"\n",
        "                                    ) ,\n",
        "                  )\n",
        "\n",
        "layout = go.Layout(dict(title = \"Matriz de correlación de variables\",\n",
        "                        autosize = False,\n",
        "                        height  = 720,\n",
        "                        width   = 800,\n",
        "                        margin  = dict(r = 0 ,l = 210,\n",
        "                                       t = 25,b = 210,\n",
        "                                      ),\n",
        "                        yaxis   = dict(tickfont = dict(size = 9)),\n",
        "                        xaxis   = dict(tickfont = dict(size = 9))\n",
        "                       )\n",
        "                  )\n",
        "\n",
        "data = [trace]\n",
        "fig = go.Figure(data=data,layout=layout)\n",
        "py.iplot(fig)\n",
        "#fig.show()"
      ],
      "execution_count": 8,
      "outputs": [
        {
          "output_type": "stream",
          "text": [
            "/usr/local/lib/python3.6/dist-packages/statsmodels/tools/_testing.py:19: FutureWarning: pandas.util.testing is deprecated. Use the functions in the public API at pandas.testing instead.\n",
            "  import pandas.util.testing as tm\n"
          ],
          "name": "stderr"
        },
        {
          "output_type": "display_data",
          "data": {
            "text/html": [
              "<html>\n",
              "<head><meta charset=\"utf-8\" /></head>\n",
              "<body>\n",
              "    <div>\n",
              "            <script src=\"https://cdnjs.cloudflare.com/ajax/libs/mathjax/2.7.5/MathJax.js?config=TeX-AMS-MML_SVG\"></script><script type=\"text/javascript\">if (window.MathJax) {MathJax.Hub.Config({SVG: {font: \"STIX-Web\"}});}</script>\n",
              "                <script type=\"text/javascript\">window.PlotlyConfig = {MathJaxConfig: 'local'};</script>\n",
              "        <script src=\"https://cdn.plot.ly/plotly-latest.min.js\"></script>    \n",
              "            <div id=\"41b7988e-3349-4322-80e0-3c8ee91185d2\" class=\"plotly-graph-div\" style=\"height:720px; width:800px;\"></div>\n",
              "            <script type=\"text/javascript\">\n",
              "                \n",
              "                    window.PLOTLYENV=window.PLOTLYENV || {};\n",
              "                    \n",
              "                if (document.getElementById(\"41b7988e-3349-4322-80e0-3c8ee91185d2\")) {\n",
              "                    Plotly.newPlot(\n",
              "                        '41b7988e-3349-4322-80e0-3c8ee91185d2',\n",
              "                        [{\"colorbar\": {\"title\": {\"side\": \"right\", \"text\": \"Coficiente Pearson de Correlacion\"}}, \"colorscale\": [[0.0, \"#440154\"], [0.1111111111111111, \"#482878\"], [0.2222222222222222, \"#3e4989\"], [0.3333333333333333, \"#31688e\"], [0.4444444444444444, \"#26828e\"], [0.5555555555555556, \"#1f9e89\"], [0.6666666666666666, \"#35b779\"], [0.7777777777777778, \"#6ece58\"], [0.8888888888888888, \"#b5de2b\"], [1.0, \"#fde725\"]], \"type\": \"heatmap\", \"x\": [\"amount_tsh\", \"funder\", \"region_code\", \"district_code\", \"public_meeting\", \"scheme_management\", \"construction_year\", \"extraction_type\", \"extraction_type_group\", \"extraction_type_class\", \"management_group\", \"water_quality\", \"quality_group\", \"quantity\", \"source_class\", \"waterpoint_type\"], \"y\": [\"amount_tsh\", \"funder\", \"region_code\", \"district_code\", \"public_meeting\", \"scheme_management\", \"construction_year\", \"extraction_type\", \"extraction_type_group\", \"extraction_type_class\", \"management_group\", \"water_quality\", \"quality_group\", \"quantity\", \"source_class\", \"waterpoint_type\"], \"z\": [[1.0, 0.0037388788673059165, -0.026812994577949167, -0.023599405413481243, -0.0003411618731167381, 0.010560297283560073, 0.06791521104168805, -0.025091280000574225, -0.01773819526868787, -0.013212971004728536, -0.0018363819178060636, 0.012624354024780847, -0.023994921088926327, -0.014526328481436215, 0.03492239000514304, -0.04382071521630337], [0.0037388788673059165, 1.0, -0.01660523605798351, -0.018539274820028363, -0.046631286818393916, 0.00732305425681203, -0.09554234867738783, -0.021744940077501766, -0.009485323490464869, 0.025476983873472914, -0.027981347921553292, -0.03564876113285878, 0.023494424243219732, 0.04170937503563919, 0.040512569040986074, 0.05266978929569757], [-0.026812994577949167, -0.01660523605798351, 1.0, 0.6786023067888902, 0.01875732479887966, -0.09921156364578956, 0.031724056815404494, 0.10147182519288127, 0.0976874785707377, 0.1494796715451134, 0.033028310497819645, -0.06350818128166245, 0.08458312583164848, -0.06681182130014919, -0.07622676784994735, 0.18462159130663436], [-0.023599405413481243, -0.018539274820028363, 0.6786023067888902, 1.0, -0.004100615198999975, -0.01846631097414241, 0.048315185322544855, 0.02674560119568145, 0.018556527011935272, 0.06714291997048197, 0.01561653878820749, -0.06122277414794255, 0.03793877983138447, -0.02780344273332048, -0.047690866390614386, 0.08120046625131945], [-0.0003411618731167381, -0.046631286818393916, 0.01875732479887966, -0.004100615198999975, 1.0, -0.01559739006352188, 0.03266784939094599, 0.017615925761051997, -0.0021299548465370296, -0.006063339753761201, 0.08674553648026725, 0.03207865111290963, 0.07469036519745152, -0.028307263136440358, -0.07190390820805277, -0.023052629198992543], [0.010560297283560073, 0.00732305425681203, -0.09921156364578956, -0.01846631097414241, -0.01559739006352188, 1.0, -0.02000545799279722, -0.10299224809818441, -0.11414004100277032, -0.10538655802979287, 0.31014900370770687, 0.06802962529132267, -0.0869967780263637, -0.129732936632669, 0.008024884690184577, -0.14269983304204378], [0.06791521104168805, -0.09554234867738783, 0.031724056815404494, 0.048315185322544855, 0.03266784939094599, -0.02000545799279722, 1.0, -0.06143383163669114, -0.056985637512989386, 0.010065653376343964, -0.07437987831777954, 0.05088391861311186, -0.008011710283821827, -0.008483965862860293, 0.09642742293636171, -0.19450563869473006], [-0.025091280000574225, -0.021744940077501766, 0.10147182519288127, 0.02674560119568145, 0.017615925761051997, -0.10299224809818441, -0.06143383163669114, 1.0, 0.9495235109875688, 0.6950515295523549, -0.037539704348146345, -0.10922509549321066, 0.15802282552864833, 0.0010823152962976116, -0.22979484604314113, 0.3447847842999491], [-0.01773819526868787, -0.009485323490464869, 0.0976874785707377, 0.018556527011935272, -0.0021299548465370296, -0.11414004100277032, -0.056985637512989386, 0.9495235109875688, 1.0, 0.7843003787437748, -0.07353688175371997, -0.11020250838885498, 0.15743893084359953, -0.011712261841561884, -0.1751479394732306, 0.32020244222427807], [-0.013212971004728536, 0.025476983873472914, 0.1494796715451134, 0.06714291997048197, -0.006063339753761201, -0.10538655802979287, 0.010065653376343964, 0.6950515295523549, 0.7843003787437748, 1.0, -0.1528069729027154, -0.11543259883873112, 0.19641039872218805, -0.04720837495352112, -0.09000893669849314, 0.2065426333767932], [-0.0018363819178060636, -0.027981347921553292, 0.033028310497819645, 0.01561653878820749, 0.08674553648026725, 0.31014900370770687, -0.07437987831777954, -0.037539704348146345, -0.07353688175371997, -0.1528069729027154, 1.0, -5.819797421095251e-05, -0.015640174657528292, -0.06383984659811325, -0.10370185206003224, 0.08800958123952594], [0.012624354024780847, -0.03564876113285878, -0.06350818128166245, -0.06122277414794255, 0.03207865111290963, 0.06802962529132267, 0.05088391861311186, -0.10922509549321066, -0.11020250838885498, -0.11543259883873112, -5.819797421095251e-05, 1.0, -0.1453331963454709, -0.031868563363299456, 0.08383375340315007, -0.16209619470824743], [-0.023994921088926327, 0.023494424243219732, 0.08458312583164848, 0.03793877983138447, 0.07469036519745152, -0.0869967780263637, -0.008011710283821827, 0.15802282552864833, 0.15743893084359953, 0.19641039872218805, -0.015640174657528292, -0.1453331963454709, 1.0, 0.011645543540549952, -0.12560209528056215, 0.19988282151156728], [-0.014526328481436215, 0.04170937503563919, -0.06681182130014919, -0.02780344273332048, -0.028307263136440358, -0.129732936632669, -0.008483965862860293, 0.0010823152962976116, -0.011712261841561884, -0.04720837495352112, -0.06383984659811325, -0.031868563363299456, 0.011645543540549952, 1.0, 0.11730023869780327, 0.006435571912650307], [0.03492239000514304, 0.040512569040986074, -0.07622676784994735, -0.047690866390614386, -0.07190390820805277, 0.008024884690184577, 0.09642742293636171, -0.22979484604314113, -0.1751479394732306, -0.09000893669849314, -0.10370185206003224, 0.08383375340315007, -0.12560209528056215, 0.11730023869780327, 1.0, -0.3397147982270826], [-0.04382071521630337, 0.05266978929569757, 0.18462159130663436, 0.08120046625131945, -0.023052629198992543, -0.14269983304204378, -0.19450563869473006, 0.3447847842999491, 0.32020244222427807, 0.2065426333767932, 0.08800958123952594, -0.16209619470824743, 0.19988282151156728, 0.006435571912650307, -0.3397147982270826, 1.0]]}],\n",
              "                        {\"autosize\": false, \"height\": 720, \"margin\": {\"b\": 210, \"l\": 210, \"r\": 0, \"t\": 25}, \"template\": {\"data\": {\"bar\": [{\"error_x\": {\"color\": \"#2a3f5f\"}, \"error_y\": {\"color\": \"#2a3f5f\"}, \"marker\": {\"line\": {\"color\": \"#E5ECF6\", \"width\": 0.5}}, \"type\": \"bar\"}], \"barpolar\": [{\"marker\": {\"line\": {\"color\": \"#E5ECF6\", \"width\": 0.5}}, \"type\": \"barpolar\"}], \"carpet\": [{\"aaxis\": {\"endlinecolor\": \"#2a3f5f\", \"gridcolor\": \"white\", \"linecolor\": \"white\", \"minorgridcolor\": \"white\", \"startlinecolor\": \"#2a3f5f\"}, \"baxis\": {\"endlinecolor\": \"#2a3f5f\", \"gridcolor\": \"white\", \"linecolor\": \"white\", \"minorgridcolor\": \"white\", \"startlinecolor\": \"#2a3f5f\"}, \"type\": \"carpet\"}], \"choropleth\": [{\"colorbar\": {\"outlinewidth\": 0, \"ticks\": \"\"}, \"type\": \"choropleth\"}], \"contour\": [{\"colorbar\": {\"outlinewidth\": 0, \"ticks\": \"\"}, \"colorscale\": [[0.0, \"#0d0887\"], [0.1111111111111111, \"#46039f\"], [0.2222222222222222, \"#7201a8\"], [0.3333333333333333, \"#9c179e\"], [0.4444444444444444, \"#bd3786\"], [0.5555555555555556, \"#d8576b\"], [0.6666666666666666, \"#ed7953\"], [0.7777777777777778, \"#fb9f3a\"], [0.8888888888888888, \"#fdca26\"], [1.0, \"#f0f921\"]], \"type\": \"contour\"}], \"contourcarpet\": [{\"colorbar\": {\"outlinewidth\": 0, \"ticks\": \"\"}, \"type\": \"contourcarpet\"}], \"heatmap\": [{\"colorbar\": {\"outlinewidth\": 0, \"ticks\": \"\"}, \"colorscale\": [[0.0, \"#0d0887\"], [0.1111111111111111, \"#46039f\"], [0.2222222222222222, \"#7201a8\"], [0.3333333333333333, \"#9c179e\"], [0.4444444444444444, \"#bd3786\"], [0.5555555555555556, \"#d8576b\"], [0.6666666666666666, \"#ed7953\"], [0.7777777777777778, \"#fb9f3a\"], [0.8888888888888888, \"#fdca26\"], [1.0, \"#f0f921\"]], \"type\": \"heatmap\"}], \"heatmapgl\": [{\"colorbar\": {\"outlinewidth\": 0, \"ticks\": \"\"}, \"colorscale\": [[0.0, \"#0d0887\"], [0.1111111111111111, \"#46039f\"], [0.2222222222222222, \"#7201a8\"], [0.3333333333333333, \"#9c179e\"], [0.4444444444444444, \"#bd3786\"], [0.5555555555555556, \"#d8576b\"], [0.6666666666666666, \"#ed7953\"], [0.7777777777777778, \"#fb9f3a\"], [0.8888888888888888, \"#fdca26\"], [1.0, \"#f0f921\"]], \"type\": \"heatmapgl\"}], \"histogram\": [{\"marker\": {\"colorbar\": {\"outlinewidth\": 0, \"ticks\": \"\"}}, \"type\": \"histogram\"}], \"histogram2d\": [{\"colorbar\": {\"outlinewidth\": 0, \"ticks\": \"\"}, \"colorscale\": [[0.0, \"#0d0887\"], [0.1111111111111111, \"#46039f\"], [0.2222222222222222, \"#7201a8\"], [0.3333333333333333, \"#9c179e\"], [0.4444444444444444, \"#bd3786\"], [0.5555555555555556, \"#d8576b\"], [0.6666666666666666, \"#ed7953\"], [0.7777777777777778, \"#fb9f3a\"], [0.8888888888888888, \"#fdca26\"], [1.0, \"#f0f921\"]], \"type\": \"histogram2d\"}], \"histogram2dcontour\": [{\"colorbar\": {\"outlinewidth\": 0, \"ticks\": \"\"}, \"colorscale\": [[0.0, \"#0d0887\"], [0.1111111111111111, \"#46039f\"], [0.2222222222222222, \"#7201a8\"], [0.3333333333333333, \"#9c179e\"], [0.4444444444444444, \"#bd3786\"], [0.5555555555555556, \"#d8576b\"], [0.6666666666666666, \"#ed7953\"], [0.7777777777777778, \"#fb9f3a\"], [0.8888888888888888, \"#fdca26\"], [1.0, \"#f0f921\"]], \"type\": \"histogram2dcontour\"}], \"mesh3d\": [{\"colorbar\": {\"outlinewidth\": 0, \"ticks\": \"\"}, \"type\": \"mesh3d\"}], \"parcoords\": [{\"line\": {\"colorbar\": {\"outlinewidth\": 0, \"ticks\": \"\"}}, \"type\": \"parcoords\"}], \"pie\": [{\"automargin\": true, \"type\": \"pie\"}], \"scatter\": [{\"marker\": {\"colorbar\": {\"outlinewidth\": 0, \"ticks\": \"\"}}, \"type\": \"scatter\"}], \"scatter3d\": [{\"line\": {\"colorbar\": {\"outlinewidth\": 0, \"ticks\": \"\"}}, \"marker\": {\"colorbar\": {\"outlinewidth\": 0, \"ticks\": \"\"}}, \"type\": \"scatter3d\"}], \"scattercarpet\": [{\"marker\": {\"colorbar\": {\"outlinewidth\": 0, \"ticks\": \"\"}}, \"type\": \"scattercarpet\"}], \"scattergeo\": [{\"marker\": {\"colorbar\": {\"outlinewidth\": 0, \"ticks\": \"\"}}, \"type\": \"scattergeo\"}], \"scattergl\": [{\"marker\": {\"colorbar\": {\"outlinewidth\": 0, \"ticks\": \"\"}}, \"type\": \"scattergl\"}], \"scattermapbox\": [{\"marker\": {\"colorbar\": {\"outlinewidth\": 0, \"ticks\": \"\"}}, \"type\": \"scattermapbox\"}], \"scatterpolar\": [{\"marker\": {\"colorbar\": {\"outlinewidth\": 0, \"ticks\": \"\"}}, \"type\": \"scatterpolar\"}], \"scatterpolargl\": [{\"marker\": {\"colorbar\": {\"outlinewidth\": 0, \"ticks\": \"\"}}, \"type\": \"scatterpolargl\"}], \"scatterternary\": [{\"marker\": {\"colorbar\": {\"outlinewidth\": 0, \"ticks\": \"\"}}, \"type\": \"scatterternary\"}], \"surface\": [{\"colorbar\": {\"outlinewidth\": 0, \"ticks\": \"\"}, \"colorscale\": [[0.0, \"#0d0887\"], [0.1111111111111111, \"#46039f\"], [0.2222222222222222, \"#7201a8\"], [0.3333333333333333, \"#9c179e\"], [0.4444444444444444, \"#bd3786\"], [0.5555555555555556, \"#d8576b\"], [0.6666666666666666, \"#ed7953\"], [0.7777777777777778, \"#fb9f3a\"], [0.8888888888888888, \"#fdca26\"], [1.0, \"#f0f921\"]], \"type\": \"surface\"}], \"table\": [{\"cells\": {\"fill\": {\"color\": \"#EBF0F8\"}, \"line\": {\"color\": \"white\"}}, \"header\": {\"fill\": {\"color\": \"#C8D4E3\"}, \"line\": {\"color\": \"white\"}}, \"type\": \"table\"}]}, \"layout\": {\"annotationdefaults\": {\"arrowcolor\": \"#2a3f5f\", \"arrowhead\": 0, \"arrowwidth\": 1}, \"coloraxis\": {\"colorbar\": {\"outlinewidth\": 0, \"ticks\": \"\"}}, \"colorscale\": {\"diverging\": [[0, \"#8e0152\"], [0.1, \"#c51b7d\"], [0.2, \"#de77ae\"], [0.3, \"#f1b6da\"], [0.4, \"#fde0ef\"], [0.5, \"#f7f7f7\"], [0.6, \"#e6f5d0\"], [0.7, \"#b8e186\"], [0.8, \"#7fbc41\"], [0.9, \"#4d9221\"], [1, \"#276419\"]], \"sequential\": [[0.0, \"#0d0887\"], [0.1111111111111111, \"#46039f\"], [0.2222222222222222, \"#7201a8\"], [0.3333333333333333, \"#9c179e\"], [0.4444444444444444, \"#bd3786\"], [0.5555555555555556, \"#d8576b\"], [0.6666666666666666, \"#ed7953\"], [0.7777777777777778, \"#fb9f3a\"], [0.8888888888888888, \"#fdca26\"], [1.0, \"#f0f921\"]], \"sequentialminus\": [[0.0, \"#0d0887\"], [0.1111111111111111, \"#46039f\"], [0.2222222222222222, \"#7201a8\"], [0.3333333333333333, \"#9c179e\"], [0.4444444444444444, \"#bd3786\"], [0.5555555555555556, \"#d8576b\"], [0.6666666666666666, \"#ed7953\"], [0.7777777777777778, \"#fb9f3a\"], [0.8888888888888888, \"#fdca26\"], [1.0, \"#f0f921\"]]}, \"colorway\": [\"#636efa\", \"#EF553B\", \"#00cc96\", \"#ab63fa\", \"#FFA15A\", \"#19d3f3\", \"#FF6692\", \"#B6E880\", \"#FF97FF\", \"#FECB52\"], \"font\": {\"color\": \"#2a3f5f\"}, \"geo\": {\"bgcolor\": \"white\", \"lakecolor\": \"white\", \"landcolor\": \"#E5ECF6\", \"showlakes\": true, \"showland\": true, \"subunitcolor\": \"white\"}, \"hoverlabel\": {\"align\": \"left\"}, \"hovermode\": \"closest\", \"mapbox\": {\"style\": \"light\"}, \"paper_bgcolor\": \"white\", \"plot_bgcolor\": \"#E5ECF6\", \"polar\": {\"angularaxis\": {\"gridcolor\": \"white\", \"linecolor\": \"white\", \"ticks\": \"\"}, \"bgcolor\": \"#E5ECF6\", \"radialaxis\": {\"gridcolor\": \"white\", \"linecolor\": \"white\", \"ticks\": \"\"}}, \"scene\": {\"xaxis\": {\"backgroundcolor\": \"#E5ECF6\", \"gridcolor\": \"white\", \"gridwidth\": 2, \"linecolor\": \"white\", \"showbackground\": true, \"ticks\": \"\", \"zerolinecolor\": \"white\"}, \"yaxis\": {\"backgroundcolor\": \"#E5ECF6\", \"gridcolor\": \"white\", \"gridwidth\": 2, \"linecolor\": \"white\", \"showbackground\": true, \"ticks\": \"\", \"zerolinecolor\": \"white\"}, \"zaxis\": {\"backgroundcolor\": \"#E5ECF6\", \"gridcolor\": \"white\", \"gridwidth\": 2, \"linecolor\": \"white\", \"showbackground\": true, \"ticks\": \"\", \"zerolinecolor\": \"white\"}}, \"shapedefaults\": {\"line\": {\"color\": \"#2a3f5f\"}}, \"ternary\": {\"aaxis\": {\"gridcolor\": \"white\", \"linecolor\": \"white\", \"ticks\": \"\"}, \"baxis\": {\"gridcolor\": \"white\", \"linecolor\": \"white\", \"ticks\": \"\"}, \"bgcolor\": \"#E5ECF6\", \"caxis\": {\"gridcolor\": \"white\", \"linecolor\": \"white\", \"ticks\": \"\"}}, \"title\": {\"x\": 0.05}, \"xaxis\": {\"automargin\": true, \"gridcolor\": \"white\", \"linecolor\": \"white\", \"ticks\": \"\", \"title\": {\"standoff\": 15}, \"zerolinecolor\": \"white\", \"zerolinewidth\": 2}, \"yaxis\": {\"automargin\": true, \"gridcolor\": \"white\", \"linecolor\": \"white\", \"ticks\": \"\", \"title\": {\"standoff\": 15}, \"zerolinecolor\": \"white\", \"zerolinewidth\": 2}}}, \"title\": {\"text\": \"Matriz de correlaci\\u00f3n de variables\"}, \"width\": 800, \"xaxis\": {\"tickfont\": {\"size\": 9}}, \"yaxis\": {\"tickfont\": {\"size\": 9}}},\n",
              "                        {\"responsive\": true}\n",
              "                    ).then(function(){\n",
              "                            \n",
              "var gd = document.getElementById('41b7988e-3349-4322-80e0-3c8ee91185d2');\n",
              "var x = new MutationObserver(function (mutations, observer) {{\n",
              "        var display = window.getComputedStyle(gd).display;\n",
              "        if (!display || display === 'none') {{\n",
              "            console.log([gd, 'removed!']);\n",
              "            Plotly.purge(gd);\n",
              "            observer.disconnect();\n",
              "        }}\n",
              "}});\n",
              "\n",
              "// Listen for the removal of the full notebook cells\n",
              "var notebookContainer = gd.closest('#notebook-container');\n",
              "if (notebookContainer) {{\n",
              "    x.observe(notebookContainer, {childList: true});\n",
              "}}\n",
              "\n",
              "// Listen for the clearing of the current output cell\n",
              "var outputEl = gd.closest('.output');\n",
              "if (outputEl) {{\n",
              "    x.observe(outputEl, {childList: true});\n",
              "}}\n",
              "\n",
              "                        })\n",
              "                };\n",
              "                \n",
              "            </script>\n",
              "        </div>\n",
              "</body>\n",
              "</html>"
            ]
          },
          "metadata": {
            "tags": []
          }
        }
      ]
    },
    {
      "cell_type": "markdown",
      "metadata": {
        "id": "wXKCGxbJfqvr",
        "colab_type": "text"
      },
      "source": [
        "# <a id='2'>2. Modelamiento</a>"
      ]
    },
    {
      "cell_type": "markdown",
      "metadata": {
        "id": "wZnCDUw-fqvs",
        "colab_type": "text"
      },
      "source": [
        "## <a id='2.1'>2.1. Regresión Logística</a>"
      ]
    },
    {
      "cell_type": "code",
      "metadata": {
        "id": "zVNsUhISfqvs",
        "colab_type": "code",
        "outputId": "55520907-50d4-40db-c7ec-dfc969d7ee5f",
        "colab": {
          "base_uri": "https://localhost:8080/",
          "height": 323
        }
      },
      "source": [
        "# Modelamiento predicctivo del estado de las Bombas de agua, usando Regresión Logística.\n",
        "\n",
        "# Se importan las librerias requeridas.\n",
        "from sklearn.model_selection import train_test_split\n",
        "from sklearn.linear_model import LogisticRegression\n",
        "from sklearn.metrics import confusion_matrix,accuracy_score,classification_report\n",
        "\n",
        "# Se realiza la división de las muestras en entrenamiento y prueba.\n",
        "train_X,test_X,train_Y,test_Y = train_test_split(df_03,df_04,test_size = .25 ,random_state = 123)\n",
        "\n",
        "# Se instancia el modelo.\n",
        "logit  = LogisticRegression(C=1.0, class_weight='balanced', dual=False, fit_intercept=True,\n",
        "          intercept_scaling=1, max_iter=150, multi_class='auto', n_jobs=1,\n",
        "          penalty='l2', random_state=None, solver='liblinear', tol=0.0001,\n",
        "          verbose=0, warm_start=False)\n",
        "# Modelo\n",
        "logit.fit(train_X,train_Y)\n",
        "predictions   = logit.predict(test_X)\n",
        "probabilities = logit.predict_proba(test_X)\n",
        "    \n",
        "print (logit)\n",
        "print (\"\\n Classification report : \\n\",classification_report(test_Y,predictions))\n",
        "print (\"Accuracy   Score : \",accuracy_score(test_Y,predictions))\n"
      ],
      "execution_count": 9,
      "outputs": [
        {
          "output_type": "stream",
          "text": [
            "LogisticRegression(C=1.0, class_weight='balanced', dual=False,\n",
            "                   fit_intercept=True, intercept_scaling=1, l1_ratio=None,\n",
            "                   max_iter=150, multi_class='auto', n_jobs=1, penalty='l2',\n",
            "                   random_state=None, solver='liblinear', tol=0.0001, verbose=0,\n",
            "                   warm_start=False)\n",
            "\n",
            " Classification report : \n",
            "                          precision    recall  f1-score   support\n",
            "\n",
            "             functional       0.64      0.70      0.67      7963\n",
            "functional needs repair       0.18      0.13      0.15      1076\n",
            "         non functional       0.59      0.54      0.56      5811\n",
            "\n",
            "               accuracy                           0.60     14850\n",
            "              macro avg       0.47      0.46      0.46     14850\n",
            "           weighted avg       0.59      0.60      0.59     14850\n",
            "\n",
            "Accuracy   Score :  0.5974410774410774\n"
          ],
          "name": "stdout"
        }
      ]
    },
    {
      "cell_type": "markdown",
      "metadata": {
        "id": "S9s-16WGfqvw",
        "colab_type": "text"
      },
      "source": [
        "## <a id='2.2'>2.2. Regresión Logística usando SMOTE</a>"
      ]
    },
    {
      "cell_type": "code",
      "metadata": {
        "id": "YVdkRGYRfqvw",
        "colab_type": "code",
        "outputId": "60f65a5d-f383-4910-ae57-86023a7f0439",
        "colab": {
          "base_uri": "https://localhost:8080/",
          "height": 323
        }
      },
      "source": [
        "# Es importada libreria requerida.\n",
        "from imblearn.over_sampling import SMOTE\n",
        "\n",
        "# Separación de variables predictoras de variable objetivo.\n",
        "smote_X = df_03.copy()\n",
        "smote_Y = df_04.copy()\n",
        "\n",
        "\n",
        "# Split de datos de entrenamiento y de prueba\n",
        "smote_train_X,smote_test_X,smote_train_Y,smote_test_Y = train_test_split(smote_X,smote_Y,\n",
        "                                                                         test_size = .25 ,\n",
        "                                                                         random_state = 333)\n",
        "\n",
        "# Oversampling de la clase minoritaría usando SMOTE\n",
        "os = SMOTE(random_state = 333)\n",
        "os_smote_X,os_smote_Y = os.fit_sample(smote_train_X,smote_train_Y)\n",
        "os_smote_X = pd.DataFrame(data = os_smote_X,columns=lvar_pred)\n",
        "os_smote_Y = pd.DataFrame(data = os_smote_Y,columns=var_objet)\n",
        "\n",
        "\n",
        "\n",
        "# Instanciación de la Regresión Logística\n",
        "logit_smote = LogisticRegression(C=1.0, class_weight=None, dual=False, fit_intercept=True,\n",
        "          intercept_scaling=1, max_iter=200, multi_class='ovr', n_jobs=1,\n",
        "          penalty='l2', random_state=333, solver='liblinear', tol=0.0001,\n",
        "          verbose=0, warm_start=False)\n",
        "\n",
        "# Modelo\n",
        "logit_smote.fit(os_smote_X,os_smote_Y)\n",
        "predictions   = logit_smote.predict(smote_test_X)\n",
        "probabilities = logit_smote.predict_proba(smote_test_X)\n",
        "    \n",
        "print (logit)\n",
        "print (\"\\n Classification report : \\n\",classification_report(smote_test_Y,predictions))\n",
        "print (\"Accuracy   Score : \",accuracy_score(smote_test_Y,predictions))\n"
      ],
      "execution_count": 10,
      "outputs": [
        {
          "output_type": "stream",
          "text": [
            "LogisticRegression(C=1.0, class_weight='balanced', dual=False,\n",
            "                   fit_intercept=True, intercept_scaling=1, l1_ratio=None,\n",
            "                   max_iter=150, multi_class='auto', n_jobs=1, penalty='l2',\n",
            "                   random_state=None, solver='liblinear', tol=0.0001, verbose=0,\n",
            "                   warm_start=False)\n",
            "\n",
            " Classification report : \n",
            "                          precision    recall  f1-score   support\n",
            "\n",
            "             functional       0.68      0.39      0.49      8075\n",
            "functional needs repair       0.13      0.55      0.21      1073\n",
            "         non functional       0.56      0.56      0.56      5702\n",
            "\n",
            "               accuracy                           0.47     14850\n",
            "              macro avg       0.46      0.50      0.42     14850\n",
            "           weighted avg       0.59      0.47      0.50     14850\n",
            "\n",
            "Accuracy   Score :  0.4663973063973064\n"
          ],
          "name": "stdout"
        }
      ]
    },
    {
      "cell_type": "markdown",
      "metadata": {
        "id": "UfBwftt6fqv0",
        "colab_type": "text"
      },
      "source": [
        "## <a id='2.3'>2.3. XGBClassifier</a>"
      ]
    },
    {
      "cell_type": "code",
      "metadata": {
        "id": "cXA3bAZcfqv1",
        "colab_type": "code",
        "outputId": "16fd19c9-17da-4ff2-9ba9-8e1656ba19eb",
        "colab": {
          "base_uri": "https://localhost:8080/",
          "height": 357
        }
      },
      "source": [
        "# XGBClassifier\n",
        "# Se importa la libreria a ser usada.\n",
        "from xgboost import XGBClassifier\n",
        "\n",
        "\n",
        "xgc = XGBClassifier(base_score=0.5, booster='gbtree', colsample_bylevel=1,\n",
        "                    colsample_bytree=1, gamma=0, learning_rate=0.9, max_delta_step=0,\n",
        "                    max_depth = 7, min_child_weight=1, missing=None, n_estimators=100,\n",
        "                    n_jobs=1, nthread=None, objective='binary:logistic', random_state=333,\n",
        "                    reg_alpha=0, reg_lambda=1, scale_pos_weight=1, seed=None,\n",
        "                    silent=True, subsample=1)\n",
        "\n",
        "# Modelo\n",
        "xgc.fit(os_smote_X,os_smote_Y)\n",
        "predictions   = xgc.predict(test_X)\n",
        "probabilities = xgc.predict_proba(test_X)\n",
        "    \n",
        "print (xgc)\n",
        "print (\"\\n Classification report : \\n\",classification_report(test_Y,predictions))\n",
        "print (\"Accuracy   Score : \",accuracy_score(test_Y,predictions))\n"
      ],
      "execution_count": 11,
      "outputs": [
        {
          "output_type": "stream",
          "text": [
            "XGBClassifier(base_score=0.5, booster='gbtree', colsample_bylevel=1,\n",
            "              colsample_bynode=1, colsample_bytree=1, gamma=0,\n",
            "              learning_rate=0.9, max_delta_step=0, max_depth=7,\n",
            "              min_child_weight=1, missing=None, n_estimators=100, n_jobs=1,\n",
            "              nthread=None, objective='multi:softprob', random_state=333,\n",
            "              reg_alpha=0, reg_lambda=1, scale_pos_weight=1, seed=None,\n",
            "              silent=True, subsample=1, verbosity=1)\n",
            "\n",
            " Classification report : \n",
            "                          precision    recall  f1-score   support\n",
            "\n",
            "             functional       0.86      0.86      0.86      7963\n",
            "functional needs repair       0.43      0.66      0.52      1076\n",
            "         non functional       0.88      0.81      0.84      5811\n",
            "\n",
            "               accuracy                           0.82     14850\n",
            "              macro avg       0.73      0.77      0.74     14850\n",
            "           weighted avg       0.84      0.82      0.83     14850\n",
            "\n",
            "Accuracy   Score :  0.8220875420875421\n"
          ],
          "name": "stdout"
        }
      ]
    },
    {
      "cell_type": "markdown",
      "metadata": {
        "id": "lfyo3kgMfqv9",
        "colab_type": "text"
      },
      "source": [
        "## <a id='2.4'>2.4. LGBMClassifier</a>"
      ]
    },
    {
      "cell_type": "code",
      "metadata": {
        "id": "Dmgqprkefqv-",
        "colab_type": "code",
        "outputId": "06836e2c-2b38-4a6d-f04f-5b6496d9874c",
        "colab": {
          "base_uri": "https://localhost:8080/",
          "height": 340
        }
      },
      "source": [
        "# LightGBMClassifie\n",
        "\n",
        "# Se importa la libreria requerida\n",
        "from lightgbm import LGBMClassifier\n",
        "\n",
        "# Se instancia el modelo.\n",
        "lgbm_c = LGBMClassifier(boosting_type='gbdt', class_weight=None, colsample_bytree=1.0,\n",
        "                        learning_rate=0.5, max_depth=7, min_child_samples=20,\n",
        "                        min_child_weight=0.001, min_split_gain=0.0, n_estimators=100,\n",
        "                        n_jobs=-1, num_leaves=500, objective='binary', random_state=None,\n",
        "                        reg_alpha=0.0, reg_lambda=0.0, silent=True, subsample=1.0,\n",
        "                        subsample_for_bin=200000, subsample_freq=0)\n",
        "\n",
        "# Modelo\n",
        "lgbm_c.fit(os_smote_X,os_smote_Y)\n",
        "predictions   = lgbm_c.predict(test_X)\n",
        "probabilities = lgbm_c.predict_proba(test_X)\n",
        "    \n",
        "print (lgbm_c)\n",
        "print (\"\\n Classification report : \\n\",classification_report(test_Y,predictions))\n",
        "print (\"Accuracy   Score : \",accuracy_score(test_Y,predictions))"
      ],
      "execution_count": 12,
      "outputs": [
        {
          "output_type": "stream",
          "text": [
            "LGBMClassifier(boosting_type='gbdt', class_weight=None, colsample_bytree=1.0,\n",
            "               importance_type='split', learning_rate=0.5, max_depth=7,\n",
            "               min_child_samples=20, min_child_weight=0.001, min_split_gain=0.0,\n",
            "               n_estimators=100, n_jobs=-1, num_leaves=500, objective='binary',\n",
            "               random_state=None, reg_alpha=0.0, reg_lambda=0.0, silent=True,\n",
            "               subsample=1.0, subsample_for_bin=200000, subsample_freq=0)\n",
            "\n",
            " Classification report : \n",
            "                          precision    recall  f1-score   support\n",
            "\n",
            "             functional       0.84      0.85      0.85      7963\n",
            "functional needs repair       0.42      0.63      0.50      1076\n",
            "         non functional       0.88      0.78      0.82      5811\n",
            "\n",
            "               accuracy                           0.81     14850\n",
            "              macro avg       0.71      0.75      0.73     14850\n",
            "           weighted avg       0.82      0.81      0.81     14850\n",
            "\n",
            "Accuracy   Score :  0.8076094276094276\n"
          ],
          "name": "stdout"
        }
      ]
    },
    {
      "cell_type": "markdown",
      "metadata": {
        "id": "evmtrWPYfqwP",
        "colab_type": "text"
      },
      "source": [
        "## <a id='2.5'>2.5. BalancedBaggingClassifier</a>\n"
      ]
    },
    {
      "cell_type": "code",
      "metadata": {
        "id": "l3svoBTOfqwQ",
        "colab_type": "code",
        "outputId": "60f052f9-8577-4137-a103-6f0de9063ccc",
        "colab": {
          "base_uri": "https://localhost:8080/",
          "height": 561
        }
      },
      "source": [
        "# BalancedBaggingClassifier\n",
        "\n",
        "# Se importan las librerias requeridas\n",
        "from sklearn.tree import DecisionTreeClassifier\n",
        "from sklearn import tree\n",
        "from imblearn.ensemble import BalancedBaggingClassifier\n",
        "\n",
        "# Se instancia el modelo\n",
        "bbc = BalancedBaggingClassifier(base_estimator=DecisionTreeClassifier(),\n",
        "                                sampling_strategy='auto',\n",
        "                                replacement=False,\n",
        "                                random_state=0)\n",
        "\n",
        "# Modelo\n",
        "bbc.fit(os_smote_X,os_smote_Y)\n",
        "predictions   = bbc.predict(test_X)\n",
        "probabilities = bbc.predict_proba(test_X)\n",
        "    \n",
        "print (bbc)\n",
        "print (\"\\n Classification report : \\n\",classification_report(test_Y,predictions))\n",
        "print (\"Accuracy   Score : \",accuracy_score(test_Y,predictions))\n",
        "\n"
      ],
      "execution_count": 13,
      "outputs": [
        {
          "output_type": "stream",
          "text": [
            "BalancedBaggingClassifier(base_estimator=DecisionTreeClassifier(ccp_alpha=0.0,\n",
            "                                                                class_weight=None,\n",
            "                                                                criterion='gini',\n",
            "                                                                max_depth=None,\n",
            "                                                                max_features=None,\n",
            "                                                                max_leaf_nodes=None,\n",
            "                                                                min_impurity_decrease=0.0,\n",
            "                                                                min_impurity_split=None,\n",
            "                                                                min_samples_leaf=1,\n",
            "                                                                min_samples_split=2,\n",
            "                                                                min_weight_fraction_leaf=0.0,\n",
            "                                                                presort='deprecated',\n",
            "                                                                random_state=None,\n",
            "                                                                splitter='best'),\n",
            "                          bootstrap=True, bootstrap_features=False,\n",
            "                          max_features=1.0, max_samples=1.0, n_estimators=10,\n",
            "                          n_jobs=1, oob_score=False, random_state=0, ratio=None,\n",
            "                          replacement=False, sampling_strategy='auto',\n",
            "                          verbose=0, warm_start=False)\n",
            "\n",
            " Classification report : \n",
            "                          precision    recall  f1-score   support\n",
            "\n",
            "             functional       0.88      0.86      0.87      7963\n",
            "functional needs repair       0.45      0.70      0.55      1076\n",
            "         non functional       0.89      0.83      0.86      5811\n",
            "\n",
            "               accuracy                           0.84     14850\n",
            "              macro avg       0.74      0.80      0.76     14850\n",
            "           weighted avg       0.85      0.84      0.84     14850\n",
            "\n",
            "Accuracy   Score :  0.8361616161616162\n"
          ],
          "name": "stdout"
        }
      ]
    },
    {
      "cell_type": "markdown",
      "metadata": {
        "id": "yCcmRkeoFk_o",
        "colab_type": "text"
      },
      "source": [
        "## <a id='2.6'>2.6. Red Neuronal usando Keras.</a>"
      ]
    },
    {
      "cell_type": "code",
      "metadata": {
        "id": "MJK_TP7NZKtg",
        "colab_type": "code",
        "outputId": "d67a5138-7319-4004-d0eb-3c9ef08ec14b",
        "colab": {
          "base_uri": "https://localhost:8080/",
          "height": 34
        }
      },
      "source": [
        "# Se importan las librerias requeridas.\n",
        "import tensorflow\n",
        "import keras.utils\n",
        "from   keras.models import Sequential\n",
        "from   keras.layers import Dense, Dropout, Activation\n",
        "from   keras.optimizers import Adadelta, Adagrad, Adam, Adamax, Nadam, SGD, RMSprop\n",
        "#from   keras.wrappers.scikit_learn import KerasClassifier\n"
      ],
      "execution_count": 14,
      "outputs": [
        {
          "output_type": "stream",
          "text": [
            "Using TensorFlow backend.\n"
          ],
          "name": "stderr"
        }
      ]
    },
    {
      "cell_type": "code",
      "metadata": {
        "id": "YZ_m4Y0GAIqq",
        "colab_type": "code",
        "outputId": "41ca4bb6-0432-4346-89ed-e4eb2b7cea9e",
        "colab": {
          "base_uri": "https://localhost:8080/",
          "height": 385
        }
      },
      "source": [
        "# Se normalizan aquellas variables que lo requieren.\n",
        "\n",
        "# Se import la libreria requerida.\n",
        "from sklearn.preprocessing import MinMaxScaler, StandardScaler\n",
        "\n",
        "# Se define la función normaliza_df()\n",
        "def normaliza_df(scaler, df):\n",
        "  scaled_df = scaler.fit_transform(df)\n",
        "  scaled_df = pd.DataFrame(scaled_df, columns=df.columns.values)\n",
        "  return scaled_df\n",
        "\n",
        "# Se eligen las variables a ser normalizadas.\n",
        "lvar_norm = ['amount_tsh','funder','construction_year']\n",
        "lvar_otra = [var for var in df_03.columns if var not in lvar_norm]\n",
        "\n",
        "df_03_norm            = normaliza_df(StandardScaler(),df_03[lvar_norm])\n",
        "df_03_norm[lvar_otra] = df_03[lvar_otra] \n",
        "df_03_norm.describe()\n"
      ],
      "execution_count": 15,
      "outputs": [
        {
          "output_type": "execute_result",
          "data": {
            "text/html": [
              "<div>\n",
              "<style scoped>\n",
              "    .dataframe tbody tr th:only-of-type {\n",
              "        vertical-align: middle;\n",
              "    }\n",
              "\n",
              "    .dataframe tbody tr th {\n",
              "        vertical-align: top;\n",
              "    }\n",
              "\n",
              "    .dataframe thead th {\n",
              "        text-align: right;\n",
              "    }\n",
              "</style>\n",
              "<table border=\"1\" class=\"dataframe\">\n",
              "  <thead>\n",
              "    <tr style=\"text-align: right;\">\n",
              "      <th></th>\n",
              "      <th>amount_tsh</th>\n",
              "      <th>funder</th>\n",
              "      <th>construction_year</th>\n",
              "      <th>region_code</th>\n",
              "      <th>district_code</th>\n",
              "      <th>public_meeting</th>\n",
              "      <th>scheme_management</th>\n",
              "      <th>extraction_type</th>\n",
              "      <th>extraction_type_group</th>\n",
              "      <th>extraction_type_class</th>\n",
              "      <th>management_group</th>\n",
              "      <th>water_quality</th>\n",
              "      <th>quality_group</th>\n",
              "      <th>quantity</th>\n",
              "      <th>source_class</th>\n",
              "      <th>waterpoint_type</th>\n",
              "    </tr>\n",
              "  </thead>\n",
              "  <tbody>\n",
              "    <tr>\n",
              "      <th>count</th>\n",
              "      <td>5.940000e+04</td>\n",
              "      <td>5.940000e+04</td>\n",
              "      <td>5.940000e+04</td>\n",
              "      <td>59400.000000</td>\n",
              "      <td>59400.000000</td>\n",
              "      <td>59400.000000</td>\n",
              "      <td>59400.000000</td>\n",
              "      <td>59400.000000</td>\n",
              "      <td>59400.000000</td>\n",
              "      <td>59400.000000</td>\n",
              "      <td>59400.000000</td>\n",
              "      <td>59400.000000</td>\n",
              "      <td>59400.000000</td>\n",
              "      <td>59400.000000</td>\n",
              "      <td>59400.000000</td>\n",
              "      <td>59400.000000</td>\n",
              "    </tr>\n",
              "    <tr>\n",
              "      <th>mean</th>\n",
              "      <td>5.364466e-16</td>\n",
              "      <td>1.817140e-16</td>\n",
              "      <td>3.053039e-16</td>\n",
              "      <td>15.297003</td>\n",
              "      <td>5.629747</td>\n",
              "      <td>0.971027</td>\n",
              "      <td>7.739276</td>\n",
              "      <td>6.331279</td>\n",
              "      <td>3.936549</td>\n",
              "      <td>1.264663</td>\n",
              "      <td>3.638418</td>\n",
              "      <td>5.754293</td>\n",
              "      <td>2.263047</td>\n",
              "      <td>1.325758</td>\n",
              "      <td>0.233737</td>\n",
              "      <td>2.574091</td>\n",
              "    </tr>\n",
              "    <tr>\n",
              "      <th>std</th>\n",
              "      <td>1.000008e+00</td>\n",
              "      <td>1.000008e+00</td>\n",
              "      <td>1.000008e+00</td>\n",
              "      <td>17.587406</td>\n",
              "      <td>9.633649</td>\n",
              "      <td>0.374689</td>\n",
              "      <td>2.623470</td>\n",
              "      <td>4.213948</td>\n",
              "      <td>3.527073</td>\n",
              "      <td>1.626676</td>\n",
              "      <td>1.058579</td>\n",
              "      <td>0.900820</td>\n",
              "      <td>0.784268</td>\n",
              "      <td>0.803750</td>\n",
              "      <td>0.434129</td>\n",
              "      <td>1.781438</td>\n",
              "    </tr>\n",
              "    <tr>\n",
              "      <th>min</th>\n",
              "      <td>-1.059700e-01</td>\n",
              "      <td>-1.519209e+00</td>\n",
              "      <td>-1.366788e+00</td>\n",
              "      <td>1.000000</td>\n",
              "      <td>0.000000</td>\n",
              "      <td>0.000000</td>\n",
              "      <td>0.000000</td>\n",
              "      <td>0.000000</td>\n",
              "      <td>0.000000</td>\n",
              "      <td>0.000000</td>\n",
              "      <td>0.000000</td>\n",
              "      <td>0.000000</td>\n",
              "      <td>0.000000</td>\n",
              "      <td>0.000000</td>\n",
              "      <td>0.000000</td>\n",
              "      <td>0.000000</td>\n",
              "    </tr>\n",
              "    <tr>\n",
              "      <th>25%</th>\n",
              "      <td>-1.059700e-01</td>\n",
              "      <td>-7.254378e-01</td>\n",
              "      <td>-1.366788e+00</td>\n",
              "      <td>5.000000</td>\n",
              "      <td>2.000000</td>\n",
              "      <td>1.000000</td>\n",
              "      <td>8.000000</td>\n",
              "      <td>3.000000</td>\n",
              "      <td>1.000000</td>\n",
              "      <td>0.000000</td>\n",
              "      <td>4.000000</td>\n",
              "      <td>6.000000</td>\n",
              "      <td>2.000000</td>\n",
              "      <td>1.000000</td>\n",
              "      <td>0.000000</td>\n",
              "      <td>1.000000</td>\n",
              "    </tr>\n",
              "    <tr>\n",
              "      <th>50%</th>\n",
              "      <td>-1.059700e-01</td>\n",
              "      <td>-3.490192e-01</td>\n",
              "      <td>7.201960e-01</td>\n",
              "      <td>12.000000</td>\n",
              "      <td>3.000000</td>\n",
              "      <td>1.000000</td>\n",
              "      <td>8.000000</td>\n",
              "      <td>4.000000</td>\n",
              "      <td>2.000000</td>\n",
              "      <td>1.000000</td>\n",
              "      <td>4.000000</td>\n",
              "      <td>6.000000</td>\n",
              "      <td>2.000000</td>\n",
              "      <td>1.000000</td>\n",
              "      <td>0.000000</td>\n",
              "      <td>2.000000</td>\n",
              "    </tr>\n",
              "    <tr>\n",
              "      <th>75%</th>\n",
              "      <td>-9.929791e-02</td>\n",
              "      <td>8.282901e-01</td>\n",
              "      <td>7.391112e-01</td>\n",
              "      <td>17.000000</td>\n",
              "      <td>5.000000</td>\n",
              "      <td>1.000000</td>\n",
              "      <td>8.000000</td>\n",
              "      <td>9.000000</td>\n",
              "      <td>6.000000</td>\n",
              "      <td>2.000000</td>\n",
              "      <td>4.000000</td>\n",
              "      <td>6.000000</td>\n",
              "      <td>2.000000</td>\n",
              "      <td>2.000000</td>\n",
              "      <td>0.000000</td>\n",
              "      <td>4.000000</td>\n",
              "    </tr>\n",
              "    <tr>\n",
              "      <th>max</th>\n",
              "      <td>1.166561e+02</td>\n",
              "      <td>1.856990e+00</td>\n",
              "      <td>7.485689e-01</td>\n",
              "      <td>99.000000</td>\n",
              "      <td>80.000000</td>\n",
              "      <td>2.000000</td>\n",
              "      <td>12.000000</td>\n",
              "      <td>17.000000</td>\n",
              "      <td>12.000000</td>\n",
              "      <td>6.000000</td>\n",
              "      <td>4.000000</td>\n",
              "      <td>7.000000</td>\n",
              "      <td>5.000000</td>\n",
              "      <td>4.000000</td>\n",
              "      <td>2.000000</td>\n",
              "      <td>6.000000</td>\n",
              "    </tr>\n",
              "  </tbody>\n",
              "</table>\n",
              "</div>"
            ],
            "text/plain": [
              "         amount_tsh        funder  ...  source_class  waterpoint_type\n",
              "count  5.940000e+04  5.940000e+04  ...  59400.000000     59400.000000\n",
              "mean   5.364466e-16  1.817140e-16  ...      0.233737         2.574091\n",
              "std    1.000008e+00  1.000008e+00  ...      0.434129         1.781438\n",
              "min   -1.059700e-01 -1.519209e+00  ...      0.000000         0.000000\n",
              "25%   -1.059700e-01 -7.254378e-01  ...      0.000000         1.000000\n",
              "50%   -1.059700e-01 -3.490192e-01  ...      0.000000         2.000000\n",
              "75%   -9.929791e-02  8.282901e-01  ...      0.000000         4.000000\n",
              "max    1.166561e+02  1.856990e+00  ...      2.000000         6.000000\n",
              "\n",
              "[8 rows x 16 columns]"
            ]
          },
          "metadata": {
            "tags": []
          },
          "execution_count": 15
        }
      ]
    },
    {
      "cell_type": "code",
      "metadata": {
        "id": "uIVugudJZXXz",
        "colab_type": "code",
        "colab": {}
      },
      "source": [
        "# Se realiza la partición de las muestras para aplicar el entrenamiento de la \n",
        "# Red Nueronal.\n",
        "from sklearn.preprocessing   import LabelEncoder\n",
        "from sklearn.model_selection import train_test_split\n",
        "\n",
        "X = df_03_norm.copy()\n",
        "y = df_04.apply(LabelEncoder().fit_transform).values.ravel()\n",
        "y_cat = keras.utils.to_categorical(y, num_classes=3)\n",
        "\n",
        "X_train_, X_test_, y_train_, y_test_ = train_test_split(X, y_cat, test_size=0.25, stratify=y)"
      ],
      "execution_count": 0,
      "outputs": []
    },
    {
      "cell_type": "code",
      "metadata": {
        "id": "D3eX5iUQxeDQ",
        "colab_type": "code",
        "outputId": "6fb837e0-b97e-41e7-a8fb-5780ada27fe6",
        "colab": {
          "base_uri": "https://localhost:8080/",
          "height": 1000
        }
      },
      "source": [
        "# Se define el modelo para la Red Neuronal.\n",
        "model = Sequential()\n",
        "# La primera capa tiene 64 'neuronas', función de activación relu y 16 variables\n",
        "# de entrada.\n",
        "model.add(Dense(64, activation='relu', input_dim=16))\n",
        "# La segunda capa tiene 32 'neuronas' y función de activación relu.\n",
        "model.add(Dense(32, activation='relu'))\n",
        "# La capa de salida, considera las 3 clases y función de activación softmax.\n",
        "model.add(Dense(3, activation='softmax'))\n",
        "\n",
        "# Se usa el optimizador RMSprop, con valores de hiperparámetros tomados desde\n",
        "# la documentación de Keras.\n",
        "rmsprop = RMSprop(learning_rate=0.001, rho=0.9)\n",
        "# Se instancia el modelo, usando optimizador rmsprop, función de pérdida \n",
        "# categorical_crossentropy y métrica accuracy.\n",
        "model.compile(optimizer=rmsprop,\n",
        "              loss='categorical_crossentropy',\n",
        "              metrics=['accuracy'])\n",
        "# Se mira el modelo y sus parámetros\n",
        "model.summary()\n",
        "# Se entrena la Red Neuronal, con epochs = 100 y batch_size = 32\n",
        "model.fit(X_train_, y_train_, epochs=100, batch_size=32)\n"
      ],
      "execution_count": 17,
      "outputs": [
        {
          "output_type": "stream",
          "text": [
            "Model: \"sequential_1\"\n",
            "_________________________________________________________________\n",
            "Layer (type)                 Output Shape              Param #   \n",
            "=================================================================\n",
            "dense_1 (Dense)              (None, 64)                1088      \n",
            "_________________________________________________________________\n",
            "dense_2 (Dense)              (None, 32)                2080      \n",
            "_________________________________________________________________\n",
            "dense_3 (Dense)              (None, 3)                 99        \n",
            "=================================================================\n",
            "Total params: 3,267\n",
            "Trainable params: 3,267\n",
            "Non-trainable params: 0\n",
            "_________________________________________________________________\n",
            "Epoch 1/100\n",
            "44550/44550 [==============================] - 2s 39us/step - loss: 0.8156 - accuracy: 0.6351\n",
            "Epoch 2/100\n",
            "44550/44550 [==============================] - 1s 32us/step - loss: 0.7367 - accuracy: 0.6892\n",
            "Epoch 3/100\n",
            "44550/44550 [==============================] - 1s 33us/step - loss: 0.7046 - accuracy: 0.7013\n",
            "Epoch 4/100\n",
            "44550/44550 [==============================] - 1s 33us/step - loss: 0.6913 - accuracy: 0.7087\n",
            "Epoch 5/100\n",
            "44550/44550 [==============================] - 1s 33us/step - loss: 0.6841 - accuracy: 0.7114\n",
            "Epoch 6/100\n",
            "44550/44550 [==============================] - 1s 33us/step - loss: 0.6777 - accuracy: 0.7153\n",
            "Epoch 7/100\n",
            "44550/44550 [==============================] - 1s 32us/step - loss: 0.6722 - accuracy: 0.7177\n",
            "Epoch 8/100\n",
            "44550/44550 [==============================] - 1s 32us/step - loss: 0.6698 - accuracy: 0.7200\n",
            "Epoch 9/100\n",
            "44550/44550 [==============================] - 1s 33us/step - loss: 0.6681 - accuracy: 0.7211\n",
            "Epoch 10/100\n",
            "44550/44550 [==============================] - 1s 32us/step - loss: 0.6661 - accuracy: 0.7226\n",
            "Epoch 11/100\n",
            "44550/44550 [==============================] - 1s 33us/step - loss: 0.6661 - accuracy: 0.7221\n",
            "Epoch 12/100\n",
            "44550/44550 [==============================] - 1s 33us/step - loss: 0.6646 - accuracy: 0.7248\n",
            "Epoch 13/100\n",
            "44550/44550 [==============================] - 1s 33us/step - loss: 0.6666 - accuracy: 0.7247\n",
            "Epoch 14/100\n",
            "44550/44550 [==============================] - 1s 33us/step - loss: 0.6655 - accuracy: 0.7276\n",
            "Epoch 15/100\n",
            "44550/44550 [==============================] - 1s 33us/step - loss: 0.6647 - accuracy: 0.7258\n",
            "Epoch 16/100\n",
            "44550/44550 [==============================] - 1s 33us/step - loss: 0.6683 - accuracy: 0.7300\n",
            "Epoch 17/100\n",
            "44550/44550 [==============================] - 1s 33us/step - loss: 0.6678 - accuracy: 0.7291\n",
            "Epoch 18/100\n",
            "44550/44550 [==============================] - 1s 33us/step - loss: 0.6673 - accuracy: 0.7270\n",
            "Epoch 19/100\n",
            "44550/44550 [==============================] - 1s 32us/step - loss: 0.6699 - accuracy: 0.7282\n",
            "Epoch 20/100\n",
            "44550/44550 [==============================] - 1s 32us/step - loss: 0.6686 - accuracy: 0.7272\n",
            "Epoch 21/100\n",
            "44550/44550 [==============================] - 1s 33us/step - loss: 0.6700 - accuracy: 0.7295\n",
            "Epoch 22/100\n",
            "44550/44550 [==============================] - 1s 33us/step - loss: 0.6705 - accuracy: 0.7276\n",
            "Epoch 23/100\n",
            "44550/44550 [==============================] - 1s 32us/step - loss: 0.6697 - accuracy: 0.7277\n",
            "Epoch 24/100\n",
            "44550/44550 [==============================] - 1s 32us/step - loss: 0.6722 - accuracy: 0.7272\n",
            "Epoch 25/100\n",
            "44550/44550 [==============================] - 1s 33us/step - loss: 0.6660 - accuracy: 0.7301\n",
            "Epoch 26/100\n",
            "44550/44550 [==============================] - 1s 32us/step - loss: 0.6730 - accuracy: 0.7279\n",
            "Epoch 27/100\n",
            "44550/44550 [==============================] - 1s 33us/step - loss: 0.6700 - accuracy: 0.7286\n",
            "Epoch 28/100\n",
            "44550/44550 [==============================] - 1s 33us/step - loss: 0.6735 - accuracy: 0.7301\n",
            "Epoch 29/100\n",
            "44550/44550 [==============================] - 1s 33us/step - loss: 0.6761 - accuracy: 0.7292\n",
            "Epoch 30/100\n",
            "44550/44550 [==============================] - 1s 32us/step - loss: 0.6772 - accuracy: 0.7284\n",
            "Epoch 31/100\n",
            "44550/44550 [==============================] - 1s 32us/step - loss: 0.6766 - accuracy: 0.7287\n",
            "Epoch 32/100\n",
            "44550/44550 [==============================] - 1s 32us/step - loss: 0.6781 - accuracy: 0.7292\n",
            "Epoch 33/100\n",
            "44550/44550 [==============================] - 1s 33us/step - loss: 0.6783 - accuracy: 0.7295\n",
            "Epoch 34/100\n",
            "44550/44550 [==============================] - 1s 33us/step - loss: 0.6743 - accuracy: 0.7292\n",
            "Epoch 35/100\n",
            "44550/44550 [==============================] - 1s 32us/step - loss: 0.6745 - accuracy: 0.7305\n",
            "Epoch 36/100\n",
            "44550/44550 [==============================] - 1s 32us/step - loss: 0.6765 - accuracy: 0.7293\n",
            "Epoch 37/100\n",
            "44550/44550 [==============================] - 1s 32us/step - loss: 0.6741 - accuracy: 0.7283\n",
            "Epoch 38/100\n",
            "44550/44550 [==============================] - 1s 33us/step - loss: 0.6775 - accuracy: 0.7313\n",
            "Epoch 39/100\n",
            "44550/44550 [==============================] - 1s 32us/step - loss: 0.6791 - accuracy: 0.7304\n",
            "Epoch 40/100\n",
            "44550/44550 [==============================] - 1s 33us/step - loss: 0.6810 - accuracy: 0.7284\n",
            "Epoch 41/100\n",
            "44550/44550 [==============================] - 1s 32us/step - loss: 0.6762 - accuracy: 0.7301\n",
            "Epoch 42/100\n",
            "44550/44550 [==============================] - 1s 32us/step - loss: 0.6774 - accuracy: 0.7310\n",
            "Epoch 43/100\n",
            "44550/44550 [==============================] - 1s 33us/step - loss: 0.6761 - accuracy: 0.7320\n",
            "Epoch 44/100\n",
            "44550/44550 [==============================] - 1s 33us/step - loss: 0.6819 - accuracy: 0.7305\n",
            "Epoch 45/100\n",
            "44550/44550 [==============================] - 1s 33us/step - loss: 0.6789 - accuracy: 0.7308\n",
            "Epoch 46/100\n",
            "44550/44550 [==============================] - 1s 33us/step - loss: 0.6794 - accuracy: 0.7303\n",
            "Epoch 47/100\n",
            "44550/44550 [==============================] - 1s 33us/step - loss: 0.6850 - accuracy: 0.7312\n",
            "Epoch 48/100\n",
            "44550/44550 [==============================] - 1s 33us/step - loss: 0.6818 - accuracy: 0.7310\n",
            "Epoch 49/100\n",
            "44550/44550 [==============================] - 1s 33us/step - loss: 0.6836 - accuracy: 0.7315\n",
            "Epoch 50/100\n",
            "44550/44550 [==============================] - 1s 32us/step - loss: 0.6802 - accuracy: 0.7307\n",
            "Epoch 51/100\n",
            "44550/44550 [==============================] - 1s 32us/step - loss: 0.6778 - accuracy: 0.7317\n",
            "Epoch 52/100\n",
            "44550/44550 [==============================] - 1s 32us/step - loss: 0.6841 - accuracy: 0.7318\n",
            "Epoch 53/100\n",
            "44550/44550 [==============================] - 1s 32us/step - loss: 0.6866 - accuracy: 0.7310\n",
            "Epoch 54/100\n",
            "44550/44550 [==============================] - 1s 32us/step - loss: 0.6795 - accuracy: 0.7323\n",
            "Epoch 55/100\n",
            "44550/44550 [==============================] - 1s 32us/step - loss: 0.6806 - accuracy: 0.7316\n",
            "Epoch 56/100\n",
            "44550/44550 [==============================] - 1s 33us/step - loss: 0.6848 - accuracy: 0.7323\n",
            "Epoch 57/100\n",
            "44550/44550 [==============================] - 1s 33us/step - loss: 0.6835 - accuracy: 0.7322\n",
            "Epoch 58/100\n",
            "44550/44550 [==============================] - 1s 32us/step - loss: 0.6838 - accuracy: 0.7322\n",
            "Epoch 59/100\n",
            "44550/44550 [==============================] - 1s 33us/step - loss: 0.6886 - accuracy: 0.7313\n",
            "Epoch 60/100\n",
            "44550/44550 [==============================] - 1s 32us/step - loss: 0.6880 - accuracy: 0.7341\n",
            "Epoch 61/100\n",
            "44550/44550 [==============================] - 1s 33us/step - loss: 0.6908 - accuracy: 0.7332\n",
            "Epoch 62/100\n",
            "44550/44550 [==============================] - 1s 32us/step - loss: 0.6959 - accuracy: 0.7333\n",
            "Epoch 63/100\n",
            "44550/44550 [==============================] - 1s 33us/step - loss: 0.6922 - accuracy: 0.7334\n",
            "Epoch 64/100\n",
            "44550/44550 [==============================] - 1s 33us/step - loss: 0.6869 - accuracy: 0.7318\n",
            "Epoch 65/100\n",
            "44550/44550 [==============================] - 1s 32us/step - loss: 0.6975 - accuracy: 0.7338\n",
            "Epoch 66/100\n",
            "44550/44550 [==============================] - 1s 32us/step - loss: 0.6967 - accuracy: 0.7334\n",
            "Epoch 67/100\n",
            "44550/44550 [==============================] - 1s 32us/step - loss: 0.6951 - accuracy: 0.7338\n",
            "Epoch 68/100\n",
            "44550/44550 [==============================] - 1s 33us/step - loss: 0.6981 - accuracy: 0.7327\n",
            "Epoch 69/100\n",
            "44550/44550 [==============================] - 1s 32us/step - loss: 0.7025 - accuracy: 0.7316\n",
            "Epoch 70/100\n",
            "44550/44550 [==============================] - 1s 32us/step - loss: 0.6994 - accuracy: 0.7331\n",
            "Epoch 71/100\n",
            "44550/44550 [==============================] - 1s 32us/step - loss: 0.7069 - accuracy: 0.7352\n",
            "Epoch 72/100\n",
            "44550/44550 [==============================] - 1s 32us/step - loss: 0.7095 - accuracy: 0.7332\n",
            "Epoch 73/100\n",
            "44550/44550 [==============================] - 1s 32us/step - loss: 0.7010 - accuracy: 0.7338\n",
            "Epoch 74/100\n",
            "44550/44550 [==============================] - 1s 32us/step - loss: 0.7155 - accuracy: 0.7348\n",
            "Epoch 75/100\n",
            "44550/44550 [==============================] - 1s 32us/step - loss: 0.7051 - accuracy: 0.7353\n",
            "Epoch 76/100\n",
            "44550/44550 [==============================] - 1s 33us/step - loss: 0.7089 - accuracy: 0.7339\n",
            "Epoch 77/100\n",
            "44550/44550 [==============================] - 1s 32us/step - loss: 0.7131 - accuracy: 0.7363\n",
            "Epoch 78/100\n",
            "44550/44550 [==============================] - 1s 32us/step - loss: 0.7132 - accuracy: 0.7358\n",
            "Epoch 79/100\n",
            "44550/44550 [==============================] - 1s 32us/step - loss: 0.7063 - accuracy: 0.7344\n",
            "Epoch 80/100\n",
            "44550/44550 [==============================] - 1s 32us/step - loss: 0.7093 - accuracy: 0.7349\n",
            "Epoch 81/100\n",
            "44550/44550 [==============================] - 1s 32us/step - loss: 0.7097 - accuracy: 0.7367\n",
            "Epoch 82/100\n",
            "44550/44550 [==============================] - 1s 32us/step - loss: 0.7056 - accuracy: 0.7352\n",
            "Epoch 83/100\n",
            "44550/44550 [==============================] - 1s 33us/step - loss: 0.7119 - accuracy: 0.7365\n",
            "Epoch 84/100\n",
            "44550/44550 [==============================] - 1s 32us/step - loss: 0.7070 - accuracy: 0.7371\n",
            "Epoch 85/100\n",
            "44550/44550 [==============================] - 1s 32us/step - loss: 0.7025 - accuracy: 0.7377\n",
            "Epoch 86/100\n",
            "44550/44550 [==============================] - 1s 32us/step - loss: 0.7098 - accuracy: 0.7378\n",
            "Epoch 87/100\n",
            "44550/44550 [==============================] - 1s 32us/step - loss: 0.7048 - accuracy: 0.7376\n",
            "Epoch 88/100\n",
            "44550/44550 [==============================] - 1s 33us/step - loss: 0.7125 - accuracy: 0.7365\n",
            "Epoch 89/100\n",
            "44550/44550 [==============================] - 1s 33us/step - loss: 0.7068 - accuracy: 0.7382\n",
            "Epoch 90/100\n",
            "44550/44550 [==============================] - 1s 33us/step - loss: 0.7082 - accuracy: 0.7365\n",
            "Epoch 91/100\n",
            "44550/44550 [==============================] - 1s 32us/step - loss: 0.7047 - accuracy: 0.7365\n",
            "Epoch 92/100\n",
            "44550/44550 [==============================] - 1s 32us/step - loss: 0.7127 - accuracy: 0.7374\n",
            "Epoch 93/100\n",
            "44550/44550 [==============================] - 1s 32us/step - loss: 0.7098 - accuracy: 0.7367\n",
            "Epoch 94/100\n",
            "44550/44550 [==============================] - 1s 33us/step - loss: 0.7155 - accuracy: 0.7378\n",
            "Epoch 95/100\n",
            "44550/44550 [==============================] - 1s 32us/step - loss: 0.7129 - accuracy: 0.7382\n",
            "Epoch 96/100\n",
            "44550/44550 [==============================] - 1s 32us/step - loss: 0.7139 - accuracy: 0.7387\n",
            "Epoch 97/100\n",
            "44550/44550 [==============================] - 1s 33us/step - loss: 0.7097 - accuracy: 0.7384\n",
            "Epoch 98/100\n",
            "44550/44550 [==============================] - 1s 32us/step - loss: 0.7202 - accuracy: 0.7387\n",
            "Epoch 99/100\n",
            "44550/44550 [==============================] - 1s 32us/step - loss: 0.7153 - accuracy: 0.7400\n",
            "Epoch 100/100\n",
            "44550/44550 [==============================] - 1s 32us/step - loss: 0.7155 - accuracy: 0.7394\n"
          ],
          "name": "stdout"
        },
        {
          "output_type": "execute_result",
          "data": {
            "text/plain": [
              "<keras.callbacks.callbacks.History at 0x7f16d9ad3f98>"
            ]
          },
          "metadata": {
            "tags": []
          },
          "execution_count": 17
        }
      ]
    },
    {
      "cell_type": "markdown",
      "metadata": {
        "id": "T6J4znscDxb1",
        "colab_type": "text"
      },
      "source": [
        "Se logra un accuracy del 0.74, un valor que se puede considerar regular-bueno.\n",
        "Evaluemos ahora la red entrenada con las muestras de test."
      ]
    },
    {
      "cell_type": "code",
      "metadata": {
        "id": "v8kj0I6_FUwi",
        "colab_type": "code",
        "outputId": "da9f749e-c1db-4aa6-d231-1b918d626df1",
        "colab": {
          "base_uri": "https://localhost:8080/",
          "height": 51
        }
      },
      "source": [
        "import pandas as pd\n",
        "# Se evalua la Red Neuronal ya entrenada, con las muestras de prueba.\n",
        "score = model.evaluate(X_test_, y_test_, verbose=0)\n",
        "print('Test loss:', score[0])\n",
        "print('Test accuracy:', score[1])\n",
        "\n",
        "df_NN_01 = pd.DataFrame({\"Model\"           : ['nn_keras_rmsprop_01'],\n",
        "                         \"Accuracy_score\"  : [score[1]]\n",
        "                        })"
      ],
      "execution_count": 18,
      "outputs": [
        {
          "output_type": "stream",
          "text": [
            "Test loss: 2.1416166319831054\n",
            "Test accuracy: 0.7332659959793091\n"
          ],
          "name": "stdout"
        }
      ]
    },
    {
      "cell_type": "markdown",
      "metadata": {
        "id": "OO4SBP2AOLFe",
        "colab_type": "text"
      },
      "source": [
        "La evaluación con la data de test, entrega un accuracy del 0.73.\n",
        "\n",
        "Ahora probemos la Red Neuronal variando con los optimizadores que aparecen en la documentación de Keras.\n",
        "\n"
      ]
    },
    {
      "cell_type": "code",
      "metadata": {
        "id": "Fmge0yvKNr1O",
        "colab_type": "code",
        "outputId": "1307ce6a-6fcd-4c7a-907f-6bab5b1cb4e1",
        "colab": {
          "base_uri": "https://localhost:8080/",
          "height": 51
        }
      },
      "source": [
        "# Optimizares con hiperparámetros que aparecen en la documentación de Keras.\n",
        "\n",
        "adadelta = Adadelta(learning_rate=1.0, rho=0.95)\n",
        "adagrad  = Adagrad(learning_rate=0.01)\n",
        "adam     = Adam(learning_rate=0.001, beta_1=0.9, beta_2=0.999, amsgrad=False)\n",
        "adamax   = Adamax(learning_rate=0.002, beta_1=0.9, beta_2=0.999)\n",
        "nadam    = Nadam(learning_rate=0.002, beta_1=0.9, beta_2=0.999)\n",
        "rmsprop  = RMSprop(learning_rate=0.001, rho=0.9)\n",
        "sgd_01   = SGD(learning_rate=0.01, momentum=0.0, nesterov=False)\n",
        "sgd_02   = SGD(lr=0.03, decay=1e-6, momentum=0.9, nesterov=True)\n",
        "\n",
        "# Se define el modelo para la Red Neuronal.\n",
        "def mod_red_neuronal(optimizador):\n",
        "  model = Sequential()\n",
        "# La primera capa tiene 64 'neuronas', función de activación relu y 16 variables\n",
        "# de entrada.\n",
        "  model.add(Dense(64, activation='relu', input_dim=16))\n",
        "# La segunda capa tiene 32 'neuronas' y función de activación relu.\n",
        "  model.add(Dense(32, activation='relu'))\n",
        "# La capa de salida, considera las 3 clases y función de activación softmax.\n",
        "  model.add(Dense(3, activation='softmax'))\n",
        "\n",
        "# Se instancia el modelo, usando optimizador rmsprop, función de pérdida \n",
        "# categorical_crossentropy y métrica accuracy.\n",
        "  model.compile(optimizer=optimizador,\n",
        "                loss='categorical_crossentropy',\n",
        "                metrics=['accuracy'])\n",
        "# Se mira el modelo y sus parámetros\n",
        "  return model\n",
        "\n",
        "l_modelos = ['adadelta','adagrad','adam','adamax','nadam','rmsprop','sgd_01','sgd_02']\n",
        "print('Inicio de entrenamiento de Redes Neuronales, diferentes optimizadores.')\n",
        "modelo_adadelta = mod_red_neuronal(adadelta)\n",
        "modelo_adadelta.fit(X_train_, y_train_, epochs=100, batch_size=32,verbose=0)\n",
        "modelo_adagrad  = mod_red_neuronal(adagrad)\n",
        "modelo_adagrad.fit(X_train_, y_train_, epochs=100, batch_size=32,verbose=0)\n",
        "modelo_adam     = mod_red_neuronal(adam)\n",
        "modelo_adam.fit(X_train_, y_train_, epochs=100, batch_size=32,verbose=0)\n",
        "modelo_adamax     = mod_red_neuronal(adamax)\n",
        "modelo_adamax.fit(X_train_, y_train_, epochs=100, batch_size=32,verbose=0)\n",
        "modelo_nadam     = mod_red_neuronal(nadam)\n",
        "modelo_nadam.fit(X_train_, y_train_, epochs=100, batch_size=32,verbose=0)\n",
        "modelo_rmsprop   = mod_red_neuronal(rmsprop)\n",
        "modelo_rmsprop.fit(X_train_, y_train_, epochs=100, batch_size=32,verbose=0)\n",
        "modelo_sgd_01   = mod_red_neuronal(sgd_01)\n",
        "modelo_sgd_01.fit(X_train_, y_train_, epochs=100, batch_size=32,verbose=0)\n",
        "modelo_sgd_02   = mod_red_neuronal(sgd_02)\n",
        "modelo_sgd_02.fit(X_train_, y_train_, epochs=100, batch_size=32,verbose=0)\n",
        "print('Fin de entrenamiento de Redes Neuronales, diferentes optimizadores.')"
      ],
      "execution_count": 19,
      "outputs": [
        {
          "output_type": "stream",
          "text": [
            "Inicio de entrenamiento de Redes Neuronales, diferentes optimizadores.\n",
            "Fin de entrenamiento de Redes Neuronales, diferentes optimizadores.\n"
          ],
          "name": "stdout"
        }
      ]
    },
    {
      "cell_type": "code",
      "metadata": {
        "id": "e5PC4pE0avIa",
        "colab_type": "code",
        "outputId": "efa43aa4-59f9-4343-92bd-4c5210712a65",
        "colab": {
          "base_uri": "https://localhost:8080/",
          "height": 425
        }
      },
      "source": [
        "# Se evalua cada una de las Redes Neuronales ya entrenadas.\n",
        "\n",
        "score = modelo_adadelta.evaluate(X_test_, y_test_, verbose=0)\n",
        "print('Adadelta')\n",
        "print('Test loss:', score[0])\n",
        "print('Test accuracy:', score[1])\n",
        "df_NN_02 = pd.DataFrame({\"Model\"           : ['nn_keras_adadelta'],\n",
        "                         \"Accuracy_score\"  : [score[1]]\n",
        "                        })\n",
        "\n",
        "score = modelo_adagrad.evaluate(X_test_, y_test_, verbose=0)\n",
        "print('Adagrad')\n",
        "print('Test loss:', score[0])\n",
        "print('Test accuracy:', score[1])\n",
        "df_NN_03 = pd.DataFrame({\"Model\"           : ['nn_keras_adagrad'],\n",
        "                         \"Accuracy_score\"  : [score[1]]\n",
        "                        })\n",
        "\n",
        "score = modelo_adam.evaluate(X_test_, y_test_, verbose=0)\n",
        "print('Adam')\n",
        "print('Test loss:', score[0])\n",
        "print('Test accuracy:', score[1])\n",
        "df_NN_04 = pd.DataFrame({\"Model\"           : ['nn_keras_adam'],\n",
        "                         \"Accuracy_score\"  : [score[1]]\n",
        "                        })\n",
        "\n",
        "score = modelo_adamax.evaluate(X_test_, y_test_, verbose=0)\n",
        "print('Adamax')\n",
        "print('Test loss:', score[0])\n",
        "print('Test accuracy:', score[1])\n",
        "df_NN_05 = pd.DataFrame({\"Model\"           : ['nn_keras_adamax'],\n",
        "                         \"Accuracy_score\"  : [score[1]]\n",
        "                        })\n",
        "\n",
        "score = modelo_nadam.evaluate(X_test_, y_test_, verbose=0)\n",
        "print('Nadam')\n",
        "print('Test loss:', score[0])\n",
        "print('Test accuracy:', score[1])\n",
        "df_NN_11 = pd.DataFrame({\"Model\"           : ['nn_keras_nadam'],\n",
        "                         \"Accuracy_score\"  : [score[1]]\n",
        "                        })\n",
        "\n",
        "score = modelo_rmsprop.evaluate(X_test_, y_test_, verbose=0)\n",
        "print('RMSprop')\n",
        "print('Test loss:', score[0])\n",
        "print('Test accuracy:', score[1])\n",
        "df_NN_06 = pd.DataFrame({\"Model\"           : ['nn_keras_rmsprop'],\n",
        "                         \"Accuracy_score\"  : [score[1]]\n",
        "                        })\n",
        "\n",
        "score = modelo_sgd_01.evaluate(X_test_, y_test_, verbose=0)\n",
        "print('SGD_01')\n",
        "print('Test loss:', score[0])\n",
        "print('Test accuracy:', score[1])\n",
        "df_NN_07 = pd.DataFrame({\"Model\"           : ['nn_keras_sgd_01'],\n",
        "                         \"Accuracy_score\"  : [score[1]]\n",
        "                        })\n",
        "\n",
        "score = modelo_sgd_02.evaluate(X_test_, y_test_, verbose=0)\n",
        "print('SGD_02')\n",
        "print('Test loss:', score[0])\n",
        "print('Test accuracy:', score[1])\n",
        "df_NN_08 = pd.DataFrame({\"Model\"           : ['nn_keras_sgd_02'],\n",
        "                         \"Accuracy_score\"  : [score[1]]\n",
        "                        })"
      ],
      "execution_count": 20,
      "outputs": [
        {
          "output_type": "stream",
          "text": [
            "Adadelta\n",
            "Test loss: 0.6937808845500754\n",
            "Test accuracy: 0.7447811365127563\n",
            "Adagrad\n",
            "Test loss: 0.6411905817552046\n",
            "Test accuracy: 0.7303030490875244\n",
            "Adam\n",
            "Test loss: 0.604572614435395\n",
            "Test accuracy: 0.7549495100975037\n",
            "Adamax\n",
            "Test loss: 0.6109984633176013\n",
            "Test accuracy: 0.748619556427002\n",
            "Nadam\n",
            "Test loss: 0.6116373324795604\n",
            "Test accuracy: 0.7515151500701904\n",
            "RMSprop\n",
            "Test loss: 2.2307577124830047\n",
            "Test accuracy: 0.7342761158943176\n",
            "SGD_01\n",
            "Test loss: 0.6392419873022471\n",
            "Test accuracy: 0.7263973355293274\n",
            "SGD_02\n",
            "Test loss: 0.7226443005089808\n",
            "Test accuracy: 0.7053872346878052\n"
          ],
          "name": "stdout"
        }
      ]
    },
    {
      "cell_type": "markdown",
      "metadata": {
        "id": "xY-t85u2ROY1",
        "colab_type": "text"
      },
      "source": [
        "Se ve que el rango de accuracy logrado es cercano, con un accuracy más bajo del 0.54 usando el optimizador SGD_02 y un accuracy más alto del 0.74 usando el optimizador Adamax.\n",
        "\n",
        "Veamos ahora que pasa al realizar algunas modificaciones sobre la Red Neuronal, aumentando el número de \"neuronas\" y agregando Dropout entre sus capas."
      ]
    },
    {
      "cell_type": "code",
      "metadata": {
        "id": "cQSsTWItUAFx",
        "colab_type": "code",
        "outputId": "f3cefb8f-5f5d-43c9-d2a0-1bc03ca13de4",
        "colab": {
          "base_uri": "https://localhost:8080/",
          "height": 68
        }
      },
      "source": [
        "# Se define el modelo para la Red Neuronal.\n",
        "def mod_red_neuronal_v2(optimizador):\n",
        "  model = Sequential()\n",
        "# La primera capa tiene 64 'neuronas', función de activación relu y 16 variables\n",
        "# de entrada.\n",
        "  model.add(Dense(128, activation='relu', input_dim=16))\n",
        "# Se agrega Dropout de un 0.1\n",
        "  model.add(Dropout(0.1))\n",
        "# La segunda capa tiene 32 'neuronas' y función de activación relu.\n",
        "  model.add(Dense(64, activation='relu'))\n",
        "  # Se agrega Dropout de un 0.1\n",
        "  model.add(Dropout(0.1))\n",
        "# La capa de salida, considera las 3 clases y función de activación softmax.\n",
        "  model.add(Dense(3, activation='softmax'))\n",
        "\n",
        "# Se instancia el modelo, usando optimizador rmsprop, función de pérdida \n",
        "# categorical_crossentropy y métrica accuracy.\n",
        "  model.compile(optimizer=optimizador,\n",
        "                loss='categorical_crossentropy',\n",
        "                metrics=['accuracy'])\n",
        "# Se mira el modelo y sus parámetros\n",
        "  return model\n",
        "\n",
        "# Se instancia la Red Neronal.  \n",
        "modelo_adamax_02     = mod_red_neuronal_v2(adamax)\n",
        "# Se entrena la Red Neuronal.\n",
        "modelo_adamax_02.fit(X_train_, y_train_, epochs=100, batch_size=64,verbose=0)\n",
        "# Se evalúa la Red Neuronal.\n",
        "score = modelo_adamax_02.evaluate(X_test_, y_test_, verbose=0)\n",
        "print('Adamax')\n",
        "print('Test loss:', score[0])\n",
        "print('Test accuracy:', score[1])\n",
        "df_NN_09 = pd.DataFrame({\"Model\"           : ['nn_adamax_02'],\n",
        "                         \"Accuracy_score\"  : [score[1]]\n",
        "                        })"
      ],
      "execution_count": 21,
      "outputs": [
        {
          "output_type": "stream",
          "text": [
            "Adamax\n",
            "Test loss: 0.5874325426660403\n",
            "Test accuracy: 0.7563636302947998\n"
          ],
          "name": "stdout"
        }
      ]
    },
    {
      "cell_type": "markdown",
      "metadata": {
        "id": "tOI5PdZBYsD9",
        "colab_type": "text"
      },
      "source": [
        "Se mejora un poco el accuracy de 0.74 a 0.75."
      ]
    },
    {
      "cell_type": "markdown",
      "metadata": {
        "id": "G9sqcqqAGB1J",
        "colab_type": "text"
      },
      "source": [
        "## <a id='2.7'>2.7. Red Neuronal MLPClassifier de sklearn.</a>"
      ]
    },
    {
      "cell_type": "code",
      "metadata": {
        "id": "DaiG7evxHdH4",
        "colab_type": "code",
        "outputId": "3ea14555-6143-4f25-8c20-5c53d43fc74b",
        "colab": {
          "base_uri": "https://localhost:8080/",
          "height": 68
        }
      },
      "source": [
        "from sklearn.neural_network  import MLPClassifier\n",
        "#from sklearn.model_selection import train_test_split\n",
        "from sklearn.metrics         import accuracy_score\n",
        "from sklearn.metrics         import confusion_matrix\n",
        "from  warnings               import simplefilter\n",
        "from sklearn.exceptions      import ConvergenceWarning\n",
        "\n",
        "\n",
        "simplefilter(\"ignore\", category=ConvergenceWarning)\n",
        "\n",
        "clf = MLPClassifier(hidden_layer_sizes=(128,64,32), max_iter=1000, alpha=0.0001,\n",
        "                    solver='sgd', verbose=False, random_state=21, tol=0.0001,\n",
        "                    learning_rate_init = 0.001, batch_size=32)\n",
        "print('Inicio de entrenamiento de la Red Neuronal usando MLPClassifier')\n",
        "clf.fit(X_train_, y_train_)\n",
        "print('Entrenamiento realizado.')\n",
        "y_pred = clf.predict(X_test_)\n",
        "print('El accuracy logrado es:', round(accuracy_score(y_test_, y_pred),4) )\n",
        "df_NN_10 = pd.DataFrame({\"Model\"           : ['nn_MLPClassifier'],\n",
        "                         \"Accuracy_score\"  : [round(accuracy_score(y_test_, y_pred),4)]\n",
        "                         })\n"
      ],
      "execution_count": 22,
      "outputs": [
        {
          "output_type": "stream",
          "text": [
            "Inicio de entrenamiento de la Red Neuronal usando MLPClassifier\n",
            "Entrenamiento realizado.\n",
            "El accuracy logrado es: 0.7242\n"
          ],
          "name": "stdout"
        }
      ]
    },
    {
      "cell_type": "markdown",
      "metadata": {
        "id": "Sag3CO-ffqwb",
        "colab_type": "text"
      },
      "source": [
        "# <a id='3'>3. Rendimiento de los modelos</a>\n",
        "\n",
        "En este punto se realiza la revisión del rendimiento de los modelos predictivos del estado de las Bombas de agua implementados. "
      ]
    },
    {
      "cell_type": "code",
      "metadata": {
        "id": "evqj4wcufqwf",
        "colab_type": "code",
        "outputId": "effef42b-c5ea-44d9-ed2f-dc1185464b83",
        "colab": {
          "base_uri": "https://localhost:8080/",
          "height": 577
        }
      },
      "source": [
        "# Rendimiento de los  modelos\n",
        "\n",
        "# Se importan las librerias requeridas\n",
        "from sklearn.metrics import accuracy_score, recall_score, precision_score, roc_auc_score, f1_score\n",
        "from sklearn.metrics import cohen_kappa_score\n",
        "\n",
        "\n",
        "# Lleva el reporte de los modelos a un dataframe\n",
        "def model_report(model,training_x,testing_x,training_y,testing_y,name) :\n",
        "    model.fit(training_x,training_y)\n",
        "    predictions  = model.predict(testing_x)\n",
        "    accuracy     = accuracy_score(testing_y,predictions)\n",
        "#    recallscore  = recall_score(testing_y,predictions)\n",
        "#    precision    = precision_score(testing_y,predictions)\n",
        "#    roc_auc      = roc_auc_score(testing_y,predictions)\n",
        "#    f1score      = f1_score(testing_y,predictions) \n",
        "#    kappa_metric = cohen_kappa_score(testing_y,predictions)\n",
        "    \n",
        "    df = pd.DataFrame({\"Model\"           : [name],\n",
        "                       \"Accuracy_score\"  : [accuracy]\n",
        "#                       \"Recall_score\"    : [recallscore],\n",
        "#                       \"Precision\"       : [precision],\n",
        "#                       \"f1_score\"        : [f1score],\n",
        "#                       \"Area_under_curve\": [roc_auc],\n",
        "#                       \"Kappa_metric\"    : [kappa_metric],\n",
        "                      })\n",
        "    return df\n",
        "\n",
        "# Salidas para cada uno de los modelos\n",
        "model1 = model_report(logit,train_X,test_X,train_Y,test_Y,\n",
        "                      \"Logistic Regression\")\n",
        "model2 = model_report(logit_smote,os_smote_X,test_X,os_smote_Y,test_Y,\n",
        "                      \"Logistic Regression(SMOTE)\")\n",
        "model3 = model_report(xgc,os_smote_X,test_X,os_smote_Y,test_Y,\n",
        "                      \"XGBoost Classifier\")\n",
        "model4 = model_report(lgbm_c,os_smote_X,test_X,os_smote_Y,test_Y,\n",
        "                      \"LGBM Classifier\")\n",
        "model5 = model_report(bbc,os_smote_X,test_X,os_smote_Y,test_Y,\n",
        "                      \"Balanced Bagging Classifier\")\n",
        "\n",
        "\n",
        "\n",
        "# Junta todos los modelos\n",
        "model_performances = pd.concat([model1,model2,model3,\n",
        "                                model4,model5,\n",
        "                                df_NN_01,df_NN_02,df_NN_03,\n",
        "                                df_NN_04,df_NN_05,df_NN_06,\n",
        "                                df_NN_07,df_NN_08,df_NN_09,\n",
        "                                df_NN_10,df_NN_11],axis = 0).reset_index()\n",
        "\n",
        "model_performances      = model_performances.drop(columns = \"index\",axis =1)\n",
        "model_performances_sort = model_performances.sort_values(by='Accuracy_score',\n",
        "                                                         ascending=False)\n",
        "\n",
        "table  = ff.create_table(np.round(model_performances_sort,4))\n",
        "\n",
        "py.iplot(table)\n"
      ],
      "execution_count": 23,
      "outputs": [
        {
          "output_type": "display_data",
          "data": {
            "text/html": [
              "<html>\n",
              "<head><meta charset=\"utf-8\" /></head>\n",
              "<body>\n",
              "    <div>\n",
              "            <script src=\"https://cdnjs.cloudflare.com/ajax/libs/mathjax/2.7.5/MathJax.js?config=TeX-AMS-MML_SVG\"></script><script type=\"text/javascript\">if (window.MathJax) {MathJax.Hub.Config({SVG: {font: \"STIX-Web\"}});}</script>\n",
              "                <script type=\"text/javascript\">window.PlotlyConfig = {MathJaxConfig: 'local'};</script>\n",
              "        <script src=\"https://cdn.plot.ly/plotly-latest.min.js\"></script>    \n",
              "            <div id=\"f2206029-2dab-4518-9bac-2cc97ec428cf\" class=\"plotly-graph-div\" style=\"height:560px; width:100%;\"></div>\n",
              "            <script type=\"text/javascript\">\n",
              "                \n",
              "                    window.PLOTLYENV=window.PLOTLYENV || {};\n",
              "                    \n",
              "                if (document.getElementById(\"f2206029-2dab-4518-9bac-2cc97ec428cf\")) {\n",
              "                    Plotly.newPlot(\n",
              "                        'f2206029-2dab-4518-9bac-2cc97ec428cf',\n",
              "                        [{\"colorscale\": [[0, \"#00083e\"], [0.5, \"#ededee\"], [1, \"#ffffff\"]], \"hoverinfo\": \"none\", \"opacity\": 0.75, \"showscale\": false, \"type\": \"heatmap\", \"z\": [[0, 0], [0.5, 0.5], [1, 1], [0.5, 0.5], [1, 1], [0.5, 0.5], [1, 1], [0.5, 0.5], [1, 1], [0.5, 0.5], [1, 1], [0.5, 0.5], [1, 1], [0.5, 0.5], [1, 1], [0.5, 0.5], [1, 1]]}],\n",
              "                        {\"annotations\": [{\"align\": \"left\", \"font\": {\"color\": \"#ffffff\"}, \"showarrow\": false, \"text\": \"<b>Model</b>\", \"x\": -0.45, \"xanchor\": \"left\", \"xref\": \"x\", \"y\": 0, \"yref\": \"y\"}, {\"align\": \"left\", \"font\": {\"color\": \"#ffffff\"}, \"showarrow\": false, \"text\": \"<b>Accuracy_score</b>\", \"x\": 0.55, \"xanchor\": \"left\", \"xref\": \"x\", \"y\": 0, \"yref\": \"y\"}, {\"align\": \"left\", \"font\": {\"color\": \"#000000\"}, \"showarrow\": false, \"text\": \"Balanced Bagging Classifier\", \"x\": -0.45, \"xanchor\": \"left\", \"xref\": \"x\", \"y\": 1, \"yref\": \"y\"}, {\"align\": \"left\", \"font\": {\"color\": \"#000000\"}, \"showarrow\": false, \"text\": \"0.8362\", \"x\": 0.55, \"xanchor\": \"left\", \"xref\": \"x\", \"y\": 1, \"yref\": \"y\"}, {\"align\": \"left\", \"font\": {\"color\": \"#000000\"}, \"showarrow\": false, \"text\": \"XGBoost Classifier\", \"x\": -0.45, \"xanchor\": \"left\", \"xref\": \"x\", \"y\": 2, \"yref\": \"y\"}, {\"align\": \"left\", \"font\": {\"color\": \"#000000\"}, \"showarrow\": false, \"text\": \"0.8221\", \"x\": 0.55, \"xanchor\": \"left\", \"xref\": \"x\", \"y\": 2, \"yref\": \"y\"}, {\"align\": \"left\", \"font\": {\"color\": \"#000000\"}, \"showarrow\": false, \"text\": \"LGBM Classifier\", \"x\": -0.45, \"xanchor\": \"left\", \"xref\": \"x\", \"y\": 3, \"yref\": \"y\"}, {\"align\": \"left\", \"font\": {\"color\": \"#000000\"}, \"showarrow\": false, \"text\": \"0.8076\", \"x\": 0.55, \"xanchor\": \"left\", \"xref\": \"x\", \"y\": 3, \"yref\": \"y\"}, {\"align\": \"left\", \"font\": {\"color\": \"#000000\"}, \"showarrow\": false, \"text\": \"nn_adamax_02\", \"x\": -0.45, \"xanchor\": \"left\", \"xref\": \"x\", \"y\": 4, \"yref\": \"y\"}, {\"align\": \"left\", \"font\": {\"color\": \"#000000\"}, \"showarrow\": false, \"text\": \"0.7564\", \"x\": 0.55, \"xanchor\": \"left\", \"xref\": \"x\", \"y\": 4, \"yref\": \"y\"}, {\"align\": \"left\", \"font\": {\"color\": \"#000000\"}, \"showarrow\": false, \"text\": \"nn_keras_adam\", \"x\": -0.45, \"xanchor\": \"left\", \"xref\": \"x\", \"y\": 5, \"yref\": \"y\"}, {\"align\": \"left\", \"font\": {\"color\": \"#000000\"}, \"showarrow\": false, \"text\": \"0.7549\", \"x\": 0.55, \"xanchor\": \"left\", \"xref\": \"x\", \"y\": 5, \"yref\": \"y\"}, {\"align\": \"left\", \"font\": {\"color\": \"#000000\"}, \"showarrow\": false, \"text\": \"nn_keras_nadam\", \"x\": -0.45, \"xanchor\": \"left\", \"xref\": \"x\", \"y\": 6, \"yref\": \"y\"}, {\"align\": \"left\", \"font\": {\"color\": \"#000000\"}, \"showarrow\": false, \"text\": \"0.7515\", \"x\": 0.55, \"xanchor\": \"left\", \"xref\": \"x\", \"y\": 6, \"yref\": \"y\"}, {\"align\": \"left\", \"font\": {\"color\": \"#000000\"}, \"showarrow\": false, \"text\": \"nn_keras_adamax\", \"x\": -0.45, \"xanchor\": \"left\", \"xref\": \"x\", \"y\": 7, \"yref\": \"y\"}, {\"align\": \"left\", \"font\": {\"color\": \"#000000\"}, \"showarrow\": false, \"text\": \"0.7486\", \"x\": 0.55, \"xanchor\": \"left\", \"xref\": \"x\", \"y\": 7, \"yref\": \"y\"}, {\"align\": \"left\", \"font\": {\"color\": \"#000000\"}, \"showarrow\": false, \"text\": \"nn_keras_adadelta\", \"x\": -0.45, \"xanchor\": \"left\", \"xref\": \"x\", \"y\": 8, \"yref\": \"y\"}, {\"align\": \"left\", \"font\": {\"color\": \"#000000\"}, \"showarrow\": false, \"text\": \"0.7448\", \"x\": 0.55, \"xanchor\": \"left\", \"xref\": \"x\", \"y\": 8, \"yref\": \"y\"}, {\"align\": \"left\", \"font\": {\"color\": \"#000000\"}, \"showarrow\": false, \"text\": \"nn_keras_rmsprop\", \"x\": -0.45, \"xanchor\": \"left\", \"xref\": \"x\", \"y\": 9, \"yref\": \"y\"}, {\"align\": \"left\", \"font\": {\"color\": \"#000000\"}, \"showarrow\": false, \"text\": \"0.7343\", \"x\": 0.55, \"xanchor\": \"left\", \"xref\": \"x\", \"y\": 9, \"yref\": \"y\"}, {\"align\": \"left\", \"font\": {\"color\": \"#000000\"}, \"showarrow\": false, \"text\": \"nn_keras_rmsprop_01\", \"x\": -0.45, \"xanchor\": \"left\", \"xref\": \"x\", \"y\": 10, \"yref\": \"y\"}, {\"align\": \"left\", \"font\": {\"color\": \"#000000\"}, \"showarrow\": false, \"text\": \"0.7333\", \"x\": 0.55, \"xanchor\": \"left\", \"xref\": \"x\", \"y\": 10, \"yref\": \"y\"}, {\"align\": \"left\", \"font\": {\"color\": \"#000000\"}, \"showarrow\": false, \"text\": \"nn_keras_adagrad\", \"x\": -0.45, \"xanchor\": \"left\", \"xref\": \"x\", \"y\": 11, \"yref\": \"y\"}, {\"align\": \"left\", \"font\": {\"color\": \"#000000\"}, \"showarrow\": false, \"text\": \"0.7303\", \"x\": 0.55, \"xanchor\": \"left\", \"xref\": \"x\", \"y\": 11, \"yref\": \"y\"}, {\"align\": \"left\", \"font\": {\"color\": \"#000000\"}, \"showarrow\": false, \"text\": \"nn_keras_sgd_01\", \"x\": -0.45, \"xanchor\": \"left\", \"xref\": \"x\", \"y\": 12, \"yref\": \"y\"}, {\"align\": \"left\", \"font\": {\"color\": \"#000000\"}, \"showarrow\": false, \"text\": \"0.7264\", \"x\": 0.55, \"xanchor\": \"left\", \"xref\": \"x\", \"y\": 12, \"yref\": \"y\"}, {\"align\": \"left\", \"font\": {\"color\": \"#000000\"}, \"showarrow\": false, \"text\": \"nn_MLPClassifier\", \"x\": -0.45, \"xanchor\": \"left\", \"xref\": \"x\", \"y\": 13, \"yref\": \"y\"}, {\"align\": \"left\", \"font\": {\"color\": \"#000000\"}, \"showarrow\": false, \"text\": \"0.7242\", \"x\": 0.55, \"xanchor\": \"left\", \"xref\": \"x\", \"y\": 13, \"yref\": \"y\"}, {\"align\": \"left\", \"font\": {\"color\": \"#000000\"}, \"showarrow\": false, \"text\": \"nn_keras_sgd_02\", \"x\": -0.45, \"xanchor\": \"left\", \"xref\": \"x\", \"y\": 14, \"yref\": \"y\"}, {\"align\": \"left\", \"font\": {\"color\": \"#000000\"}, \"showarrow\": false, \"text\": \"0.7054\", \"x\": 0.55, \"xanchor\": \"left\", \"xref\": \"x\", \"y\": 14, \"yref\": \"y\"}, {\"align\": \"left\", \"font\": {\"color\": \"#000000\"}, \"showarrow\": false, \"text\": \"Logistic Regression\", \"x\": -0.45, \"xanchor\": \"left\", \"xref\": \"x\", \"y\": 15, \"yref\": \"y\"}, {\"align\": \"left\", \"font\": {\"color\": \"#000000\"}, \"showarrow\": false, \"text\": \"0.5974\", \"x\": 0.55, \"xanchor\": \"left\", \"xref\": \"x\", \"y\": 15, \"yref\": \"y\"}, {\"align\": \"left\", \"font\": {\"color\": \"#000000\"}, \"showarrow\": false, \"text\": \"Logistic Regression(SMOTE)\", \"x\": -0.45, \"xanchor\": \"left\", \"xref\": \"x\", \"y\": 16, \"yref\": \"y\"}, {\"align\": \"left\", \"font\": {\"color\": \"#000000\"}, \"showarrow\": false, \"text\": \"0.4634\", \"x\": 0.55, \"xanchor\": \"left\", \"xref\": \"x\", \"y\": 16, \"yref\": \"y\"}], \"height\": 560, \"margin\": {\"b\": 0, \"l\": 0, \"r\": 0, \"t\": 0}, \"template\": {\"data\": {\"bar\": [{\"error_x\": {\"color\": \"#2a3f5f\"}, \"error_y\": {\"color\": \"#2a3f5f\"}, \"marker\": {\"line\": {\"color\": \"#E5ECF6\", \"width\": 0.5}}, \"type\": \"bar\"}], \"barpolar\": [{\"marker\": {\"line\": {\"color\": \"#E5ECF6\", \"width\": 0.5}}, \"type\": \"barpolar\"}], \"carpet\": [{\"aaxis\": {\"endlinecolor\": \"#2a3f5f\", \"gridcolor\": \"white\", \"linecolor\": \"white\", \"minorgridcolor\": \"white\", \"startlinecolor\": \"#2a3f5f\"}, \"baxis\": {\"endlinecolor\": \"#2a3f5f\", \"gridcolor\": \"white\", \"linecolor\": \"white\", \"minorgridcolor\": \"white\", \"startlinecolor\": \"#2a3f5f\"}, \"type\": \"carpet\"}], \"choropleth\": [{\"colorbar\": {\"outlinewidth\": 0, \"ticks\": \"\"}, \"type\": \"choropleth\"}], \"contour\": [{\"colorbar\": {\"outlinewidth\": 0, \"ticks\": \"\"}, \"colorscale\": [[0.0, \"#0d0887\"], [0.1111111111111111, \"#46039f\"], [0.2222222222222222, \"#7201a8\"], [0.3333333333333333, \"#9c179e\"], [0.4444444444444444, \"#bd3786\"], [0.5555555555555556, \"#d8576b\"], [0.6666666666666666, \"#ed7953\"], [0.7777777777777778, \"#fb9f3a\"], [0.8888888888888888, \"#fdca26\"], [1.0, \"#f0f921\"]], \"type\": \"contour\"}], \"contourcarpet\": [{\"colorbar\": {\"outlinewidth\": 0, \"ticks\": \"\"}, \"type\": \"contourcarpet\"}], \"heatmap\": [{\"colorbar\": {\"outlinewidth\": 0, \"ticks\": \"\"}, \"colorscale\": [[0.0, \"#0d0887\"], [0.1111111111111111, \"#46039f\"], [0.2222222222222222, \"#7201a8\"], [0.3333333333333333, \"#9c179e\"], [0.4444444444444444, \"#bd3786\"], [0.5555555555555556, \"#d8576b\"], [0.6666666666666666, \"#ed7953\"], [0.7777777777777778, \"#fb9f3a\"], [0.8888888888888888, \"#fdca26\"], [1.0, \"#f0f921\"]], \"type\": \"heatmap\"}], \"heatmapgl\": [{\"colorbar\": {\"outlinewidth\": 0, \"ticks\": \"\"}, \"colorscale\": [[0.0, \"#0d0887\"], [0.1111111111111111, \"#46039f\"], [0.2222222222222222, \"#7201a8\"], [0.3333333333333333, \"#9c179e\"], [0.4444444444444444, \"#bd3786\"], [0.5555555555555556, \"#d8576b\"], [0.6666666666666666, \"#ed7953\"], [0.7777777777777778, \"#fb9f3a\"], [0.8888888888888888, \"#fdca26\"], [1.0, \"#f0f921\"]], \"type\": \"heatmapgl\"}], \"histogram\": [{\"marker\": {\"colorbar\": {\"outlinewidth\": 0, \"ticks\": \"\"}}, \"type\": \"histogram\"}], \"histogram2d\": [{\"colorbar\": {\"outlinewidth\": 0, \"ticks\": \"\"}, \"colorscale\": [[0.0, \"#0d0887\"], [0.1111111111111111, \"#46039f\"], [0.2222222222222222, \"#7201a8\"], [0.3333333333333333, \"#9c179e\"], [0.4444444444444444, \"#bd3786\"], [0.5555555555555556, \"#d8576b\"], [0.6666666666666666, \"#ed7953\"], [0.7777777777777778, \"#fb9f3a\"], [0.8888888888888888, \"#fdca26\"], [1.0, \"#f0f921\"]], \"type\": \"histogram2d\"}], \"histogram2dcontour\": [{\"colorbar\": {\"outlinewidth\": 0, \"ticks\": \"\"}, \"colorscale\": [[0.0, \"#0d0887\"], [0.1111111111111111, \"#46039f\"], [0.2222222222222222, \"#7201a8\"], [0.3333333333333333, \"#9c179e\"], [0.4444444444444444, \"#bd3786\"], [0.5555555555555556, \"#d8576b\"], [0.6666666666666666, \"#ed7953\"], [0.7777777777777778, \"#fb9f3a\"], [0.8888888888888888, \"#fdca26\"], [1.0, \"#f0f921\"]], \"type\": \"histogram2dcontour\"}], \"mesh3d\": [{\"colorbar\": {\"outlinewidth\": 0, \"ticks\": \"\"}, \"type\": \"mesh3d\"}], \"parcoords\": [{\"line\": {\"colorbar\": {\"outlinewidth\": 0, \"ticks\": \"\"}}, \"type\": \"parcoords\"}], \"pie\": [{\"automargin\": true, \"type\": \"pie\"}], \"scatter\": [{\"marker\": {\"colorbar\": {\"outlinewidth\": 0, \"ticks\": \"\"}}, \"type\": \"scatter\"}], \"scatter3d\": [{\"line\": {\"colorbar\": {\"outlinewidth\": 0, \"ticks\": \"\"}}, \"marker\": {\"colorbar\": {\"outlinewidth\": 0, \"ticks\": \"\"}}, \"type\": \"scatter3d\"}], \"scattercarpet\": [{\"marker\": {\"colorbar\": {\"outlinewidth\": 0, \"ticks\": \"\"}}, \"type\": \"scattercarpet\"}], \"scattergeo\": [{\"marker\": {\"colorbar\": {\"outlinewidth\": 0, \"ticks\": \"\"}}, \"type\": \"scattergeo\"}], \"scattergl\": [{\"marker\": {\"colorbar\": {\"outlinewidth\": 0, \"ticks\": \"\"}}, \"type\": \"scattergl\"}], \"scattermapbox\": [{\"marker\": {\"colorbar\": {\"outlinewidth\": 0, \"ticks\": \"\"}}, \"type\": \"scattermapbox\"}], \"scatterpolar\": [{\"marker\": {\"colorbar\": {\"outlinewidth\": 0, \"ticks\": \"\"}}, \"type\": \"scatterpolar\"}], \"scatterpolargl\": [{\"marker\": {\"colorbar\": {\"outlinewidth\": 0, \"ticks\": \"\"}}, \"type\": \"scatterpolargl\"}], \"scatterternary\": [{\"marker\": {\"colorbar\": {\"outlinewidth\": 0, \"ticks\": \"\"}}, \"type\": \"scatterternary\"}], \"surface\": [{\"colorbar\": {\"outlinewidth\": 0, \"ticks\": \"\"}, \"colorscale\": [[0.0, \"#0d0887\"], [0.1111111111111111, \"#46039f\"], [0.2222222222222222, \"#7201a8\"], [0.3333333333333333, \"#9c179e\"], [0.4444444444444444, \"#bd3786\"], [0.5555555555555556, \"#d8576b\"], [0.6666666666666666, \"#ed7953\"], [0.7777777777777778, \"#fb9f3a\"], [0.8888888888888888, \"#fdca26\"], [1.0, \"#f0f921\"]], \"type\": \"surface\"}], \"table\": [{\"cells\": {\"fill\": {\"color\": \"#EBF0F8\"}, \"line\": {\"color\": \"white\"}}, \"header\": {\"fill\": {\"color\": \"#C8D4E3\"}, \"line\": {\"color\": \"white\"}}, \"type\": \"table\"}]}, \"layout\": {\"annotationdefaults\": {\"arrowcolor\": \"#2a3f5f\", \"arrowhead\": 0, \"arrowwidth\": 1}, \"coloraxis\": {\"colorbar\": {\"outlinewidth\": 0, \"ticks\": \"\"}}, \"colorscale\": {\"diverging\": [[0, \"#8e0152\"], [0.1, \"#c51b7d\"], [0.2, \"#de77ae\"], [0.3, \"#f1b6da\"], [0.4, \"#fde0ef\"], [0.5, \"#f7f7f7\"], [0.6, \"#e6f5d0\"], [0.7, \"#b8e186\"], [0.8, \"#7fbc41\"], [0.9, \"#4d9221\"], [1, \"#276419\"]], \"sequential\": [[0.0, \"#0d0887\"], [0.1111111111111111, \"#46039f\"], [0.2222222222222222, \"#7201a8\"], [0.3333333333333333, \"#9c179e\"], [0.4444444444444444, \"#bd3786\"], [0.5555555555555556, \"#d8576b\"], [0.6666666666666666, \"#ed7953\"], [0.7777777777777778, \"#fb9f3a\"], [0.8888888888888888, \"#fdca26\"], [1.0, \"#f0f921\"]], \"sequentialminus\": [[0.0, \"#0d0887\"], [0.1111111111111111, \"#46039f\"], [0.2222222222222222, \"#7201a8\"], [0.3333333333333333, \"#9c179e\"], [0.4444444444444444, \"#bd3786\"], [0.5555555555555556, \"#d8576b\"], [0.6666666666666666, \"#ed7953\"], [0.7777777777777778, \"#fb9f3a\"], [0.8888888888888888, \"#fdca26\"], [1.0, \"#f0f921\"]]}, \"colorway\": [\"#636efa\", \"#EF553B\", \"#00cc96\", \"#ab63fa\", \"#FFA15A\", \"#19d3f3\", \"#FF6692\", \"#B6E880\", \"#FF97FF\", \"#FECB52\"], \"font\": {\"color\": \"#2a3f5f\"}, \"geo\": {\"bgcolor\": \"white\", \"lakecolor\": \"white\", \"landcolor\": \"#E5ECF6\", \"showlakes\": true, \"showland\": true, \"subunitcolor\": \"white\"}, \"hoverlabel\": {\"align\": \"left\"}, \"hovermode\": \"closest\", \"mapbox\": {\"style\": \"light\"}, \"paper_bgcolor\": \"white\", \"plot_bgcolor\": \"#E5ECF6\", \"polar\": {\"angularaxis\": {\"gridcolor\": \"white\", \"linecolor\": \"white\", \"ticks\": \"\"}, \"bgcolor\": \"#E5ECF6\", \"radialaxis\": {\"gridcolor\": \"white\", \"linecolor\": \"white\", \"ticks\": \"\"}}, \"scene\": {\"xaxis\": {\"backgroundcolor\": \"#E5ECF6\", \"gridcolor\": \"white\", \"gridwidth\": 2, \"linecolor\": \"white\", \"showbackground\": true, \"ticks\": \"\", \"zerolinecolor\": \"white\"}, \"yaxis\": {\"backgroundcolor\": \"#E5ECF6\", \"gridcolor\": \"white\", \"gridwidth\": 2, \"linecolor\": \"white\", \"showbackground\": true, \"ticks\": \"\", \"zerolinecolor\": \"white\"}, \"zaxis\": {\"backgroundcolor\": \"#E5ECF6\", \"gridcolor\": \"white\", \"gridwidth\": 2, \"linecolor\": \"white\", \"showbackground\": true, \"ticks\": \"\", \"zerolinecolor\": \"white\"}}, \"shapedefaults\": {\"line\": {\"color\": \"#2a3f5f\"}}, \"ternary\": {\"aaxis\": {\"gridcolor\": \"white\", \"linecolor\": \"white\", \"ticks\": \"\"}, \"baxis\": {\"gridcolor\": \"white\", \"linecolor\": \"white\", \"ticks\": \"\"}, \"bgcolor\": \"#E5ECF6\", \"caxis\": {\"gridcolor\": \"white\", \"linecolor\": \"white\", \"ticks\": \"\"}}, \"title\": {\"x\": 0.05}, \"xaxis\": {\"automargin\": true, \"gridcolor\": \"white\", \"linecolor\": \"white\", \"ticks\": \"\", \"title\": {\"standoff\": 15}, \"zerolinecolor\": \"white\", \"zerolinewidth\": 2}, \"yaxis\": {\"automargin\": true, \"gridcolor\": \"white\", \"linecolor\": \"white\", \"ticks\": \"\", \"title\": {\"standoff\": 15}, \"zerolinecolor\": \"white\", \"zerolinewidth\": 2}}}, \"xaxis\": {\"dtick\": 1, \"gridwidth\": 2, \"showticklabels\": false, \"tick0\": -0.5, \"ticks\": \"\", \"zeroline\": false}, \"yaxis\": {\"autorange\": \"reversed\", \"dtick\": 1, \"gridwidth\": 2, \"showticklabels\": false, \"tick0\": 0.5, \"ticks\": \"\", \"zeroline\": false}},\n",
              "                        {\"responsive\": true}\n",
              "                    ).then(function(){\n",
              "                            \n",
              "var gd = document.getElementById('f2206029-2dab-4518-9bac-2cc97ec428cf');\n",
              "var x = new MutationObserver(function (mutations, observer) {{\n",
              "        var display = window.getComputedStyle(gd).display;\n",
              "        if (!display || display === 'none') {{\n",
              "            console.log([gd, 'removed!']);\n",
              "            Plotly.purge(gd);\n",
              "            observer.disconnect();\n",
              "        }}\n",
              "}});\n",
              "\n",
              "// Listen for the removal of the full notebook cells\n",
              "var notebookContainer = gd.closest('#notebook-container');\n",
              "if (notebookContainer) {{\n",
              "    x.observe(notebookContainer, {childList: true});\n",
              "}}\n",
              "\n",
              "// Listen for the clearing of the current output cell\n",
              "var outputEl = gd.closest('.output');\n",
              "if (outputEl) {{\n",
              "    x.observe(outputEl, {childList: true});\n",
              "}}\n",
              "\n",
              "                        })\n",
              "                };\n",
              "                \n",
              "            </script>\n",
              "        </div>\n",
              "</body>\n",
              "</html>"
            ]
          },
          "metadata": {
            "tags": []
          }
        }
      ]
    },
    {
      "cell_type": "code",
      "metadata": {
        "id": "fif3Pd8Pfqwx",
        "colab_type": "code",
        "outputId": "66f42b23-a7e3-4716-f678-cff3e28dcae9",
        "colab": {
          "base_uri": "https://localhost:8080/",
          "height": 545
        }
      },
      "source": [
        "# Se mira directamente Dataframe que contiene el rendimiento de los modelos entrenados.\n",
        "model_performances_sort.reset_index(drop=True,inplace=True)\n",
        "model_performances_sort"
      ],
      "execution_count": 24,
      "outputs": [
        {
          "output_type": "execute_result",
          "data": {
            "text/html": [
              "<div>\n",
              "<style scoped>\n",
              "    .dataframe tbody tr th:only-of-type {\n",
              "        vertical-align: middle;\n",
              "    }\n",
              "\n",
              "    .dataframe tbody tr th {\n",
              "        vertical-align: top;\n",
              "    }\n",
              "\n",
              "    .dataframe thead th {\n",
              "        text-align: right;\n",
              "    }\n",
              "</style>\n",
              "<table border=\"1\" class=\"dataframe\">\n",
              "  <thead>\n",
              "    <tr style=\"text-align: right;\">\n",
              "      <th></th>\n",
              "      <th>Model</th>\n",
              "      <th>Accuracy_score</th>\n",
              "    </tr>\n",
              "  </thead>\n",
              "  <tbody>\n",
              "    <tr>\n",
              "      <th>0</th>\n",
              "      <td>Balanced Bagging Classifier</td>\n",
              "      <td>0.836162</td>\n",
              "    </tr>\n",
              "    <tr>\n",
              "      <th>1</th>\n",
              "      <td>XGBoost Classifier</td>\n",
              "      <td>0.822088</td>\n",
              "    </tr>\n",
              "    <tr>\n",
              "      <th>2</th>\n",
              "      <td>LGBM Classifier</td>\n",
              "      <td>0.807609</td>\n",
              "    </tr>\n",
              "    <tr>\n",
              "      <th>3</th>\n",
              "      <td>nn_adamax_02</td>\n",
              "      <td>0.756364</td>\n",
              "    </tr>\n",
              "    <tr>\n",
              "      <th>4</th>\n",
              "      <td>nn_keras_adam</td>\n",
              "      <td>0.754950</td>\n",
              "    </tr>\n",
              "    <tr>\n",
              "      <th>5</th>\n",
              "      <td>nn_keras_nadam</td>\n",
              "      <td>0.751515</td>\n",
              "    </tr>\n",
              "    <tr>\n",
              "      <th>6</th>\n",
              "      <td>nn_keras_adamax</td>\n",
              "      <td>0.748620</td>\n",
              "    </tr>\n",
              "    <tr>\n",
              "      <th>7</th>\n",
              "      <td>nn_keras_adadelta</td>\n",
              "      <td>0.744781</td>\n",
              "    </tr>\n",
              "    <tr>\n",
              "      <th>8</th>\n",
              "      <td>nn_keras_rmsprop</td>\n",
              "      <td>0.734276</td>\n",
              "    </tr>\n",
              "    <tr>\n",
              "      <th>9</th>\n",
              "      <td>nn_keras_rmsprop_01</td>\n",
              "      <td>0.733266</td>\n",
              "    </tr>\n",
              "    <tr>\n",
              "      <th>10</th>\n",
              "      <td>nn_keras_adagrad</td>\n",
              "      <td>0.730303</td>\n",
              "    </tr>\n",
              "    <tr>\n",
              "      <th>11</th>\n",
              "      <td>nn_keras_sgd_01</td>\n",
              "      <td>0.726397</td>\n",
              "    </tr>\n",
              "    <tr>\n",
              "      <th>12</th>\n",
              "      <td>nn_MLPClassifier</td>\n",
              "      <td>0.724200</td>\n",
              "    </tr>\n",
              "    <tr>\n",
              "      <th>13</th>\n",
              "      <td>nn_keras_sgd_02</td>\n",
              "      <td>0.705387</td>\n",
              "    </tr>\n",
              "    <tr>\n",
              "      <th>14</th>\n",
              "      <td>Logistic Regression</td>\n",
              "      <td>0.597441</td>\n",
              "    </tr>\n",
              "    <tr>\n",
              "      <th>15</th>\n",
              "      <td>Logistic Regression(SMOTE)</td>\n",
              "      <td>0.463434</td>\n",
              "    </tr>\n",
              "  </tbody>\n",
              "</table>\n",
              "</div>"
            ],
            "text/plain": [
              "                          Model  Accuracy_score\n",
              "0   Balanced Bagging Classifier        0.836162\n",
              "1            XGBoost Classifier        0.822088\n",
              "2               LGBM Classifier        0.807609\n",
              "3                  nn_adamax_02        0.756364\n",
              "4                 nn_keras_adam        0.754950\n",
              "5                nn_keras_nadam        0.751515\n",
              "6               nn_keras_adamax        0.748620\n",
              "7             nn_keras_adadelta        0.744781\n",
              "8              nn_keras_rmsprop        0.734276\n",
              "9           nn_keras_rmsprop_01        0.733266\n",
              "10             nn_keras_adagrad        0.730303\n",
              "11              nn_keras_sgd_01        0.726397\n",
              "12             nn_MLPClassifier        0.724200\n",
              "13              nn_keras_sgd_02        0.705387\n",
              "14          Logistic Regression        0.597441\n",
              "15   Logistic Regression(SMOTE)        0.463434"
            ]
          },
          "metadata": {
            "tags": []
          },
          "execution_count": 24
        }
      ]
    },
    {
      "cell_type": "markdown",
      "metadata": {
        "id": "DWYsWMJgfqxF",
        "colab_type": "text"
      },
      "source": [
        "## <a id='3.1'>3.1. Comparación de Métricas</a>\n",
        "\n",
        "Se efectúa la comparación de las métricas alcanzadas."
      ]
    },
    {
      "cell_type": "code",
      "metadata": {
        "id": "8Y0yRodnfqxK",
        "colab_type": "code",
        "outputId": "661aa089-2302-4187-9274-00ef5430c194",
        "colab": {
          "base_uri": "https://localhost:8080/",
          "height": 567
        }
      },
      "source": [
        "def output_tracer(metric,color) :\n",
        "    tracer = go.Bar(y = model_performances_sort[\"Model\"],\n",
        "                    x = model_performances_sort[metric],\n",
        "                    orientation = \"h\",name = metric ,\n",
        "                    marker = dict(line = dict(width =.7),\n",
        "                                  color = color)\n",
        "                   )\n",
        "    return tracer\n",
        "\n",
        "layout = go.Layout(dict(title = \"Model performances\",\n",
        "                        plot_bgcolor  = \"rgb(243,243,243)\",\n",
        "                        paper_bgcolor = \"rgb(243,243,243)\",\n",
        "                        xaxis = dict(gridcolor = 'rgb(255, 255, 255)',\n",
        "                                     title = \"Accuracy_score\",\n",
        "                                     zerolinewidth=1,\n",
        "                                     ticklen=5,gridwidth=2),\n",
        "                        yaxis = dict(gridcolor = 'rgb(255, 255, 255)',\n",
        "                                     zerolinewidth=1,ticklen=5,gridwidth=2),\n",
        "                        margin = dict(l = 250),\n",
        "                        height = 550\n",
        "                       )\n",
        "                  )\n",
        "\n",
        "\n",
        "trace1  = output_tracer(\"Accuracy_score\",\"#6699FF\")\n",
        "#trace2  = output_tracer('Recall_score',\"red\")\n",
        "#trace3  = output_tracer('Precision',\"#33CC99\")\n",
        "#trace4  = output_tracer('f1_score',\"lightgrey\")\n",
        "#trace5  = output_tracer('Kappa_metric',\"#FFCC99\")\n",
        "\n",
        "#data = [trace1,trace2,trace3,trace4,trace5]\n",
        "data = [trace1]\n",
        "fig = go.Figure(data=data,layout=layout)\n",
        "py.iplot(fig)\n"
      ],
      "execution_count": 25,
      "outputs": [
        {
          "output_type": "display_data",
          "data": {
            "text/html": [
              "<html>\n",
              "<head><meta charset=\"utf-8\" /></head>\n",
              "<body>\n",
              "    <div>\n",
              "            <script src=\"https://cdnjs.cloudflare.com/ajax/libs/mathjax/2.7.5/MathJax.js?config=TeX-AMS-MML_SVG\"></script><script type=\"text/javascript\">if (window.MathJax) {MathJax.Hub.Config({SVG: {font: \"STIX-Web\"}});}</script>\n",
              "                <script type=\"text/javascript\">window.PlotlyConfig = {MathJaxConfig: 'local'};</script>\n",
              "        <script src=\"https://cdn.plot.ly/plotly-latest.min.js\"></script>    \n",
              "            <div id=\"7a8cfd0b-dd74-44b4-aded-190832ffa4b4\" class=\"plotly-graph-div\" style=\"height:550px; width:100%;\"></div>\n",
              "            <script type=\"text/javascript\">\n",
              "                \n",
              "                    window.PLOTLYENV=window.PLOTLYENV || {};\n",
              "                    \n",
              "                if (document.getElementById(\"7a8cfd0b-dd74-44b4-aded-190832ffa4b4\")) {\n",
              "                    Plotly.newPlot(\n",
              "                        '7a8cfd0b-dd74-44b4-aded-190832ffa4b4',\n",
              "                        [{\"marker\": {\"color\": \"#6699FF\", \"line\": {\"width\": 0.7}}, \"name\": \"Accuracy_score\", \"orientation\": \"h\", \"type\": \"bar\", \"x\": [0.8361616161616162, 0.8220875420875421, 0.8076094276094276, 0.7563636302947998, 0.7549495100975037, 0.7515151500701904, 0.748619556427002, 0.7447811365127563, 0.7342761158943176, 0.7332659959793091, 0.7303030490875244, 0.7263973355293274, 0.7242, 0.7053872346878052, 0.5974410774410774, 0.4634343434343434], \"y\": [\"Balanced Bagging Classifier\", \"XGBoost Classifier\", \"LGBM Classifier\", \"nn_adamax_02\", \"nn_keras_adam\", \"nn_keras_nadam\", \"nn_keras_adamax\", \"nn_keras_adadelta\", \"nn_keras_rmsprop\", \"nn_keras_rmsprop_01\", \"nn_keras_adagrad\", \"nn_keras_sgd_01\", \"nn_MLPClassifier\", \"nn_keras_sgd_02\", \"Logistic Regression\", \"Logistic Regression(SMOTE)\"]}],\n",
              "                        {\"height\": 550, \"margin\": {\"l\": 250}, \"paper_bgcolor\": \"rgb(243,243,243)\", \"plot_bgcolor\": \"rgb(243,243,243)\", \"template\": {\"data\": {\"bar\": [{\"error_x\": {\"color\": \"#2a3f5f\"}, \"error_y\": {\"color\": \"#2a3f5f\"}, \"marker\": {\"line\": {\"color\": \"#E5ECF6\", \"width\": 0.5}}, \"type\": \"bar\"}], \"barpolar\": [{\"marker\": {\"line\": {\"color\": \"#E5ECF6\", \"width\": 0.5}}, \"type\": \"barpolar\"}], \"carpet\": [{\"aaxis\": {\"endlinecolor\": \"#2a3f5f\", \"gridcolor\": \"white\", \"linecolor\": \"white\", \"minorgridcolor\": \"white\", \"startlinecolor\": \"#2a3f5f\"}, \"baxis\": {\"endlinecolor\": \"#2a3f5f\", \"gridcolor\": \"white\", \"linecolor\": \"white\", \"minorgridcolor\": \"white\", \"startlinecolor\": \"#2a3f5f\"}, \"type\": \"carpet\"}], \"choropleth\": [{\"colorbar\": {\"outlinewidth\": 0, \"ticks\": \"\"}, \"type\": \"choropleth\"}], \"contour\": [{\"colorbar\": {\"outlinewidth\": 0, \"ticks\": \"\"}, \"colorscale\": [[0.0, \"#0d0887\"], [0.1111111111111111, \"#46039f\"], [0.2222222222222222, \"#7201a8\"], [0.3333333333333333, \"#9c179e\"], [0.4444444444444444, \"#bd3786\"], [0.5555555555555556, \"#d8576b\"], [0.6666666666666666, \"#ed7953\"], [0.7777777777777778, \"#fb9f3a\"], [0.8888888888888888, \"#fdca26\"], [1.0, \"#f0f921\"]], \"type\": \"contour\"}], \"contourcarpet\": [{\"colorbar\": {\"outlinewidth\": 0, \"ticks\": \"\"}, \"type\": \"contourcarpet\"}], \"heatmap\": [{\"colorbar\": {\"outlinewidth\": 0, \"ticks\": \"\"}, \"colorscale\": [[0.0, \"#0d0887\"], [0.1111111111111111, \"#46039f\"], [0.2222222222222222, \"#7201a8\"], [0.3333333333333333, \"#9c179e\"], [0.4444444444444444, \"#bd3786\"], [0.5555555555555556, \"#d8576b\"], [0.6666666666666666, \"#ed7953\"], [0.7777777777777778, \"#fb9f3a\"], [0.8888888888888888, \"#fdca26\"], [1.0, \"#f0f921\"]], \"type\": \"heatmap\"}], \"heatmapgl\": [{\"colorbar\": {\"outlinewidth\": 0, \"ticks\": \"\"}, \"colorscale\": [[0.0, \"#0d0887\"], [0.1111111111111111, \"#46039f\"], [0.2222222222222222, \"#7201a8\"], [0.3333333333333333, \"#9c179e\"], [0.4444444444444444, \"#bd3786\"], [0.5555555555555556, \"#d8576b\"], [0.6666666666666666, \"#ed7953\"], [0.7777777777777778, \"#fb9f3a\"], [0.8888888888888888, \"#fdca26\"], [1.0, \"#f0f921\"]], \"type\": \"heatmapgl\"}], \"histogram\": [{\"marker\": {\"colorbar\": {\"outlinewidth\": 0, \"ticks\": \"\"}}, \"type\": \"histogram\"}], \"histogram2d\": [{\"colorbar\": {\"outlinewidth\": 0, \"ticks\": \"\"}, \"colorscale\": [[0.0, \"#0d0887\"], [0.1111111111111111, \"#46039f\"], [0.2222222222222222, \"#7201a8\"], [0.3333333333333333, \"#9c179e\"], [0.4444444444444444, \"#bd3786\"], [0.5555555555555556, \"#d8576b\"], [0.6666666666666666, \"#ed7953\"], [0.7777777777777778, \"#fb9f3a\"], [0.8888888888888888, \"#fdca26\"], [1.0, \"#f0f921\"]], \"type\": \"histogram2d\"}], \"histogram2dcontour\": [{\"colorbar\": {\"outlinewidth\": 0, \"ticks\": \"\"}, \"colorscale\": [[0.0, \"#0d0887\"], [0.1111111111111111, \"#46039f\"], [0.2222222222222222, \"#7201a8\"], [0.3333333333333333, \"#9c179e\"], [0.4444444444444444, \"#bd3786\"], [0.5555555555555556, \"#d8576b\"], [0.6666666666666666, \"#ed7953\"], [0.7777777777777778, \"#fb9f3a\"], [0.8888888888888888, \"#fdca26\"], [1.0, \"#f0f921\"]], \"type\": \"histogram2dcontour\"}], \"mesh3d\": [{\"colorbar\": {\"outlinewidth\": 0, \"ticks\": \"\"}, \"type\": \"mesh3d\"}], \"parcoords\": [{\"line\": {\"colorbar\": {\"outlinewidth\": 0, \"ticks\": \"\"}}, \"type\": \"parcoords\"}], \"pie\": [{\"automargin\": true, \"type\": \"pie\"}], \"scatter\": [{\"marker\": {\"colorbar\": {\"outlinewidth\": 0, \"ticks\": \"\"}}, \"type\": \"scatter\"}], \"scatter3d\": [{\"line\": {\"colorbar\": {\"outlinewidth\": 0, \"ticks\": \"\"}}, \"marker\": {\"colorbar\": {\"outlinewidth\": 0, \"ticks\": \"\"}}, \"type\": \"scatter3d\"}], \"scattercarpet\": [{\"marker\": {\"colorbar\": {\"outlinewidth\": 0, \"ticks\": \"\"}}, \"type\": \"scattercarpet\"}], \"scattergeo\": [{\"marker\": {\"colorbar\": {\"outlinewidth\": 0, \"ticks\": \"\"}}, \"type\": \"scattergeo\"}], \"scattergl\": [{\"marker\": {\"colorbar\": {\"outlinewidth\": 0, \"ticks\": \"\"}}, \"type\": \"scattergl\"}], \"scattermapbox\": [{\"marker\": {\"colorbar\": {\"outlinewidth\": 0, \"ticks\": \"\"}}, \"type\": \"scattermapbox\"}], \"scatterpolar\": [{\"marker\": {\"colorbar\": {\"outlinewidth\": 0, \"ticks\": \"\"}}, \"type\": \"scatterpolar\"}], \"scatterpolargl\": [{\"marker\": {\"colorbar\": {\"outlinewidth\": 0, \"ticks\": \"\"}}, \"type\": \"scatterpolargl\"}], \"scatterternary\": [{\"marker\": {\"colorbar\": {\"outlinewidth\": 0, \"ticks\": \"\"}}, \"type\": \"scatterternary\"}], \"surface\": [{\"colorbar\": {\"outlinewidth\": 0, \"ticks\": \"\"}, \"colorscale\": [[0.0, \"#0d0887\"], [0.1111111111111111, \"#46039f\"], [0.2222222222222222, \"#7201a8\"], [0.3333333333333333, \"#9c179e\"], [0.4444444444444444, \"#bd3786\"], [0.5555555555555556, \"#d8576b\"], [0.6666666666666666, \"#ed7953\"], [0.7777777777777778, \"#fb9f3a\"], [0.8888888888888888, \"#fdca26\"], [1.0, \"#f0f921\"]], \"type\": \"surface\"}], \"table\": [{\"cells\": {\"fill\": {\"color\": \"#EBF0F8\"}, \"line\": {\"color\": \"white\"}}, \"header\": {\"fill\": {\"color\": \"#C8D4E3\"}, \"line\": {\"color\": \"white\"}}, \"type\": \"table\"}]}, \"layout\": {\"annotationdefaults\": {\"arrowcolor\": \"#2a3f5f\", \"arrowhead\": 0, \"arrowwidth\": 1}, \"coloraxis\": {\"colorbar\": {\"outlinewidth\": 0, \"ticks\": \"\"}}, \"colorscale\": {\"diverging\": [[0, \"#8e0152\"], [0.1, \"#c51b7d\"], [0.2, \"#de77ae\"], [0.3, \"#f1b6da\"], [0.4, \"#fde0ef\"], [0.5, \"#f7f7f7\"], [0.6, \"#e6f5d0\"], [0.7, \"#b8e186\"], [0.8, \"#7fbc41\"], [0.9, \"#4d9221\"], [1, \"#276419\"]], \"sequential\": [[0.0, \"#0d0887\"], [0.1111111111111111, \"#46039f\"], [0.2222222222222222, \"#7201a8\"], [0.3333333333333333, \"#9c179e\"], [0.4444444444444444, \"#bd3786\"], [0.5555555555555556, \"#d8576b\"], [0.6666666666666666, \"#ed7953\"], [0.7777777777777778, \"#fb9f3a\"], [0.8888888888888888, \"#fdca26\"], [1.0, \"#f0f921\"]], \"sequentialminus\": [[0.0, \"#0d0887\"], [0.1111111111111111, \"#46039f\"], [0.2222222222222222, \"#7201a8\"], [0.3333333333333333, \"#9c179e\"], [0.4444444444444444, \"#bd3786\"], [0.5555555555555556, \"#d8576b\"], [0.6666666666666666, \"#ed7953\"], [0.7777777777777778, \"#fb9f3a\"], [0.8888888888888888, \"#fdca26\"], [1.0, \"#f0f921\"]]}, \"colorway\": [\"#636efa\", \"#EF553B\", \"#00cc96\", \"#ab63fa\", \"#FFA15A\", \"#19d3f3\", \"#FF6692\", \"#B6E880\", \"#FF97FF\", \"#FECB52\"], \"font\": {\"color\": \"#2a3f5f\"}, \"geo\": {\"bgcolor\": \"white\", \"lakecolor\": \"white\", \"landcolor\": \"#E5ECF6\", \"showlakes\": true, \"showland\": true, \"subunitcolor\": \"white\"}, \"hoverlabel\": {\"align\": \"left\"}, \"hovermode\": \"closest\", \"mapbox\": {\"style\": \"light\"}, \"paper_bgcolor\": \"white\", \"plot_bgcolor\": \"#E5ECF6\", \"polar\": {\"angularaxis\": {\"gridcolor\": \"white\", \"linecolor\": \"white\", \"ticks\": \"\"}, \"bgcolor\": \"#E5ECF6\", \"radialaxis\": {\"gridcolor\": \"white\", \"linecolor\": \"white\", \"ticks\": \"\"}}, \"scene\": {\"xaxis\": {\"backgroundcolor\": \"#E5ECF6\", \"gridcolor\": \"white\", \"gridwidth\": 2, \"linecolor\": \"white\", \"showbackground\": true, \"ticks\": \"\", \"zerolinecolor\": \"white\"}, \"yaxis\": {\"backgroundcolor\": \"#E5ECF6\", \"gridcolor\": \"white\", \"gridwidth\": 2, \"linecolor\": \"white\", \"showbackground\": true, \"ticks\": \"\", \"zerolinecolor\": \"white\"}, \"zaxis\": {\"backgroundcolor\": \"#E5ECF6\", \"gridcolor\": \"white\", \"gridwidth\": 2, \"linecolor\": \"white\", \"showbackground\": true, \"ticks\": \"\", \"zerolinecolor\": \"white\"}}, \"shapedefaults\": {\"line\": {\"color\": \"#2a3f5f\"}}, \"ternary\": {\"aaxis\": {\"gridcolor\": \"white\", \"linecolor\": \"white\", \"ticks\": \"\"}, \"baxis\": {\"gridcolor\": \"white\", \"linecolor\": \"white\", \"ticks\": \"\"}, \"bgcolor\": \"#E5ECF6\", \"caxis\": {\"gridcolor\": \"white\", \"linecolor\": \"white\", \"ticks\": \"\"}}, \"title\": {\"x\": 0.05}, \"xaxis\": {\"automargin\": true, \"gridcolor\": \"white\", \"linecolor\": \"white\", \"ticks\": \"\", \"title\": {\"standoff\": 15}, \"zerolinecolor\": \"white\", \"zerolinewidth\": 2}, \"yaxis\": {\"automargin\": true, \"gridcolor\": \"white\", \"linecolor\": \"white\", \"ticks\": \"\", \"title\": {\"standoff\": 15}, \"zerolinecolor\": \"white\", \"zerolinewidth\": 2}}}, \"title\": {\"text\": \"Model performances\"}, \"xaxis\": {\"gridcolor\": \"rgb(255, 255, 255)\", \"gridwidth\": 2, \"ticklen\": 5, \"title\": {\"text\": \"Accuracy_score\"}, \"zerolinewidth\": 1}, \"yaxis\": {\"gridcolor\": \"rgb(255, 255, 255)\", \"gridwidth\": 2, \"ticklen\": 5, \"zerolinewidth\": 1}},\n",
              "                        {\"responsive\": true}\n",
              "                    ).then(function(){\n",
              "                            \n",
              "var gd = document.getElementById('7a8cfd0b-dd74-44b4-aded-190832ffa4b4');\n",
              "var x = new MutationObserver(function (mutations, observer) {{\n",
              "        var display = window.getComputedStyle(gd).display;\n",
              "        if (!display || display === 'none') {{\n",
              "            console.log([gd, 'removed!']);\n",
              "            Plotly.purge(gd);\n",
              "            observer.disconnect();\n",
              "        }}\n",
              "}});\n",
              "\n",
              "// Listen for the removal of the full notebook cells\n",
              "var notebookContainer = gd.closest('#notebook-container');\n",
              "if (notebookContainer) {{\n",
              "    x.observe(notebookContainer, {childList: true});\n",
              "}}\n",
              "\n",
              "// Listen for the clearing of the current output cell\n",
              "var outputEl = gd.closest('.output');\n",
              "if (outputEl) {{\n",
              "    x.observe(outputEl, {childList: true});\n",
              "}}\n",
              "\n",
              "                        })\n",
              "                };\n",
              "                \n",
              "            </script>\n",
              "        </div>\n",
              "</body>\n",
              "</html>"
            ]
          },
          "metadata": {
            "tags": []
          }
        }
      ]
    },
    {
      "cell_type": "markdown",
      "metadata": {
        "id": "dIkELUf-fqxV",
        "colab_type": "text"
      },
      "source": [
        "## <a id='3.2'>3.2. Matrices de Confusión para los Modelos</a>\n",
        "\n",
        "Son visualizadas la Matrices de Confusión para los todos los modelos implementados."
      ]
    },
    {
      "cell_type": "code",
      "metadata": {
        "id": "-Yx5_iP3fqxW",
        "colab_type": "code",
        "outputId": "ec1e8e8f-c83b-482f-d3c6-128e4dccea3f",
        "colab": {
          "base_uri": "https://localhost:8080/",
          "height": 902
        }
      },
      "source": [
        "l_modelos = ['adadelta','adagrad','adam','adamax','nadam','rmsprop',\n",
        "             'sgd_01','sgd_02']\n",
        "\n",
        "lst    = [logit,logit_smote,xgc,lgbm_c,bbc,\n",
        "          modelo_adadelta, modelo_adagrad, modelo_adam, modelo_adamax,\n",
        "          modelo_adamax_02,modelo_nadam, modelo_rmsprop, modelo_sgd_01,\n",
        "          modelo_sgd_02,clf]\n",
        "\n",
        "length = len(lst)\n",
        "\n",
        "mods   = ['Logistic Regression','Logistic Regression(SMOTE)',\n",
        "          'XGBoost Classifier','LGBM Classifier','Balanced Bagging Classifier',\n",
        "          'Keras_NN_Adadelta','Keras_NN_adagrad','Keras_NN_adam',\n",
        "          'Keras_NN_adamax','Keras_NN_adamax_02','Keras_NN_nadam','Keras_NN_rmsprop',\n",
        "          'Keras_NN_sgd_01', 'Keras_NN_sgd_02','MLPClassifier']\n",
        "\n",
        "fig = plt.figure(figsize=(16,16))\n",
        "fig.set_facecolor(\"#F3F3F3\")\n",
        "for i,j,k in itertools.zip_longest(lst,range(length),mods) :\n",
        "    plt.subplot(4,4,j+1)\n",
        "    if   (j+1) <  6:\n",
        "      predictions = i.predict(test_X)\n",
        "      conf_matrix = confusion_matrix(predictions,test_Y)\n",
        "    elif (j+1) < 14:\n",
        "      predictions = i.predict_classes(X_test_,batch_size=32, verbose = 0)\n",
        "      conf_matrix = confusion_matrix(predictions,np.argmax(y_test_, axis=1))\n",
        "    else           :\n",
        "      predictions = clf.predict(X_test_)\n",
        "      conf_matrix = confusion_matrix(predictions.dot(clf.classes_),np.argmax(y_test_, axis=1))[:3,:3]\n",
        "    sns.heatmap(conf_matrix,annot=True,fmt = \"d\",square = True,\n",
        "                xticklabels=[\"Ok\",\"Ok, repairs\",\"Non Ok\"],\n",
        "                yticklabels=[\"Ok\",\"Ok, repairs\",\"Non Ok\"],\n",
        "                linewidths = 2,linecolor = \"w\",cmap = \"Set1\")\n",
        "    plt.title(k,color = \"b\")\n",
        "    plt.subplots_adjust(wspace = .3,hspace = .3)"
      ],
      "execution_count": 27,
      "outputs": [
        {
          "output_type": "display_data",
          "data": {
            "image/png": "[encoded data removed]",
            "text/plain": [
              "<Figure size 1152x1152 with 30 Axes>"
            ]
          },
          "metadata": {
            "tags": []
          }
        }
      ]
    },
    {
      "cell_type": "markdown",
      "metadata": {
        "id": "_7wKGmXcfqxj",
        "colab_type": "text"
      },
      "source": [
        "# <a id='4'>4. Conclusión</a>\n",
        "\n",
        "Como resultado de este desarrollo, se tiene que los modelos predictivos del estado de funcionamiento de las Bombas de agua en Tanzania van de mejor a menor Accuracity_score, desde un 83,21% hasta un 44,70%.  El mejor Accuracity_score es logrado mediante el modelado predictivo usando \"Balanced Bagging Classifier\", que es un poco mejor que el resultado obtenido con el XGBoost Classifier.\n",
        "\n",
        "A continuación el listado de mejor a menor Accuracity_score, para los modelos predictivos implementados:\n",
        "\n",
        "\n",
        "* Balanced Bagging Classifier\n",
        "* XGBoost Classifier\n",
        "* LGBM Classifier\n",
        "* Logistic Regression\n",
        "* Logistic Regression(SMOTE)\n",
        "\n",
        "La recomendación es entonces usar el modelo predictivo del estado de funcionamiento de las bombas, usando el Balanced Bagging Classifier.\n"
      ]
    }
  ]
}